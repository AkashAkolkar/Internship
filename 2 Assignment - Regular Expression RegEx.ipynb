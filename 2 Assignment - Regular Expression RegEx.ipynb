{
 "cells": [
  {
   "cell_type": "markdown",
   "id": "6155ee9e",
   "metadata": {},
   "source": [
    "# Assignment 2 - Regular Expression RegEx"
   ]
  },
  {
   "cell_type": "markdown",
   "id": "8b8319a3",
   "metadata": {},
   "source": [
    "# 1"
   ]
  },
  {
   "cell_type": "code",
   "execution_count": 1,
   "id": "b8f14bdb",
   "metadata": {},
   "outputs": [],
   "source": [
    "import regex as re"
   ]
  },
  {
   "cell_type": "code",
   "execution_count": 2,
   "id": "756b671e",
   "metadata": {},
   "outputs": [
    {
     "data": {
      "text/plain": [
       "['a', 'k', 's', '1', '2', 's', 'h', 'D', 'H', 'A']"
      ]
     },
     "execution_count": 2,
     "metadata": {},
     "output_type": "execute_result"
    }
   ],
   "source": [
    "string = \"aks12shDHA\"\n",
    "result = re.findall(r'[a-zA-Z0-9]',string)\n",
    "result"
   ]
  },
  {
   "cell_type": "code",
   "execution_count": 3,
   "id": "8fe2dc47",
   "metadata": {},
   "outputs": [
    {
     "data": {
      "text/plain": [
       "['1', '2']"
      ]
     },
     "execution_count": 3,
     "metadata": {},
     "output_type": "execute_result"
    }
   ],
   "source": [
    "string = \"aks12shDHA\"\n",
    "result = re.findall(r'[0-9]',string)\n",
    "result"
   ]
  },
  {
   "cell_type": "code",
   "execution_count": 4,
   "id": "4658682e",
   "metadata": {},
   "outputs": [
    {
     "data": {
      "text/plain": [
       "['D', 'H', 'A']"
      ]
     },
     "execution_count": 4,
     "metadata": {},
     "output_type": "execute_result"
    }
   ],
   "source": [
    "string = \"aks12shDHA\"\n",
    "result = re.findall(r'[A-Z]',string)\n",
    "result"
   ]
  },
  {
   "cell_type": "code",
   "execution_count": 5,
   "id": "8f1cf5b1",
   "metadata": {},
   "outputs": [
    {
     "data": {
      "text/plain": [
       "['a', 'k', 's', 's', 'h']"
      ]
     },
     "execution_count": 5,
     "metadata": {},
     "output_type": "execute_result"
    }
   ],
   "source": [
    "string = \"aks12shDHA\"\n",
    "result = re.findall(r'[a-z]',string)\n",
    "result"
   ]
  },
  {
   "cell_type": "code",
   "execution_count": null,
   "id": "21c9f4cb",
   "metadata": {},
   "outputs": [],
   "source": []
  },
  {
   "cell_type": "markdown",
   "id": "9e1d8a01",
   "metadata": {},
   "source": [
    "# 2"
   ]
  },
  {
   "cell_type": "code",
   "execution_count": 6,
   "id": "dc5f96ac",
   "metadata": {},
   "outputs": [
    {
     "name": "stdout",
     "output_type": "stream",
     "text": [
      "['a', 'a']\n"
     ]
    }
   ],
   "source": [
    "text = \"all the best for exams\"\n",
    "res = re.findall('ab*',  text)\n",
    "print(res)"
   ]
  },
  {
   "cell_type": "code",
   "execution_count": null,
   "id": "aae35a25",
   "metadata": {},
   "outputs": [],
   "source": []
  },
  {
   "cell_type": "markdown",
   "id": "755f0885",
   "metadata": {},
   "source": [
    "# 3"
   ]
  },
  {
   "cell_type": "code",
   "execution_count": null,
   "id": "4c083d6c",
   "metadata": {},
   "outputs": [],
   "source": []
  },
  {
   "cell_type": "code",
   "execution_count": 7,
   "id": "0a5c79d0",
   "metadata": {},
   "outputs": [
    {
     "name": "stdout",
     "output_type": "stream",
     "text": [
      "['a', 'a', 'a', 'a']\n"
     ]
    }
   ],
   "source": [
    "text = 'Virat is a Indian athlete'\n",
    "result = re.findall('a+',text)\n",
    "print(result)"
   ]
  },
  {
   "cell_type": "code",
   "execution_count": null,
   "id": "9ae41c2f",
   "metadata": {},
   "outputs": [],
   "source": []
  },
  {
   "cell_type": "markdown",
   "id": "0876e744",
   "metadata": {},
   "source": [
    "# 4"
   ]
  },
  {
   "cell_type": "code",
   "execution_count": 8,
   "id": "fa7d0945",
   "metadata": {},
   "outputs": [
    {
     "name": "stdout",
     "output_type": "stream",
     "text": [
      "a\n"
     ]
    }
   ],
   "source": [
    "text = 'aabbbc'\n",
    "result = re.match('\\w?',text)\n",
    "print(result.group())"
   ]
  },
  {
   "cell_type": "code",
   "execution_count": null,
   "id": "62ee3a9c",
   "metadata": {},
   "outputs": [],
   "source": []
  },
  {
   "cell_type": "markdown",
   "id": "e99fcacd",
   "metadata": {},
   "source": [
    "# 5"
   ]
  },
  {
   "cell_type": "code",
   "execution_count": 9,
   "id": "0b4db5c3",
   "metadata": {},
   "outputs": [
    {
     "name": "stdout",
     "output_type": "stream",
     "text": [
      "aaa\n"
     ]
    }
   ],
   "source": [
    "text = 'aaaabbbc'\n",
    "result = re.match('a{3}?',text)\n",
    "print(result.group())"
   ]
  },
  {
   "cell_type": "code",
   "execution_count": null,
   "id": "3a0ab087",
   "metadata": {},
   "outputs": [],
   "source": []
  },
  {
   "cell_type": "markdown",
   "id": "b092ddd5",
   "metadata": {},
   "source": [
    "# 6"
   ]
  },
  {
   "cell_type": "code",
   "execution_count": 10,
   "id": "32f4f5a8",
   "metadata": {},
   "outputs": [
    {
     "name": "stdout",
     "output_type": "stream",
     "text": [
      "['Importance', 'Of', 'Regular', 'Expressions', 'In', 'Python']\n"
     ]
    }
   ],
   "source": [
    "text = \"ImportanceOfRegularExpressionsInPython\"\n",
    "res = re.findall('[A-Z][^A-Z]*', text)\n",
    "print(res)"
   ]
  },
  {
   "cell_type": "code",
   "execution_count": null,
   "id": "02fb8384",
   "metadata": {},
   "outputs": [],
   "source": []
  },
  {
   "cell_type": "markdown",
   "id": "f010dfc5",
   "metadata": {},
   "source": [
    "# 7"
   ]
  },
  {
   "cell_type": "code",
   "execution_count": 14,
   "id": "cd7f846c",
   "metadata": {},
   "outputs": [
    {
     "name": "stdout",
     "output_type": "stream",
     "text": [
      "abbb\n"
     ]
    }
   ],
   "source": [
    "a=\"aabbbbbc\" \n",
    "result = re.search('ab{2,3}',a)\n",
    "\n",
    "print(result.group())"
   ]
  },
  {
   "cell_type": "markdown",
   "id": "5dd7c00d",
   "metadata": {},
   "source": [
    "# 8"
   ]
  },
  {
   "cell_type": "code",
   "execution_count": 19,
   "id": "352e0ebd",
   "metadata": {},
   "outputs": [
    {
     "name": "stdout",
     "output_type": "stream",
     "text": [
      "working_as\n"
     ]
    }
   ],
   "source": [
    "a = \"working_as\"\n",
    "res = re.search('^[a-z]+_[a-z]+$',a)\n",
    "print(res.group())"
   ]
  },
  {
   "cell_type": "code",
   "execution_count": null,
   "id": "6088934c",
   "metadata": {},
   "outputs": [],
   "source": []
  },
  {
   "cell_type": "markdown",
   "id": "654f218a",
   "metadata": {},
   "source": [
    "# 9"
   ]
  },
  {
   "cell_type": "code",
   "execution_count": 20,
   "id": "b133efec",
   "metadata": {},
   "outputs": [
    {
     "name": "stdout",
     "output_type": "stream",
     "text": [
      "aim to the bulb\n"
     ]
    }
   ],
   "source": [
    "text = \"aim to the bulb\"\n",
    "res=re.match('a.*?b$',  text)\n",
    "print(res.group())\n"
   ]
  },
  {
   "cell_type": "code",
   "execution_count": null,
   "id": "37ea7dc6",
   "metadata": {},
   "outputs": [],
   "source": []
  },
  {
   "cell_type": "markdown",
   "id": "1ded90bc",
   "metadata": {},
   "source": [
    "# 10"
   ]
  },
  {
   "cell_type": "code",
   "execution_count": 138,
   "id": "0864ed3b",
   "metadata": {},
   "outputs": [
    {
     "name": "stdout",
     "output_type": "stream",
     "text": [
      "aim\n"
     ]
    }
   ],
   "source": [
    "text = \"aim to the bulb\"\n",
    "res=re.search('^\\w+',  text)\n",
    "print(res.group())\n"
   ]
  },
  {
   "cell_type": "code",
   "execution_count": null,
   "id": "648cc917",
   "metadata": {},
   "outputs": [],
   "source": []
  },
  {
   "cell_type": "markdown",
   "id": "a3da8557",
   "metadata": {},
   "source": [
    "# 11"
   ]
  },
  {
   "cell_type": "code",
   "execution_count": 139,
   "id": "092fc906",
   "metadata": {},
   "outputs": [
    {
     "name": "stdout",
     "output_type": "stream",
     "text": [
      "Virat_kohli_scored_102\n"
     ]
    }
   ],
   "source": [
    "text = \"Virat_kohli_scored_102\"\n",
    "res=re.search('^[a-zA-Z0-9_]*$',  text)\n",
    "print(res.group())\n"
   ]
  },
  {
   "cell_type": "code",
   "execution_count": null,
   "id": "fae66c1d",
   "metadata": {},
   "outputs": [],
   "source": []
  },
  {
   "cell_type": "markdown",
   "id": "ea2e74da",
   "metadata": {},
   "source": [
    "# 12"
   ]
  },
  {
   "cell_type": "code",
   "execution_count": 140,
   "id": "9a537305",
   "metadata": {},
   "outputs": [
    {
     "name": "stdout",
     "output_type": "stream",
     "text": [
      "7\n"
     ]
    }
   ],
   "source": [
    "text = \"77856 is security code\"\n",
    "res=re.match(\"^7\",  text)\n",
    "print(res.group())\n"
   ]
  },
  {
   "cell_type": "code",
   "execution_count": null,
   "id": "65626cd7",
   "metadata": {},
   "outputs": [],
   "source": []
  },
  {
   "cell_type": "markdown",
   "id": "926850ae",
   "metadata": {},
   "source": [
    "# 13"
   ]
  },
  {
   "cell_type": "code",
   "execution_count": 141,
   "id": "edaf7362",
   "metadata": {},
   "outputs": [
    {
     "name": "stdout",
     "output_type": "stream",
     "text": [
      "453.78.254.189\n"
     ]
    }
   ],
   "source": [
    "ip = \"453.78.254.189\"\n",
    "ans = re.sub('\\.[0]*', '.', ip)\n",
    "print(ans)"
   ]
  },
  {
   "cell_type": "code",
   "execution_count": null,
   "id": "305fb2eb",
   "metadata": {},
   "outputs": [],
   "source": []
  },
  {
   "cell_type": "markdown",
   "id": "5207ed61",
   "metadata": {},
   "source": [
    "# 14"
   ]
  },
  {
   "cell_type": "code",
   "execution_count": 143,
   "id": "5e63fab7",
   "metadata": {},
   "outputs": [
    {
     "ename": "SyntaxError",
     "evalue": "EOL while scanning string literal (1545887798.py, line 1)",
     "output_type": "error",
     "traceback": [
      "\u001b[1;36m  File \u001b[1;32m\"C:\\Users\\jack9\\AppData\\Local\\Temp\\ipykernel_5052\\1545887798.py\"\u001b[1;36m, line \u001b[1;32m1\u001b[0m\n\u001b[1;33m    text = ' On August 15th 1947 that India was declared independent from British colonialism, and the reins of control were handed over to the leaders of the Country’\u001b[0m\n\u001b[1;37m                                                                                                                                                                       ^\u001b[0m\n\u001b[1;31mSyntaxError\u001b[0m\u001b[1;31m:\u001b[0m EOL while scanning string literal\n"
     ]
    }
   ],
   "source": [
    "text = ' On August 15th 1947 that India was declared independent from British colonialism, and the reins of control were handed over to the leaders of the Country’\n",
    "    "
   ]
  },
  {
   "cell_type": "code",
   "execution_count": null,
   "id": "5688f707",
   "metadata": {},
   "outputs": [],
   "source": []
  },
  {
   "cell_type": "markdown",
   "id": "fc21f7e1",
   "metadata": {},
   "source": [
    "# 15"
   ]
  },
  {
   "cell_type": "code",
   "execution_count": 144,
   "id": "cfd4a76e",
   "metadata": {},
   "outputs": [
    {
     "name": "stdout",
     "output_type": "stream",
     "text": [
      "fox\n"
     ]
    }
   ],
   "source": [
    "Sample_text = 'The quick brown fox jumps over the lazy dog'\n",
    "res = re.search('fox|dog|horse', Sample_text)\n",
    "print(res.group())"
   ]
  },
  {
   "cell_type": "code",
   "execution_count": null,
   "id": "b49de873",
   "metadata": {},
   "outputs": [],
   "source": []
  },
  {
   "cell_type": "markdown",
   "id": "15fc3350",
   "metadata": {},
   "source": [
    "# 16"
   ]
  },
  {
   "cell_type": "code",
   "execution_count": 145,
   "id": "4847a163",
   "metadata": {},
   "outputs": [
    {
     "name": "stdout",
     "output_type": "stream",
     "text": [
      "fox 16\n"
     ]
    }
   ],
   "source": [
    "Sample_text = 'The quick brown fox jumps over the lazy dog'\n",
    "res = re.search('fox',Sample_text)\n",
    "print(res.group(),res.start())"
   ]
  },
  {
   "cell_type": "code",
   "execution_count": null,
   "id": "bf9382bf",
   "metadata": {},
   "outputs": [],
   "source": []
  },
  {
   "cell_type": "markdown",
   "id": "0db5b281",
   "metadata": {},
   "source": [
    "# 17"
   ]
  },
  {
   "cell_type": "code",
   "execution_count": 146,
   "id": "171f946d",
   "metadata": {},
   "outputs": [
    {
     "name": "stdout",
     "output_type": "stream",
     "text": [
      "['exercises', 'exercises', 'exercises']\n"
     ]
    }
   ],
   "source": [
    "string = 'Python exercises, PHP exercises, C# exercises'\n",
    "res = re.findall('exercises', my_string)\n",
    "print(res)"
   ]
  },
  {
   "cell_type": "code",
   "execution_count": null,
   "id": "761ace33",
   "metadata": {},
   "outputs": [],
   "source": []
  },
  {
   "cell_type": "markdown",
   "id": "29e8c742",
   "metadata": {},
   "source": [
    "# 18"
   ]
  },
  {
   "cell_type": "code",
   "execution_count": 147,
   "id": "02028b43",
   "metadata": {},
   "outputs": [
    {
     "name": "stdout",
     "output_type": "stream",
     "text": [
      "(7, 16)\n"
     ]
    }
   ],
   "source": [
    "string = 'Python exercises, PHP exercises, C# exercises'\n",
    "res = re.search('exercises', my_string)\n",
    "print(res.span())"
   ]
  },
  {
   "cell_type": "code",
   "execution_count": null,
   "id": "8908d660",
   "metadata": {},
   "outputs": [],
   "source": []
  },
  {
   "cell_type": "markdown",
   "id": "f76f682c",
   "metadata": {},
   "source": [
    "# 19"
   ]
  },
  {
   "cell_type": "code",
   "execution_count": 148,
   "id": "0c28c568",
   "metadata": {},
   "outputs": [
    {
     "name": "stdout",
     "output_type": "stream",
     "text": [
      "05-07-2023\n"
     ]
    }
   ],
   "source": [
    "date = \"2023-07-05\"\n",
    "ret = re.sub(r'(\\d{4})-(\\d{1,2})-(\\d{1,2})', '\\\\3-\\\\2-\\\\1', date)\n",
    "print(ret)"
   ]
  },
  {
   "cell_type": "code",
   "execution_count": null,
   "id": "6926ba32",
   "metadata": {},
   "outputs": [],
   "source": []
  },
  {
   "cell_type": "markdown",
   "id": "47bc89de",
   "metadata": {},
   "source": [
    "# 20"
   ]
  },
  {
   "cell_type": "code",
   "execution_count": 149,
   "id": "8c317acb",
   "metadata": {},
   "outputs": [
    {
     "name": "stdout",
     "output_type": "stream",
     "text": [
      "['er', 'amming', 'anguage', 'en', 'ed', 'ebsites', 'and', 'are']\n"
     ]
    }
   ],
   "source": [
    "text = \"Python is a computer programming language often used to build websites and software\"\n",
    "list = re.findall(\"[ae]\\w+\", text)\n",
    "print(list)"
   ]
  },
  {
   "cell_type": "code",
   "execution_count": null,
   "id": "d92eb032",
   "metadata": {},
   "outputs": [],
   "source": []
  },
  {
   "cell_type": "markdown",
   "id": "702a4da1",
   "metadata": {},
   "source": [
    "# 21"
   ]
  },
  {
   "cell_type": "code",
   "execution_count": 150,
   "id": "db9c6ef2",
   "metadata": {},
   "outputs": [
    {
     "name": "stdout",
     "output_type": "stream",
     "text": [
      "79 13\n"
     ]
    }
   ],
   "source": [
    "text = \"Dhoni scored 79 runs in his last match\"\n",
    "res = re.search(\"\\d+\", text)\n",
    "print(res.group(),res.start())"
   ]
  },
  {
   "cell_type": "code",
   "execution_count": null,
   "id": "1160bfba",
   "metadata": {},
   "outputs": [],
   "source": []
  },
  {
   "cell_type": "markdown",
   "id": "11fb1255",
   "metadata": {},
   "source": [
    "# 22"
   ]
  },
  {
   "cell_type": "code",
   "execution_count": 151,
   "id": "c954ce97",
   "metadata": {},
   "outputs": [
    {
     "name": "stdout",
     "output_type": "stream",
     "text": [
      "Max_value: 500\n"
     ]
    }
   ],
   "source": [
    "string='1m3c385cf500udc4'\n",
    "num1 = re.findall('\\d+', string)\n",
    "num2 = map(int, num1)\n",
    "print(\"Max_value:\",max(num2))"
   ]
  },
  {
   "cell_type": "code",
   "execution_count": null,
   "id": "46d8ce14",
   "metadata": {},
   "outputs": [],
   "source": []
  },
  {
   "cell_type": "markdown",
   "id": "77e1a9a8",
   "metadata": {},
   "source": [
    "# 23"
   ]
  },
  {
   "cell_type": "code",
   "execution_count": 152,
   "id": "1a1afecb",
   "metadata": {},
   "outputs": [
    {
     "name": "stdout",
     "output_type": "stream",
     "text": [
      "Importance Of Regular Expressions In Python\n"
     ]
    }
   ],
   "source": [
    "string = \"ImportanceOfRegularExpressionsInPython\"\n",
    "res = re.sub(r\"(\\w)([A-Z])\", r\"\\1 \\2\", string)\n",
    "print(res)"
   ]
  },
  {
   "cell_type": "code",
   "execution_count": null,
   "id": "a57c8d2e",
   "metadata": {},
   "outputs": [],
   "source": []
  },
  {
   "cell_type": "markdown",
   "id": "47a7e95b",
   "metadata": {},
   "source": [
    "# 24"
   ]
  },
  {
   "cell_type": "code",
   "execution_count": 153,
   "id": "354f6e1c",
   "metadata": {},
   "outputs": [
    {
     "name": "stdout",
     "output_type": "stream",
     "text": [
      "matched\n"
     ]
    }
   ],
   "source": [
    "text = \"Python\"\n",
    "if re.search('[A-Z]+[a-z]+$', text):\n",
    "    print('matched')\n",
    "else:\n",
    "    print('Not matched')"
   ]
  },
  {
   "cell_type": "code",
   "execution_count": null,
   "id": "d5d00d2a",
   "metadata": {},
   "outputs": [],
   "source": []
  },
  {
   "cell_type": "markdown",
   "id": "5485c205",
   "metadata": {},
   "source": [
    "# 25"
   ]
  },
  {
   "cell_type": "code",
   "execution_count": 154,
   "id": "b8406584",
   "metadata": {},
   "outputs": [
    {
     "name": "stdout",
     "output_type": "stream",
     "text": [
      "Ram went to his home\n"
     ]
    }
   ],
   "source": [
    "str1 = \"Ram went went to to his home\"\n",
    "pattern = r\"\\b(\\w+)(?:\\W+\\1\\b)+\"\n",
    "re = re.sub(pattern, r'\\1', str1)\n",
    "print(re)"
   ]
  },
  {
   "cell_type": "code",
   "execution_count": null,
   "id": "d8141fb4",
   "metadata": {},
   "outputs": [],
   "source": []
  },
  {
   "cell_type": "markdown",
   "id": "6d52b4a6",
   "metadata": {},
   "source": [
    "# 26"
   ]
  },
  {
   "cell_type": "code",
   "execution_count": null,
   "id": "d3d29ea6",
   "metadata": {},
   "outputs": [],
   "source": []
  },
  {
   "cell_type": "code",
   "execution_count": null,
   "id": "16d5e1ec",
   "metadata": {},
   "outputs": [],
   "source": [
    "string = \"Tutorialspoint123\"\n",
    "rr = re.match('^[a-zA-z0-9]+$', string)\n",
    "print(rr)"
   ]
  },
  {
   "cell_type": "code",
   "execution_count": null,
   "id": "705896e7",
   "metadata": {},
   "outputs": [],
   "source": []
  }
 ],
 "metadata": {
  "kernelspec": {
   "display_name": "Python 3 (ipykernel)",
   "language": "python",
   "name": "python3"
  },
  "language_info": {
   "codemirror_mode": {
    "name": "ipython",
    "version": 3
   },
   "file_extension": ".py",
   "mimetype": "text/x-python",
   "name": "python",
   "nbconvert_exporter": "python",
   "pygments_lexer": "ipython3",
   "version": "3.9.13"
  }
 },
 "nbformat": 4,
 "nbformat_minor": 5
}
