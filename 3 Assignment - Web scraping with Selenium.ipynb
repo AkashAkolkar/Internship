{
 "cells": [
  {
   "cell_type": "code",
   "execution_count": null,
   "id": "feafc508",
   "metadata": {},
   "outputs": [],
   "source": [
    "!pip install selenium"
   ]
  },
  {
   "cell_type": "code",
   "execution_count": 1,
   "id": "6ee90beb",
   "metadata": {},
   "outputs": [],
   "source": [
    "import selenium                                  \n",
    "\n",
    "from selenium import webdriver                   \n",
    "\n",
    "import pandas as pd                              \n",
    "\n",
    "from selenium.webdriver.common.by import By      \n",
    "\n",
    "import warnings                                  \n",
    "\n",
    "warnings.filterwarnings(\"ignore\")\n",
    "\n",
    "import time"
   ]
  },
  {
   "cell_type": "code",
   "execution_count": null,
   "id": "700af610",
   "metadata": {},
   "outputs": [],
   "source": []
  },
  {
   "cell_type": "markdown",
   "id": "b8a0f0bb",
   "metadata": {},
   "source": [
    "# 1"
   ]
  },
  {
   "cell_type": "code",
   "execution_count": null,
   "id": "586c2828",
   "metadata": {},
   "outputs": [],
   "source": [
    "driver = webdriver.Chrome()\n",
    "\n",
    "driver.get(\"https://www.naukri.com/\")"
   ]
  },
  {
   "cell_type": "code",
   "execution_count": null,
   "id": "64b29b55",
   "metadata": {},
   "outputs": [],
   "source": []
  },
  {
   "cell_type": "code",
   "execution_count": null,
   "id": "9e6cf646",
   "metadata": {},
   "outputs": [],
   "source": [
    "designation=driver.find_element(By.CLASS_NAME,\"suggestor-input\")\n",
    "designation.send_keys('Data Analyst')"
   ]
  },
  {
   "cell_type": "code",
   "execution_count": null,
   "id": "f12e324b",
   "metadata": {},
   "outputs": [],
   "source": [
    "location=driver.find_element(By.XPATH,\"/html/body/div[1]/div[7]/div/div/div[5]/div/div/div/div[1]/div/input\")\n",
    "location.send_keys('Bangalore')"
   ]
  },
  {
   "cell_type": "code",
   "execution_count": null,
   "id": "ca518f1b",
   "metadata": {},
   "outputs": [],
   "source": [
    "search=driver.find_element(By.CLASS_NAME,'qsbSubmit')\n",
    "search.click()"
   ]
  },
  {
   "cell_type": "code",
   "execution_count": null,
   "id": "a133e21d",
   "metadata": {},
   "outputs": [],
   "source": []
  },
  {
   "cell_type": "code",
   "execution_count": 7,
   "id": "a26fd126",
   "metadata": {},
   "outputs": [],
   "source": [
    "job_title = []\n",
    "job_location = []\n",
    "company_name = []\n",
    "experience_required = []                            "
   ]
  },
  {
   "cell_type": "code",
   "execution_count": 8,
   "id": "93d3887c",
   "metadata": {},
   "outputs": [],
   "source": [
    "#Scraping job title from the given page\n",
    "title = driver.find_elements(By.XPATH,'//a[@class=\"title ellipsis\"]')\n",
    "for t in title[0:10]:\n",
    "    titles=t.text\n",
    "    job_title.append(titles)"
   ]
  },
  {
   "cell_type": "code",
   "execution_count": 10,
   "id": "d2c3bccd",
   "metadata": {},
   "outputs": [],
   "source": [
    "#Scraping job location from the given page\n",
    "locations = driver.find_elements(By.XPATH,'//span[@class=\"ellipsis fleft locWdth\"]')\n",
    "for l in locations[0:10]:\n",
    "    locations=l.text\n",
    "    job_location.append(locations)"
   ]
  },
  {
   "cell_type": "code",
   "execution_count": 11,
   "id": "11f421b1",
   "metadata": {},
   "outputs": [],
   "source": [
    "#Scraping job Company name from the given page    \n",
    "companies = driver.find_elements(By.XPATH,'//a[@class=\"subTitle ellipsis fleft\"]')\n",
    "for c in companies[0:10]:\n",
    "    companies=c.text\n",
    "    company_name.append(companies)"
   ]
  },
  {
   "cell_type": "code",
   "execution_count": 12,
   "id": "fc797cdd",
   "metadata": {},
   "outputs": [],
   "source": [
    "#Scraping job experience required from the given page \n",
    "experience = driver.find_elements(By.XPATH,'//span[@class=\"ellipsis fleft expwdth\"]')\n",
    "for e in experience[0:10]:\n",
    "    experience=e.text\n",
    "    experience_required.append(experience) "
   ]
  },
  {
   "cell_type": "code",
   "execution_count": 17,
   "id": "3a8821b7",
   "metadata": {},
   "outputs": [
    {
     "name": "stdout",
     "output_type": "stream",
     "text": [
      "10 10 10 10\n"
     ]
    }
   ],
   "source": [
    "print(len(job_title),len(job_location),len(company_name),len(experience_required))"
   ]
  },
  {
   "cell_type": "code",
   "execution_count": 18,
   "id": "90eb1ba6",
   "metadata": {},
   "outputs": [],
   "source": [
    "df=pd.DataFrame({'Title':job_title,'Location':job_location,'Company':company_name,'Experience':experience_required})"
   ]
  },
  {
   "cell_type": "code",
   "execution_count": 19,
   "id": "7ea14d7f",
   "metadata": {},
   "outputs": [
    {
     "data": {
      "text/html": [
       "<div>\n",
       "<style scoped>\n",
       "    .dataframe tbody tr th:only-of-type {\n",
       "        vertical-align: middle;\n",
       "    }\n",
       "\n",
       "    .dataframe tbody tr th {\n",
       "        vertical-align: top;\n",
       "    }\n",
       "\n",
       "    .dataframe thead th {\n",
       "        text-align: right;\n",
       "    }\n",
       "</style>\n",
       "<table border=\"1\" class=\"dataframe\">\n",
       "  <thead>\n",
       "    <tr style=\"text-align: right;\">\n",
       "      <th></th>\n",
       "      <th>Title</th>\n",
       "      <th>Location</th>\n",
       "      <th>Company</th>\n",
       "      <th>Experience</th>\n",
       "    </tr>\n",
       "  </thead>\n",
       "  <tbody>\n",
       "    <tr>\n",
       "      <th>0</th>\n",
       "      <td>Data Analyst</td>\n",
       "      <td>Bangalore/Bengaluru</td>\n",
       "      <td>Eastvantage</td>\n",
       "      <td>4-6 Yrs</td>\n",
       "    </tr>\n",
       "    <tr>\n",
       "      <th>1</th>\n",
       "      <td>Data Analyst</td>\n",
       "      <td>Bangalore/ Bengaluru, Karnataka, Gurgaon/ Guru...</td>\n",
       "      <td>Delhivery</td>\n",
       "      <td>1-3 Yrs</td>\n",
       "    </tr>\n",
       "    <tr>\n",
       "      <th>2</th>\n",
       "      <td>Data Analyst</td>\n",
       "      <td>Bangalore/Bengaluru</td>\n",
       "      <td>Everest Vacuum</td>\n",
       "      <td>2-5 Yrs</td>\n",
       "    </tr>\n",
       "    <tr>\n",
       "      <th>3</th>\n",
       "      <td>Data Analyst</td>\n",
       "      <td>Bangalore/Bengaluru, Kolkata, Mumbai, New Delh...</td>\n",
       "      <td>Volvo Financial Services</td>\n",
       "      <td>3-5 Yrs</td>\n",
       "    </tr>\n",
       "    <tr>\n",
       "      <th>4</th>\n",
       "      <td>Data Analyst</td>\n",
       "      <td>Bangalore/Bengaluru, Hyderabad/Secunderabad, Pune</td>\n",
       "      <td>Synechron</td>\n",
       "      <td>5-8 Yrs</td>\n",
       "    </tr>\n",
       "    <tr>\n",
       "      <th>5</th>\n",
       "      <td>Data Analyst</td>\n",
       "      <td>Bangalore/Bengaluru, Hyderabad/Secunderabad, Pune</td>\n",
       "      <td>Synchron Infotech</td>\n",
       "      <td>5-8 Yrs</td>\n",
       "    </tr>\n",
       "    <tr>\n",
       "      <th>6</th>\n",
       "      <td>Data Analyst</td>\n",
       "      <td>Bangalore/Bengaluru, Kolkata, Mumbai, New Delh...</td>\n",
       "      <td>Volvo Financial Services</td>\n",
       "      <td>2-4 Yrs</td>\n",
       "    </tr>\n",
       "    <tr>\n",
       "      <th>7</th>\n",
       "      <td>Data Analyst</td>\n",
       "      <td>Bangalore/Bengaluru</td>\n",
       "      <td>ANZ</td>\n",
       "      <td>1-5 Yrs</td>\n",
       "    </tr>\n",
       "    <tr>\n",
       "      <th>8</th>\n",
       "      <td>Data Analyst I</td>\n",
       "      <td>Bangalore/Bengaluru</td>\n",
       "      <td>Cerner</td>\n",
       "      <td>5-10 Yrs</td>\n",
       "    </tr>\n",
       "    <tr>\n",
       "      <th>9</th>\n",
       "      <td>Data Analyst</td>\n",
       "      <td>Bangalore/Bengaluru</td>\n",
       "      <td>Persolkelly India</td>\n",
       "      <td>0-2 Yrs</td>\n",
       "    </tr>\n",
       "  </tbody>\n",
       "</table>\n",
       "</div>"
      ],
      "text/plain": [
       "            Title                                           Location  \\\n",
       "0    Data Analyst                                Bangalore/Bengaluru   \n",
       "1    Data Analyst  Bangalore/ Bengaluru, Karnataka, Gurgaon/ Guru...   \n",
       "2    Data Analyst                                Bangalore/Bengaluru   \n",
       "3    Data Analyst  Bangalore/Bengaluru, Kolkata, Mumbai, New Delh...   \n",
       "4    Data Analyst  Bangalore/Bengaluru, Hyderabad/Secunderabad, Pune   \n",
       "5    Data Analyst  Bangalore/Bengaluru, Hyderabad/Secunderabad, Pune   \n",
       "6    Data Analyst  Bangalore/Bengaluru, Kolkata, Mumbai, New Delh...   \n",
       "7    Data Analyst                                Bangalore/Bengaluru   \n",
       "8  Data Analyst I                                Bangalore/Bengaluru   \n",
       "9    Data Analyst                                Bangalore/Bengaluru   \n",
       "\n",
       "                    Company Experience  \n",
       "0               Eastvantage    4-6 Yrs  \n",
       "1                 Delhivery    1-3 Yrs  \n",
       "2            Everest Vacuum    2-5 Yrs  \n",
       "3  Volvo Financial Services    3-5 Yrs  \n",
       "4                 Synechron    5-8 Yrs  \n",
       "5         Synchron Infotech    5-8 Yrs  \n",
       "6  Volvo Financial Services    2-4 Yrs  \n",
       "7                       ANZ    1-5 Yrs  \n",
       "8                    Cerner   5-10 Yrs  \n",
       "9         Persolkelly India    0-2 Yrs  "
      ]
     },
     "execution_count": 19,
     "metadata": {},
     "output_type": "execute_result"
    }
   ],
   "source": [
    "df"
   ]
  },
  {
   "cell_type": "code",
   "execution_count": null,
   "id": "d2e8df34",
   "metadata": {},
   "outputs": [],
   "source": []
  },
  {
   "cell_type": "markdown",
   "id": "2ae34d97",
   "metadata": {},
   "source": [
    "# 2"
   ]
  },
  {
   "cell_type": "code",
   "execution_count": 36,
   "id": "1db4e6e0",
   "metadata": {},
   "outputs": [],
   "source": [
    "driver = webdriver.Chrome()\n",
    "\n",
    "driver.get(\"https://www.naukri.com/\")"
   ]
  },
  {
   "cell_type": "code",
   "execution_count": 37,
   "id": "4df7c725",
   "metadata": {},
   "outputs": [],
   "source": [
    "designations=driver.find_element(By.CLASS_NAME,\"suggestor-input\")\n",
    "designations.send_keys('Data Scientist')"
   ]
  },
  {
   "cell_type": "code",
   "execution_count": 38,
   "id": "190e2bb7",
   "metadata": {},
   "outputs": [],
   "source": [
    "locations=driver.find_element(By.XPATH,\"/html/body/div[1]/div[7]/div/div/div[5]/div/div/div/div[1]/div/input\")\n",
    "locations.send_keys('Bangalore')"
   ]
  },
  {
   "cell_type": "code",
   "execution_count": 39,
   "id": "e5fb524f",
   "metadata": {},
   "outputs": [],
   "source": [
    "search=driver.find_element(By.CLASS_NAME,'qsbSubmit')\n",
    "search.click()"
   ]
  },
  {
   "cell_type": "code",
   "execution_count": 40,
   "id": "3be57d8b",
   "metadata": {},
   "outputs": [],
   "source": [
    "jobs = []\n",
    "location = []\n",
    "company = []\n",
    "experiences= []  "
   ]
  },
  {
   "cell_type": "code",
   "execution_count": 41,
   "id": "9c8a095a",
   "metadata": {},
   "outputs": [],
   "source": [
    "jobs_tag = driver.find_elements(By.XPATH,'//a[@class=\"title ellipsis\"]')\n",
    "for i in jobs_tag[0:10]:\n",
    "    job=i.text\n",
    "    jobs.append(job)\n",
    "    \n",
    "locations_tag = driver.find_elements(By.XPATH,'//span[@class=\"ellipsis fleft locWdth\"]')\n",
    "for a in locations_tag[0:10]:\n",
    "    loc=a.text\n",
    "    location.append(loc)\n",
    "    \n",
    "companies_tag = driver.find_elements(By.XPATH,'//a[@class=\"subTitle ellipsis fleft\"]')\n",
    "for x in companies_tag[0:10]:\n",
    "    comp=x.text\n",
    "    company.append(comp)\n",
    "    \n",
    "experience_tag = driver.find_elements(By.XPATH,'//span[@class=\"ellipsis fleft expwdth\"]')\n",
    "for z in experience_tag[0:10]:\n",
    "    exp=z.text\n",
    "    experiences.append(exp)"
   ]
  },
  {
   "cell_type": "code",
   "execution_count": 33,
   "id": "cbb7ea8c",
   "metadata": {},
   "outputs": [],
   "source": []
  },
  {
   "cell_type": "code",
   "execution_count": 43,
   "id": "02eb8ac0",
   "metadata": {},
   "outputs": [
    {
     "name": "stdout",
     "output_type": "stream",
     "text": [
      "10 10 10 10\n"
     ]
    }
   ],
   "source": [
    "print(len(jobs),len(location),len(company),len(experiences))"
   ]
  },
  {
   "cell_type": "code",
   "execution_count": 44,
   "id": "2e870d34",
   "metadata": {},
   "outputs": [],
   "source": [
    "df1=pd.DataFrame({'Title':jobs,'Location':location,'Company':company,'Experience':experiences})"
   ]
  },
  {
   "cell_type": "code",
   "execution_count": 45,
   "id": "931549ca",
   "metadata": {},
   "outputs": [
    {
     "data": {
      "text/html": [
       "<div>\n",
       "<style scoped>\n",
       "    .dataframe tbody tr th:only-of-type {\n",
       "        vertical-align: middle;\n",
       "    }\n",
       "\n",
       "    .dataframe tbody tr th {\n",
       "        vertical-align: top;\n",
       "    }\n",
       "\n",
       "    .dataframe thead th {\n",
       "        text-align: right;\n",
       "    }\n",
       "</style>\n",
       "<table border=\"1\" class=\"dataframe\">\n",
       "  <thead>\n",
       "    <tr style=\"text-align: right;\">\n",
       "      <th></th>\n",
       "      <th>Title</th>\n",
       "      <th>Location</th>\n",
       "      <th>Company</th>\n",
       "      <th>Experience</th>\n",
       "    </tr>\n",
       "  </thead>\n",
       "  <tbody>\n",
       "    <tr>\n",
       "      <th>0</th>\n",
       "      <td>Data Science Specialist</td>\n",
       "      <td>Bangalore/Bengaluru, Kolkata, Mumbai, Hyderaba...</td>\n",
       "      <td>Accenture</td>\n",
       "      <td>2-4 Yrs</td>\n",
       "    </tr>\n",
       "    <tr>\n",
       "      <th>1</th>\n",
       "      <td>Data Scientist</td>\n",
       "      <td>Bangalore/Bengaluru, Mumbai (All Areas)</td>\n",
       "      <td>PwC</td>\n",
       "      <td>3-6 Yrs</td>\n",
       "    </tr>\n",
       "    <tr>\n",
       "      <th>2</th>\n",
       "      <td>Analystics &amp; Modeling Specialist</td>\n",
       "      <td>Bangalore/Bengaluru, Kolkata, Mumbai, Hyderaba...</td>\n",
       "      <td>Accenture</td>\n",
       "      <td>6-8 Yrs</td>\n",
       "    </tr>\n",
       "    <tr>\n",
       "      <th>3</th>\n",
       "      <td>Data Scientist -ML, DL, Python</td>\n",
       "      <td>Bangalore/Bengaluru</td>\n",
       "      <td>Capco</td>\n",
       "      <td>2-6 Yrs</td>\n",
       "    </tr>\n",
       "    <tr>\n",
       "      <th>4</th>\n",
       "      <td>DATA SCIENTIST</td>\n",
       "      <td>Bangalore/Bengaluru</td>\n",
       "      <td>Walmart</td>\n",
       "      <td>4-8 Yrs</td>\n",
       "    </tr>\n",
       "    <tr>\n",
       "      <th>5</th>\n",
       "      <td>Data Scientist</td>\n",
       "      <td>Hybrid - Bangalore/ Bengaluru, Karnataka, Noid...</td>\n",
       "      <td>HCLTech</td>\n",
       "      <td>7-12 Yrs</td>\n",
       "    </tr>\n",
       "    <tr>\n",
       "      <th>6</th>\n",
       "      <td>Data Scientist with Retail Domain</td>\n",
       "      <td>Bangalore/Bengaluru, Kolkata, Mumbai, Nagpur, ...</td>\n",
       "      <td>TRH Consultancy Services</td>\n",
       "      <td>4-9 Yrs</td>\n",
       "    </tr>\n",
       "    <tr>\n",
       "      <th>7</th>\n",
       "      <td>Data Scientist</td>\n",
       "      <td>Bangalore/Bengaluru, Noida, Kolkata, Mumbai, H...</td>\n",
       "      <td>TRH Consultancy Services</td>\n",
       "      <td>5-10 Yrs</td>\n",
       "    </tr>\n",
       "    <tr>\n",
       "      <th>8</th>\n",
       "      <td>Data Scientist</td>\n",
       "      <td>Bangalore/Bengaluru, Noida, Kolkata, Mumbai, H...</td>\n",
       "      <td>TRH Consultancy Services</td>\n",
       "      <td>5-10 Yrs</td>\n",
       "    </tr>\n",
       "    <tr>\n",
       "      <th>9</th>\n",
       "      <td>Data Scientist</td>\n",
       "      <td>Bangalore/Bengaluru, Noida, Kolkata, Mumbai, H...</td>\n",
       "      <td>TRH Consultancy Services</td>\n",
       "      <td>5-10 Yrs</td>\n",
       "    </tr>\n",
       "  </tbody>\n",
       "</table>\n",
       "</div>"
      ],
      "text/plain": [
       "                               Title  \\\n",
       "0            Data Science Specialist   \n",
       "1                     Data Scientist   \n",
       "2   Analystics & Modeling Specialist   \n",
       "3     Data Scientist -ML, DL, Python   \n",
       "4                     DATA SCIENTIST   \n",
       "5                     Data Scientist   \n",
       "6  Data Scientist with Retail Domain   \n",
       "7                     Data Scientist   \n",
       "8                     Data Scientist   \n",
       "9                     Data Scientist   \n",
       "\n",
       "                                            Location  \\\n",
       "0  Bangalore/Bengaluru, Kolkata, Mumbai, Hyderaba...   \n",
       "1            Bangalore/Bengaluru, Mumbai (All Areas)   \n",
       "2  Bangalore/Bengaluru, Kolkata, Mumbai, Hyderaba...   \n",
       "3                                Bangalore/Bengaluru   \n",
       "4                                Bangalore/Bengaluru   \n",
       "5  Hybrid - Bangalore/ Bengaluru, Karnataka, Noid...   \n",
       "6  Bangalore/Bengaluru, Kolkata, Mumbai, Nagpur, ...   \n",
       "7  Bangalore/Bengaluru, Noida, Kolkata, Mumbai, H...   \n",
       "8  Bangalore/Bengaluru, Noida, Kolkata, Mumbai, H...   \n",
       "9  Bangalore/Bengaluru, Noida, Kolkata, Mumbai, H...   \n",
       "\n",
       "                    Company Experience  \n",
       "0                 Accenture    2-4 Yrs  \n",
       "1                       PwC    3-6 Yrs  \n",
       "2                 Accenture    6-8 Yrs  \n",
       "3                     Capco    2-6 Yrs  \n",
       "4                   Walmart    4-8 Yrs  \n",
       "5                   HCLTech   7-12 Yrs  \n",
       "6  TRH Consultancy Services    4-9 Yrs  \n",
       "7  TRH Consultancy Services   5-10 Yrs  \n",
       "8  TRH Consultancy Services   5-10 Yrs  \n",
       "9  TRH Consultancy Services   5-10 Yrs  "
      ]
     },
     "execution_count": 45,
     "metadata": {},
     "output_type": "execute_result"
    }
   ],
   "source": [
    "df1"
   ]
  },
  {
   "cell_type": "code",
   "execution_count": null,
   "id": "0755920e",
   "metadata": {},
   "outputs": [],
   "source": []
  },
  {
   "cell_type": "markdown",
   "id": "24cb8450",
   "metadata": {},
   "source": [
    "# 3"
   ]
  },
  {
   "cell_type": "code",
   "execution_count": 54,
   "id": "82100c97",
   "metadata": {},
   "outputs": [],
   "source": [
    "driver = webdriver.Chrome()\n",
    "\n",
    "driver.get(\"https://www.naukri.com/\")"
   ]
  },
  {
   "cell_type": "code",
   "execution_count": 55,
   "id": "f09257a3",
   "metadata": {},
   "outputs": [],
   "source": [
    "designations=driver.find_element(By.CLASS_NAME,\"suggestor-input\")\n",
    "designations.send_keys('Data Scientist')"
   ]
  },
  {
   "cell_type": "code",
   "execution_count": 56,
   "id": "aa5461bb",
   "metadata": {},
   "outputs": [],
   "source": [
    "search=driver.find_element(By.CLASS_NAME,'qsbSubmit')\n",
    "search.click()"
   ]
  },
  {
   "cell_type": "code",
   "execution_count": null,
   "id": "8d13d5b7",
   "metadata": {},
   "outputs": [],
   "source": []
  },
  {
   "cell_type": "code",
   "execution_count": 64,
   "id": "c47d3614",
   "metadata": {},
   "outputs": [],
   "source": [
    "job_title = []\n",
    "job_location = []\n",
    "company_name = []\n",
    "experience_required = []"
   ]
  },
  {
   "cell_type": "code",
   "execution_count": 65,
   "id": "84d2a72e",
   "metadata": {},
   "outputs": [],
   "source": [
    "tit = driver.find_elements(By.XPATH,'//a[@class=\"title ellipsis\"]')\n",
    "for i in tit[0:10]:\n",
    "    job=i.text\n",
    "    job_title.append(job) \n",
    "\n",
    "loc = driver.find_elements(By.XPATH,'//span[@class=\"ellipsis fleft locWdth\"]')\n",
    "for a in loc[0:10]:\n",
    "    location=a.text\n",
    "    job_location.append(location)\n",
    "    \n",
    "comp = driver.find_elements(By.XPATH,'//a[@class=\"subTitle ellipsis fleft\"]')\n",
    "for x in comp[0:10]:\n",
    "    company=x.text\n",
    "    company_name.append(company)\n",
    "    \n",
    "exp = driver.find_elements(By.XPATH,'//span[@class=\"ellipsis fleft expwdth\"]')\n",
    "for z in exp[0:10]:\n",
    "    experience=z.text\n",
    "    experience_required.append(experience)"
   ]
  },
  {
   "cell_type": "code",
   "execution_count": 66,
   "id": "c08ebfab",
   "metadata": {},
   "outputs": [
    {
     "name": "stdout",
     "output_type": "stream",
     "text": [
      "10 10 10 10\n"
     ]
    }
   ],
   "source": [
    "print(len(job_title),len(job_location),len(company_name),len(experience_required))"
   ]
  },
  {
   "cell_type": "code",
   "execution_count": 67,
   "id": "1f10a485",
   "metadata": {},
   "outputs": [],
   "source": [
    "df=pd.DataFrame({'Jobs title':job_title,'Jobs location':job_location,'Company name':company_name,'Experience required':experience_required})"
   ]
  },
  {
   "cell_type": "code",
   "execution_count": 68,
   "id": "b30b7ad0",
   "metadata": {},
   "outputs": [
    {
     "data": {
      "text/html": [
       "<div>\n",
       "<style scoped>\n",
       "    .dataframe tbody tr th:only-of-type {\n",
       "        vertical-align: middle;\n",
       "    }\n",
       "\n",
       "    .dataframe tbody tr th {\n",
       "        vertical-align: top;\n",
       "    }\n",
       "\n",
       "    .dataframe thead th {\n",
       "        text-align: right;\n",
       "    }\n",
       "</style>\n",
       "<table border=\"1\" class=\"dataframe\">\n",
       "  <thead>\n",
       "    <tr style=\"text-align: right;\">\n",
       "      <th></th>\n",
       "      <th>Jobs title</th>\n",
       "      <th>Jobs location</th>\n",
       "      <th>Company name</th>\n",
       "      <th>Experience required</th>\n",
       "    </tr>\n",
       "  </thead>\n",
       "  <tbody>\n",
       "    <tr>\n",
       "      <th>0</th>\n",
       "      <td>Analystics &amp; Modeling Specialist</td>\n",
       "      <td>Kolkata, Mumbai, Hyderabad/Secunderabad, Pune,...</td>\n",
       "      <td>Accenture</td>\n",
       "      <td>6-8 Yrs</td>\n",
       "    </tr>\n",
       "    <tr>\n",
       "      <th>1</th>\n",
       "      <td>Data Science Specialist</td>\n",
       "      <td>Kolkata, Mumbai, Hyderabad/Secunderabad, Pune,...</td>\n",
       "      <td>Accenture</td>\n",
       "      <td>2-4 Yrs</td>\n",
       "    </tr>\n",
       "    <tr>\n",
       "      <th>2</th>\n",
       "      <td>Data Scientist</td>\n",
       "      <td>Bangalore/Bengaluru, Mumbai (All Areas)</td>\n",
       "      <td>PwC</td>\n",
       "      <td>3-6 Yrs</td>\n",
       "    </tr>\n",
       "    <tr>\n",
       "      <th>3</th>\n",
       "      <td>Data Scientist</td>\n",
       "      <td>Hubli, Mangaluru/Mangalore, Mysore/Mysuru, Ban...</td>\n",
       "      <td>Alp Consulting</td>\n",
       "      <td>3-7 Yrs</td>\n",
       "    </tr>\n",
       "    <tr>\n",
       "      <th>4</th>\n",
       "      <td>ACN - Applied Intelligence - Finance - Data Sc...</td>\n",
       "      <td>Hyderabad/Secunderabad, Pune, Chennai, Gurgaon...</td>\n",
       "      <td>Accenture</td>\n",
       "      <td>2-7 Yrs</td>\n",
       "    </tr>\n",
       "    <tr>\n",
       "      <th>5</th>\n",
       "      <td>Senior Data Scientist</td>\n",
       "      <td>Mumbai, Bangalore/Bengaluru</td>\n",
       "      <td>Fractal Analytics</td>\n",
       "      <td>5-10 Yrs</td>\n",
       "    </tr>\n",
       "    <tr>\n",
       "      <th>6</th>\n",
       "      <td>Data Scientist</td>\n",
       "      <td>Hybrid - Noida, Uttar Pradesh, Bangalore/ Beng...</td>\n",
       "      <td>HCLTech</td>\n",
       "      <td>7-12 Yrs</td>\n",
       "    </tr>\n",
       "    <tr>\n",
       "      <th>7</th>\n",
       "      <td>Senior Data Scientist (PhD) - Computer Vision</td>\n",
       "      <td>Pune</td>\n",
       "      <td>Vineet Tyre Center</td>\n",
       "      <td>2-7 Yrs</td>\n",
       "    </tr>\n",
       "    <tr>\n",
       "      <th>8</th>\n",
       "      <td>Sr . Data Scientist / Manager</td>\n",
       "      <td>Noida, Gurgaon/Gurugram, Bangalore/Bengaluru</td>\n",
       "      <td>Novitas Infotech</td>\n",
       "      <td>7-10 Yrs</td>\n",
       "    </tr>\n",
       "    <tr>\n",
       "      <th>9</th>\n",
       "      <td>Data Scientist</td>\n",
       "      <td>Noida, Gurgaon/Gurugram, Bangalore/Bengaluru</td>\n",
       "      <td>Novitas Infotech</td>\n",
       "      <td>3-7 Yrs</td>\n",
       "    </tr>\n",
       "  </tbody>\n",
       "</table>\n",
       "</div>"
      ],
      "text/plain": [
       "                                          Jobs title  \\\n",
       "0                   Analystics & Modeling Specialist   \n",
       "1                            Data Science Specialist   \n",
       "2                                     Data Scientist   \n",
       "3                                     Data Scientist   \n",
       "4  ACN - Applied Intelligence - Finance - Data Sc...   \n",
       "5                              Senior Data Scientist   \n",
       "6                                     Data Scientist   \n",
       "7      Senior Data Scientist (PhD) - Computer Vision   \n",
       "8                      Sr . Data Scientist / Manager   \n",
       "9                                     Data Scientist   \n",
       "\n",
       "                                       Jobs location        Company name  \\\n",
       "0  Kolkata, Mumbai, Hyderabad/Secunderabad, Pune,...           Accenture   \n",
       "1  Kolkata, Mumbai, Hyderabad/Secunderabad, Pune,...           Accenture   \n",
       "2            Bangalore/Bengaluru, Mumbai (All Areas)                 PwC   \n",
       "3  Hubli, Mangaluru/Mangalore, Mysore/Mysuru, Ban...      Alp Consulting   \n",
       "4  Hyderabad/Secunderabad, Pune, Chennai, Gurgaon...           Accenture   \n",
       "5                        Mumbai, Bangalore/Bengaluru   Fractal Analytics   \n",
       "6  Hybrid - Noida, Uttar Pradesh, Bangalore/ Beng...             HCLTech   \n",
       "7                                               Pune  Vineet Tyre Center   \n",
       "8       Noida, Gurgaon/Gurugram, Bangalore/Bengaluru    Novitas Infotech   \n",
       "9       Noida, Gurgaon/Gurugram, Bangalore/Bengaluru    Novitas Infotech   \n",
       "\n",
       "  Experience required  \n",
       "0             6-8 Yrs  \n",
       "1             2-4 Yrs  \n",
       "2             3-6 Yrs  \n",
       "3             3-7 Yrs  \n",
       "4             2-7 Yrs  \n",
       "5            5-10 Yrs  \n",
       "6            7-12 Yrs  \n",
       "7             2-7 Yrs  \n",
       "8            7-10 Yrs  \n",
       "9             3-7 Yrs  "
      ]
     },
     "execution_count": 68,
     "metadata": {},
     "output_type": "execute_result"
    }
   ],
   "source": [
    "df"
   ]
  },
  {
   "cell_type": "code",
   "execution_count": null,
   "id": "f74c14cf",
   "metadata": {},
   "outputs": [],
   "source": []
  },
  {
   "cell_type": "code",
   "execution_count": null,
   "id": "b081a522",
   "metadata": {},
   "outputs": [],
   "source": []
  },
  {
   "cell_type": "markdown",
   "id": "a27519c2",
   "metadata": {},
   "source": [
    "# 4"
   ]
  },
  {
   "cell_type": "code",
   "execution_count": 36,
   "id": "d3aa0001",
   "metadata": {},
   "outputs": [],
   "source": [
    "driver = webdriver.Chrome()\n",
    "\n",
    "driver.get(\"https://www.flipkart.com/\")"
   ]
  },
  {
   "cell_type": "code",
   "execution_count": 37,
   "id": "e5f4fbfd",
   "metadata": {},
   "outputs": [],
   "source": [
    "products=driver.find_element(By.CLASS_NAME,\"_3704LK\")\n",
    "products.send_keys('sunglasses')"
   ]
  },
  {
   "cell_type": "code",
   "execution_count": 38,
   "id": "3a6a6b01",
   "metadata": {},
   "outputs": [],
   "source": [
    "search=driver.find_element(By.CLASS_NAME,'L0Z3Pu')\n",
    "search.click()"
   ]
  },
  {
   "cell_type": "code",
   "execution_count": 39,
   "id": "ac38c0c7",
   "metadata": {},
   "outputs": [],
   "source": [
    "Brand = []\n",
    "Product_Descriptions = []\n",
    "Price = []\n",
    "Discount = []"
   ]
  },
  {
   "cell_type": "code",
   "execution_count": 40,
   "id": "e5524f85",
   "metadata": {},
   "outputs": [],
   "source": [
    "start=0\n",
    "end=3"
   ]
  },
  {
   "cell_type": "code",
   "execution_count": 41,
   "id": "a14ad057",
   "metadata": {},
   "outputs": [],
   "source": [
    "for page in range(start,end):\n",
    "    brand=driver.find_elements(By.XPATH,'//div[@class=\"_2WkVRV\"]')\n",
    "    for i in brand:\n",
    "        brand_name=i.text\n",
    "        Brand.append(brand_name)\n",
    "    \n",
    "    next_page=driver.find_element(By.XPATH,'//a[@class=\"_1LKTO3\"]')\n",
    "    next_page.click()\n",
    "    time.sleep(3)"
   ]
  },
  {
   "cell_type": "code",
   "execution_count": 43,
   "id": "54f01e24",
   "metadata": {},
   "outputs": [],
   "source": [
    "for page in range(start,end):\n",
    "    pro_disc=driver.find_elements(By.XPATH,'//a[@class=\"IRpwTa\"]')\n",
    "    for p in pro_disc:\n",
    "        disc=p.text\n",
    "        Product_Descriptions.append(disc)\n",
    "        \n",
    "    next_page=driver.find_element(By.XPATH,'//a[@class=\"_1LKTO3\"]')\n",
    "    next_page.click()\n",
    "    time.sleep(3)"
   ]
  },
  {
   "cell_type": "code",
   "execution_count": 46,
   "id": "23dd3b94",
   "metadata": {},
   "outputs": [],
   "source": [
    "for page in range(start,end):\n",
    "    Pri=driver.find_elements(By.XPATH,'//div[@class=\"_30jeq3\"]')\n",
    "    for a in Pri:\n",
    "        prices=a.text\n",
    "        Price.append(prices)\n",
    "        \n",
    "    next_page=driver.find_element(By.XPATH,'//a[@class=\"_1LKTO3\"]')\n",
    "    next_page.click()\n",
    "    time.sleep(3)"
   ]
  },
  {
   "cell_type": "code",
   "execution_count": 49,
   "id": "8a9971e9",
   "metadata": {},
   "outputs": [],
   "source": [
    "for page in range(start,end):\n",
    "    discount=driver.find_elements(By.XPATH,'//div[@class=\"_3Ay6Sb\"]')\n",
    "    for x in discount:\n",
    "        Dis=x.text\n",
    "        Discount.append(Dis)\n",
    "        \n",
    "    next_page=driver.find_element(By.XPATH,'//a[@class=\"_1LKTO3\"]')\n",
    "    next_page.click()\n",
    "    time.sleep(3)    "
   ]
  },
  {
   "cell_type": "code",
   "execution_count": 51,
   "id": "d0d1bc4e",
   "metadata": {},
   "outputs": [],
   "source": [
    "df = pd.DataFrame({})\n",
    "\n",
    "df['Brands']=Brand[0:100]\n",
    "df['Product_descriptions']=Product_Descriptions[0:100]\n",
    "df['Prices']=Price[0:100] \n",
    "df['Discounts']=Discount[0:100]"
   ]
  },
  {
   "cell_type": "code",
   "execution_count": 53,
   "id": "49bb5e86",
   "metadata": {},
   "outputs": [
    {
     "data": {
      "text/html": [
       "<div>\n",
       "<style scoped>\n",
       "    .dataframe tbody tr th:only-of-type {\n",
       "        vertical-align: middle;\n",
       "    }\n",
       "\n",
       "    .dataframe tbody tr th {\n",
       "        vertical-align: top;\n",
       "    }\n",
       "\n",
       "    .dataframe thead th {\n",
       "        text-align: right;\n",
       "    }\n",
       "</style>\n",
       "<table border=\"1\" class=\"dataframe\">\n",
       "  <thead>\n",
       "    <tr style=\"text-align: right;\">\n",
       "      <th></th>\n",
       "      <th>Brands</th>\n",
       "      <th>Product_descriptions</th>\n",
       "      <th>Prices</th>\n",
       "      <th>Discounts</th>\n",
       "    </tr>\n",
       "  </thead>\n",
       "  <tbody>\n",
       "    <tr>\n",
       "      <th>0</th>\n",
       "      <td>ROYAL SON</td>\n",
       "      <td>UV Protection Wayfarer Sunglasses (62)</td>\n",
       "      <td>₹949</td>\n",
       "      <td>52% off</td>\n",
       "    </tr>\n",
       "    <tr>\n",
       "      <th>1</th>\n",
       "      <td>ROYAL SON</td>\n",
       "      <td>Polarized, UV Protection Round Sunglasses (57)</td>\n",
       "      <td>₹9,578</td>\n",
       "      <td>74% off</td>\n",
       "    </tr>\n",
       "    <tr>\n",
       "      <th>2</th>\n",
       "      <td>Fastrack</td>\n",
       "      <td>UV Protection Rectangular Sunglasses (52)</td>\n",
       "      <td>₹503</td>\n",
       "      <td>80% off</td>\n",
       "    </tr>\n",
       "    <tr>\n",
       "      <th>3</th>\n",
       "      <td>SRPM</td>\n",
       "      <td>UV Protection, Riding Glasses, Polarized, Grad...</td>\n",
       "      <td>₹194</td>\n",
       "      <td>75% off</td>\n",
       "    </tr>\n",
       "    <tr>\n",
       "      <th>4</th>\n",
       "      <td>Elligator</td>\n",
       "      <td>UV Protection, Polarized Round Sunglasses (47)</td>\n",
       "      <td>₹168</td>\n",
       "      <td>70% off</td>\n",
       "    </tr>\n",
       "    <tr>\n",
       "      <th>...</th>\n",
       "      <td>...</td>\n",
       "      <td>...</td>\n",
       "      <td>...</td>\n",
       "      <td>...</td>\n",
       "    </tr>\n",
       "    <tr>\n",
       "      <th>95</th>\n",
       "      <td>Cool enter</td>\n",
       "      <td>Polarized, UV Protection Retro Square Sunglass...</td>\n",
       "      <td>₹194</td>\n",
       "      <td>58% off</td>\n",
       "    </tr>\n",
       "    <tr>\n",
       "      <th>96</th>\n",
       "      <td>ROYAL SON</td>\n",
       "      <td>UV Protection Aviator Sunglasses (52)</td>\n",
       "      <td>₹648</td>\n",
       "      <td>72% off</td>\n",
       "    </tr>\n",
       "    <tr>\n",
       "      <th>97</th>\n",
       "      <td>john jacobs</td>\n",
       "      <td>UV Protection, Gradient Round, Cat-eye Sunglas...</td>\n",
       "      <td>₹820</td>\n",
       "      <td>26% off</td>\n",
       "    </tr>\n",
       "    <tr>\n",
       "      <th>98</th>\n",
       "      <td>MEHJ</td>\n",
       "      <td>UV Protection, Gradient Butterfly, Shield Sung...</td>\n",
       "      <td>₹499</td>\n",
       "      <td>64% off</td>\n",
       "    </tr>\n",
       "    <tr>\n",
       "      <th>99</th>\n",
       "      <td>ROADWAY</td>\n",
       "      <td>Polarized, UV Protection Retro Square Sunglass...</td>\n",
       "      <td>₹256</td>\n",
       "      <td>47% off</td>\n",
       "    </tr>\n",
       "  </tbody>\n",
       "</table>\n",
       "<p>100 rows × 4 columns</p>\n",
       "</div>"
      ],
      "text/plain": [
       "         Brands                               Product_descriptions  Prices  \\\n",
       "0     ROYAL SON             UV Protection Wayfarer Sunglasses (62)    ₹949   \n",
       "1     ROYAL SON     Polarized, UV Protection Round Sunglasses (57)  ₹9,578   \n",
       "2      Fastrack          UV Protection Rectangular Sunglasses (52)    ₹503   \n",
       "3          SRPM  UV Protection, Riding Glasses, Polarized, Grad...    ₹194   \n",
       "4     Elligator     UV Protection, Polarized Round Sunglasses (47)    ₹168   \n",
       "..          ...                                                ...     ...   \n",
       "95   Cool enter  Polarized, UV Protection Retro Square Sunglass...    ₹194   \n",
       "96    ROYAL SON              UV Protection Aviator Sunglasses (52)    ₹648   \n",
       "97  john jacobs  UV Protection, Gradient Round, Cat-eye Sunglas...    ₹820   \n",
       "98         MEHJ  UV Protection, Gradient Butterfly, Shield Sung...    ₹499   \n",
       "99      ROADWAY  Polarized, UV Protection Retro Square Sunglass...    ₹256   \n",
       "\n",
       "   Discounts  \n",
       "0    52% off  \n",
       "1    74% off  \n",
       "2    80% off  \n",
       "3    75% off  \n",
       "4    70% off  \n",
       "..       ...  \n",
       "95   58% off  \n",
       "96   72% off  \n",
       "97   26% off  \n",
       "98   64% off  \n",
       "99   47% off  \n",
       "\n",
       "[100 rows x 4 columns]"
      ]
     },
     "execution_count": 53,
     "metadata": {},
     "output_type": "execute_result"
    }
   ],
   "source": [
    "df"
   ]
  },
  {
   "cell_type": "code",
   "execution_count": null,
   "id": "b9799b71",
   "metadata": {},
   "outputs": [],
   "source": []
  },
  {
   "cell_type": "markdown",
   "id": "9e73f90b",
   "metadata": {},
   "source": [
    "# 5"
   ]
  },
  {
   "cell_type": "code",
   "execution_count": 84,
   "id": "a866ab1d",
   "metadata": {},
   "outputs": [],
   "source": [
    "driver = webdriver.Chrome()\n",
    "\n",
    "driver.get(\"https://www.flipkart.com/apple-iphone-11-black-64-gb/product-reviews/itm4e5041ba101fd?pid=MOBFWQ6BXGJCEYNY&lid=LSTMOBFWQ6BXGJCEYNYZXSHRJ&market\")"
   ]
  },
  {
   "cell_type": "code",
   "execution_count": 85,
   "id": "9a0c72c2",
   "metadata": {},
   "outputs": [],
   "source": [
    "Ratings = []\n",
    "Review_summery = []\n",
    "Full_reviews = []"
   ]
  },
  {
   "cell_type": "code",
   "execution_count": 86,
   "id": "a9c2db84",
   "metadata": {},
   "outputs": [],
   "source": [
    "start = 0\n",
    "end = 10"
   ]
  },
  {
   "cell_type": "code",
   "execution_count": 87,
   "id": "ef97c2e3",
   "metadata": {},
   "outputs": [],
   "source": [
    "for page in range(start,end):\n",
    "    rating=driver.find_elements(By.XPATH,'//div[@class=\"_3LWZlK _1BLPMq\"]')\n",
    "    for i in rating:\n",
    "        rat=i.text\n",
    "        Ratings.append(rat)\n",
    "    \n",
    "    next_page=driver.find_element(By.XPATH,'//a[@class=\"_1LKTO3\"]')\n",
    "    next_page.click()\n",
    "    time.sleep(3)"
   ]
  },
  {
   "cell_type": "code",
   "execution_count": 88,
   "id": "6e27434c",
   "metadata": {},
   "outputs": [],
   "source": [
    "for page in range(start,end):\n",
    "    rev=driver.find_elements(By.XPATH,'//p[@class=\"_2-N8zT\"]')\n",
    "    for r in rev:\n",
    "        review=r.text\n",
    "        Review_summery.append(review)\n",
    "        \n",
    "    next_page=driver.find_element(By.XPATH,'//a[@class=\"_1LKTO3\"]')\n",
    "    next_page.click()\n",
    "    time.sleep(3)        "
   ]
  },
  {
   "cell_type": "code",
   "execution_count": 89,
   "id": "1c20694c",
   "metadata": {},
   "outputs": [],
   "source": [
    "for page in range(start,end):\n",
    "    full=driver.find_elements(By.XPATH,'//div[@class=\"t-ZTKy\"]')\n",
    "    for a in full:\n",
    "        ful_rev=a.text\n",
    "        Full_reviews.append(ful_rev)\n",
    "        \n",
    "    next_page=driver.find_element(By.XPATH,'//a[@class=\"_1LKTO3\"]')\n",
    "    next_page.click()\n",
    "    time.sleep(3)"
   ]
  },
  {
   "cell_type": "code",
   "execution_count": 95,
   "id": "64551dfb",
   "metadata": {},
   "outputs": [
    {
     "name": "stdout",
     "output_type": "stream",
     "text": [
      "100 100 100\n"
     ]
    }
   ],
   "source": [
    "print(len(Ratings),len(Review_summery),len(Full_reviews))"
   ]
  },
  {
   "cell_type": "code",
   "execution_count": 96,
   "id": "d3965089",
   "metadata": {},
   "outputs": [
    {
     "data": {
      "text/html": [
       "<div>\n",
       "<style scoped>\n",
       "    .dataframe tbody tr th:only-of-type {\n",
       "        vertical-align: middle;\n",
       "    }\n",
       "\n",
       "    .dataframe tbody tr th {\n",
       "        vertical-align: top;\n",
       "    }\n",
       "\n",
       "    .dataframe thead th {\n",
       "        text-align: right;\n",
       "    }\n",
       "</style>\n",
       "<table border=\"1\" class=\"dataframe\">\n",
       "  <thead>\n",
       "    <tr style=\"text-align: right;\">\n",
       "      <th></th>\n",
       "      <th>Ratings</th>\n",
       "      <th>Review Summery</th>\n",
       "      <th>Full Review</th>\n",
       "    </tr>\n",
       "  </thead>\n",
       "  <tbody>\n",
       "    <tr>\n",
       "      <th>0</th>\n",
       "      <td>5</td>\n",
       "      <td>Mind-blowing purchase</td>\n",
       "      <td>Photos super</td>\n",
       "    </tr>\n",
       "    <tr>\n",
       "      <th>1</th>\n",
       "      <td>5</td>\n",
       "      <td>Classy product</td>\n",
       "      <td>Camera is awesome\\nBest battery backup\\nA perf...</td>\n",
       "    </tr>\n",
       "    <tr>\n",
       "      <th>2</th>\n",
       "      <td>5</td>\n",
       "      <td>Terrific</td>\n",
       "      <td>Very very good</td>\n",
       "    </tr>\n",
       "    <tr>\n",
       "      <th>3</th>\n",
       "      <td>5</td>\n",
       "      <td>Wonderful</td>\n",
       "      <td>This is amazing at all</td>\n",
       "    </tr>\n",
       "    <tr>\n",
       "      <th>4</th>\n",
       "      <td>5</td>\n",
       "      <td>Must buy!</td>\n",
       "      <td>It’s really awesome</td>\n",
       "    </tr>\n",
       "    <tr>\n",
       "      <th>...</th>\n",
       "      <td>...</td>\n",
       "      <td>...</td>\n",
       "      <td>...</td>\n",
       "    </tr>\n",
       "    <tr>\n",
       "      <th>95</th>\n",
       "      <td>5</td>\n",
       "      <td>Brilliant</td>\n",
       "      <td>Excellent Phone.</td>\n",
       "    </tr>\n",
       "    <tr>\n",
       "      <th>96</th>\n",
       "      <td>5</td>\n",
       "      <td>Terrific purchase</td>\n",
       "      <td>Value for money 🖤🖤</td>\n",
       "    </tr>\n",
       "    <tr>\n",
       "      <th>97</th>\n",
       "      <td>5</td>\n",
       "      <td>Fabulous!</td>\n",
       "      <td>It’s very good battery life and display and vi...</td>\n",
       "    </tr>\n",
       "    <tr>\n",
       "      <th>98</th>\n",
       "      <td>5</td>\n",
       "      <td>Awesome</td>\n",
       "      <td>I dreamt about this day from a long time.... G...</td>\n",
       "    </tr>\n",
       "    <tr>\n",
       "      <th>99</th>\n",
       "      <td>5</td>\n",
       "      <td>Wonderful</td>\n",
       "      <td>Very good</td>\n",
       "    </tr>\n",
       "  </tbody>\n",
       "</table>\n",
       "<p>100 rows × 3 columns</p>\n",
       "</div>"
      ],
      "text/plain": [
       "   Ratings         Review Summery  \\\n",
       "0        5  Mind-blowing purchase   \n",
       "1        5         Classy product   \n",
       "2        5               Terrific   \n",
       "3        5              Wonderful   \n",
       "4        5              Must buy!   \n",
       "..     ...                    ...   \n",
       "95       5              Brilliant   \n",
       "96       5      Terrific purchase   \n",
       "97       5              Fabulous!   \n",
       "98       5                Awesome   \n",
       "99       5              Wonderful   \n",
       "\n",
       "                                          Full Review  \n",
       "0                                        Photos super  \n",
       "1   Camera is awesome\\nBest battery backup\\nA perf...  \n",
       "2                                      Very very good  \n",
       "3                              This is amazing at all  \n",
       "4                                 It’s really awesome  \n",
       "..                                                ...  \n",
       "95                                   Excellent Phone.  \n",
       "96                                 Value for money 🖤🖤  \n",
       "97  It’s very good battery life and display and vi...  \n",
       "98  I dreamt about this day from a long time.... G...  \n",
       "99                                          Very good  \n",
       "\n",
       "[100 rows x 3 columns]"
      ]
     },
     "execution_count": 96,
     "metadata": {},
     "output_type": "execute_result"
    }
   ],
   "source": [
    "df=pd.DataFrame({'Ratings':Ratings,'Review Summery':Review_summery,'Full Review':Full_reviews})\n",
    "df"
   ]
  },
  {
   "cell_type": "code",
   "execution_count": null,
   "id": "87530306",
   "metadata": {},
   "outputs": [],
   "source": []
  },
  {
   "cell_type": "markdown",
   "id": "5b5f0281",
   "metadata": {},
   "source": [
    "# 6"
   ]
  },
  {
   "cell_type": "code",
   "execution_count": 97,
   "id": "cbe58cf2",
   "metadata": {},
   "outputs": [],
   "source": [
    "driver = webdriver.Chrome()\n",
    "\n",
    "driver.get(\"https://www.flipkart.com/\")"
   ]
  },
  {
   "cell_type": "code",
   "execution_count": 98,
   "id": "903bf074",
   "metadata": {},
   "outputs": [],
   "source": [
    "Product=driver.find_element(By.CLASS_NAME,\"_3704LK\")\n",
    "Product.send_keys('sneakers')"
   ]
  },
  {
   "cell_type": "code",
   "execution_count": 99,
   "id": "2aefd728",
   "metadata": {},
   "outputs": [],
   "source": [
    "search=driver.find_element(By.CLASS_NAME,\"L0Z3Pu\")\n",
    "search.click()"
   ]
  },
  {
   "cell_type": "code",
   "execution_count": 100,
   "id": "cb3d8ccb",
   "metadata": {},
   "outputs": [],
   "source": [
    "Brands = []\n",
    "Product_Description = []\n",
    "Price = []"
   ]
  },
  {
   "cell_type": "code",
   "execution_count": 101,
   "id": "0bf7d1be",
   "metadata": {},
   "outputs": [],
   "source": [
    "for page in range(0,3):\n",
    "    brand=driver.find_elements(By.XPATH,'//div[@class=\"_2WkVRV\"]')\n",
    "    for i in brand:\n",
    "        bra=i.text\n",
    "        Brands.append(bra)\n",
    "        \n",
    "    next_page=driver.find_element(By.XPATH,'//a[@class=\"_1LKTO3\"]')\n",
    "    next_page.click()\n",
    "    time.sleep(3)\n",
    "    \n",
    "    \n",
    "for page in range(0,3):\n",
    "    pro_disc=driver.find_elements(By.XPATH,'//a[@class=\"IRpwTa\"]')\n",
    "    for a in pro_disc:\n",
    "        disc=a.text\n",
    "        Product_Description.append(disc)\n",
    "        \n",
    "    next_page=driver.find_element(By.XPATH,'//a[@class=\"IRpwTa\"]')\n",
    "    next_page.click()\n",
    "    time.sleep(3)\n",
    "    \n",
    "for page in range(0,3):\n",
    "    prices=driver.find_elements(By.XPATH,'//div[@class=\"_30jeq3\"]')\n",
    "    for z in prices:\n",
    "        pri=z.text\n",
    "        Price.append(pri)\n",
    "        \n",
    "    next_page=driver.find_element(By.XPATH,'//a[@class=\"IRpwTa\"]')\n",
    "    next_page.click()\n",
    "    time.sleep(3)"
   ]
  },
  {
   "cell_type": "code",
   "execution_count": 108,
   "id": "289367e5",
   "metadata": {},
   "outputs": [
    {
     "name": "stdout",
     "output_type": "stream",
     "text": [
      "100 100 100\n"
     ]
    }
   ],
   "source": [
    "print(len(Brands[0:100]),len(Product_Description[0:100]),len(Price[0:100]))"
   ]
  },
  {
   "cell_type": "code",
   "execution_count": 109,
   "id": "f2f69d12",
   "metadata": {},
   "outputs": [],
   "source": [
    "df=pd.DataFrame({'Brands':Brands[0:100],'Product Descriptions':Product_Description[0:100],'Price':Price[0:100]})"
   ]
  },
  {
   "cell_type": "code",
   "execution_count": 110,
   "id": "f29ef070",
   "metadata": {},
   "outputs": [
    {
     "data": {
      "text/html": [
       "<div>\n",
       "<style scoped>\n",
       "    .dataframe tbody tr th:only-of-type {\n",
       "        vertical-align: middle;\n",
       "    }\n",
       "\n",
       "    .dataframe tbody tr th {\n",
       "        vertical-align: top;\n",
       "    }\n",
       "\n",
       "    .dataframe thead th {\n",
       "        text-align: right;\n",
       "    }\n",
       "</style>\n",
       "<table border=\"1\" class=\"dataframe\">\n",
       "  <thead>\n",
       "    <tr style=\"text-align: right;\">\n",
       "      <th></th>\n",
       "      <th>Brands</th>\n",
       "      <th>Product Descriptions</th>\n",
       "      <th>Price</th>\n",
       "    </tr>\n",
       "  </thead>\n",
       "  <tbody>\n",
       "    <tr>\n",
       "      <th>0</th>\n",
       "      <td>Labbin</td>\n",
       "      <td>Sneakers For Men</td>\n",
       "      <td>₹499</td>\n",
       "    </tr>\n",
       "    <tr>\n",
       "      <th>1</th>\n",
       "      <td>BIRDE</td>\n",
       "      <td>Combo Pack of 2 Casual Shoes Sneakers For Men</td>\n",
       "      <td>₹479</td>\n",
       "    </tr>\n",
       "    <tr>\n",
       "      <th>2</th>\n",
       "      <td>Magnolia</td>\n",
       "      <td>STREET ICON M Sneakers For Men</td>\n",
       "      <td>₹1,655</td>\n",
       "    </tr>\n",
       "    <tr>\n",
       "      <th>3</th>\n",
       "      <td>aadi</td>\n",
       "      <td>Hustle V2 Sneakers For Men</td>\n",
       "      <td>₹1,399</td>\n",
       "    </tr>\n",
       "    <tr>\n",
       "      <th>4</th>\n",
       "      <td>BRUTON</td>\n",
       "      <td>Casual Sneakrs For Men Sneakers For Men</td>\n",
       "      <td>₹672</td>\n",
       "    </tr>\n",
       "    <tr>\n",
       "      <th>...</th>\n",
       "      <td>...</td>\n",
       "      <td>...</td>\n",
       "      <td>...</td>\n",
       "    </tr>\n",
       "    <tr>\n",
       "      <th>95</th>\n",
       "      <td>Free Kicks</td>\n",
       "      <td>Newton-01 Grey Sports,Casual,Walking,Training,...</td>\n",
       "      <td>₹549</td>\n",
       "    </tr>\n",
       "    <tr>\n",
       "      <th>96</th>\n",
       "      <td>ASTEROID</td>\n",
       "      <td>Premium Sports Shoes For Men Pack Of 2 Sneaker...</td>\n",
       "      <td>₹479</td>\n",
       "    </tr>\n",
       "    <tr>\n",
       "      <th>97</th>\n",
       "      <td>ASTEROID</td>\n",
       "      <td>Combo Pack of 2 Casual Shoes Sneakers For Men</td>\n",
       "      <td>₹479</td>\n",
       "    </tr>\n",
       "    <tr>\n",
       "      <th>98</th>\n",
       "      <td>Kraasa</td>\n",
       "      <td>Sneakers For Men</td>\n",
       "      <td>₹494</td>\n",
       "    </tr>\n",
       "    <tr>\n",
       "      <th>99</th>\n",
       "      <td>BRUTON</td>\n",
       "      <td>Stylish Casual Sports Shoe Sneakers For Women ...</td>\n",
       "      <td>₹549</td>\n",
       "    </tr>\n",
       "  </tbody>\n",
       "</table>\n",
       "<p>100 rows × 3 columns</p>\n",
       "</div>"
      ],
      "text/plain": [
       "        Brands                               Product Descriptions   Price\n",
       "0       Labbin                                   Sneakers For Men    ₹499\n",
       "1        BIRDE      Combo Pack of 2 Casual Shoes Sneakers For Men    ₹479\n",
       "2     Magnolia                     STREET ICON M Sneakers For Men  ₹1,655\n",
       "3         aadi                         Hustle V2 Sneakers For Men  ₹1,399\n",
       "4       BRUTON            Casual Sneakrs For Men Sneakers For Men    ₹672\n",
       "..         ...                                                ...     ...\n",
       "95  Free Kicks  Newton-01 Grey Sports,Casual,Walking,Training,...    ₹549\n",
       "96    ASTEROID  Premium Sports Shoes For Men Pack Of 2 Sneaker...    ₹479\n",
       "97    ASTEROID      Combo Pack of 2 Casual Shoes Sneakers For Men    ₹479\n",
       "98      Kraasa                                   Sneakers For Men    ₹494\n",
       "99      BRUTON  Stylish Casual Sports Shoe Sneakers For Women ...    ₹549\n",
       "\n",
       "[100 rows x 3 columns]"
      ]
     },
     "execution_count": 110,
     "metadata": {},
     "output_type": "execute_result"
    }
   ],
   "source": [
    "df"
   ]
  },
  {
   "cell_type": "code",
   "execution_count": null,
   "id": "517f6472",
   "metadata": {},
   "outputs": [],
   "source": []
  },
  {
   "cell_type": "markdown",
   "id": "1bfd1c3b",
   "metadata": {},
   "source": [
    "# 7"
   ]
  },
  {
   "cell_type": "code",
   "execution_count": null,
   "id": "12edc224",
   "metadata": {},
   "outputs": [],
   "source": []
  },
  {
   "cell_type": "code",
   "execution_count": 116,
   "id": "431d323e",
   "metadata": {},
   "outputs": [],
   "source": [
    "driver = webdriver.Chrome()\n",
    "\n",
    "driver.get(\"https://www.amazon.in/\")"
   ]
  },
  {
   "cell_type": "code",
   "execution_count": 135,
   "id": "98e57ee4",
   "metadata": {},
   "outputs": [],
   "source": [
    "Title = []\n",
    "Ratingss = []\n",
    "Price = []"
   ]
  },
  {
   "cell_type": "code",
   "execution_count": 118,
   "id": "4506eea5",
   "metadata": {},
   "outputs": [],
   "source": [
    "title = driver.find_elements(By.XPATH,'//span[@class=\"a-size-medium a-color-base a-text-normal\"]')\n",
    "for t in title[0:10]:\n",
    "    titles=t.text\n",
    "    Title.append(titles)"
   ]
  },
  {
   "cell_type": "code",
   "execution_count": 136,
   "id": "bbd17d85",
   "metadata": {},
   "outputs": [],
   "source": [
    "rating=driver.find_elements(By.XPATH,'//span[@class=\"a-icon-alt\"]')\n",
    "for r in rating[0:10]:\n",
    "    rats=r.text\n",
    "    Ratingss.append(rats)"
   ]
  },
  {
   "cell_type": "code",
   "execution_count": 137,
   "id": "d4faca8b",
   "metadata": {},
   "outputs": [
    {
     "data": {
      "text/plain": [
       "['', '', '', '', '', '', '', '', '', '']"
      ]
     },
     "execution_count": 137,
     "metadata": {},
     "output_type": "execute_result"
    }
   ],
   "source": [
    "Ratingss"
   ]
  },
  {
   "cell_type": "code",
   "execution_count": null,
   "id": "5194f6ce",
   "metadata": {},
   "outputs": [],
   "source": []
  },
  {
   "cell_type": "code",
   "execution_count": 128,
   "id": "e0c8f30b",
   "metadata": {},
   "outputs": [],
   "source": [
    "pricing=driver.find_elements(By.XPATH,'//span[@class=\"a-price-whole\"]')\n",
    "for p in pricing[0:10]:\n",
    "    pri=p.text\n",
    "    Price.append(pri)"
   ]
  },
  {
   "cell_type": "code",
   "execution_count": 129,
   "id": "8549bc35",
   "metadata": {},
   "outputs": [
    {
     "data": {
      "text/plain": [
       "['',\n",
       " '',\n",
       " '',\n",
       " '86,420',\n",
       " '79,990',\n",
       " '62,990',\n",
       " '1,04,990',\n",
       " '71,490',\n",
       " '96,490',\n",
       " '89,990',\n",
       " '61,990',\n",
       " '80,990',\n",
       " '92,424']"
      ]
     },
     "execution_count": 129,
     "metadata": {},
     "output_type": "execute_result"
    }
   ],
   "source": [
    "Price"
   ]
  },
  {
   "cell_type": "code",
   "execution_count": null,
   "id": "54ec303b",
   "metadata": {},
   "outputs": [],
   "source": []
  },
  {
   "cell_type": "markdown",
   "id": "48207c7e",
   "metadata": {},
   "source": [
    "# 8"
   ]
  },
  {
   "cell_type": "code",
   "execution_count": 4,
   "id": "5c9fe41c",
   "metadata": {},
   "outputs": [],
   "source": [
    "driver = webdriver.Chrome()\n",
    "\n",
    "driver.get(\"https://www.azquotes.com/\")"
   ]
  },
  {
   "cell_type": "code",
   "execution_count": 5,
   "id": "0311abd2",
   "metadata": {},
   "outputs": [],
   "source": [
    "Quote = []\n",
    "Author = [] \n",
    "Type_Of_Quotes = []"
   ]
  },
  {
   "cell_type": "code",
   "execution_count": null,
   "id": "42fecd8d",
   "metadata": {},
   "outputs": [],
   "source": [
    "for page in range(0,10):\n",
    "    qoute=driver.find_elements(By.XPATH,'//a[@class=\"title\"]')\n",
    "    for i in qoute:\n",
    "        Q=i.text\n",
    "        Quote.append(Q)\n",
    "        \n",
    "for page in range(0,10):\n",
    "    authors=driver.find_elements(By.XPATH,'//div[@class=\"author\"]')\n",
    "    for a in authors:\n",
    "        auth=a.text\n",
    "        Author.append(auth)\n",
    "        \n",
    "for page in range(0,10):\n",
    "    typesOfQuotes=driver.find_elements(By.XPATH,'//div[@class=\"tags\"]')\n",
    "    for x in typesOfQuotes:\n",
    "        types=x.text\n",
    "        Type_Of_Quotes.append(types)"
   ]
  },
  {
   "cell_type": "code",
   "execution_count": 18,
   "id": "57b05543",
   "metadata": {},
   "outputs": [
    {
     "name": "stdout",
     "output_type": "stream",
     "text": [
      "1000 1000 1000\n"
     ]
    }
   ],
   "source": [
    "print(len(Quote),len(Author),len(Type_Of_Quotes))"
   ]
  },
  {
   "cell_type": "code",
   "execution_count": 19,
   "id": "6080e9b8",
   "metadata": {},
   "outputs": [],
   "source": [
    "df=pd.DataFrame({'Quotes':Quote,'Authors':Author,'Type Of Quote':Type_Of_Quotes})"
   ]
  },
  {
   "cell_type": "code",
   "execution_count": 20,
   "id": "7cc76652",
   "metadata": {},
   "outputs": [
    {
     "data": {
      "text/html": [
       "<div>\n",
       "<style scoped>\n",
       "    .dataframe tbody tr th:only-of-type {\n",
       "        vertical-align: middle;\n",
       "    }\n",
       "\n",
       "    .dataframe tbody tr th {\n",
       "        vertical-align: top;\n",
       "    }\n",
       "\n",
       "    .dataframe thead th {\n",
       "        text-align: right;\n",
       "    }\n",
       "</style>\n",
       "<table border=\"1\" class=\"dataframe\">\n",
       "  <thead>\n",
       "    <tr style=\"text-align: right;\">\n",
       "      <th></th>\n",
       "      <th>Quotes</th>\n",
       "      <th>Authors</th>\n",
       "      <th>Type Of Quote</th>\n",
       "    </tr>\n",
       "  </thead>\n",
       "  <tbody>\n",
       "    <tr>\n",
       "      <th>0</th>\n",
       "      <td>The essence of strategy is choosing what not t...</td>\n",
       "      <td>Amelia Earhart</td>\n",
       "      <td>Inspirational, Life, Success</td>\n",
       "    </tr>\n",
       "    <tr>\n",
       "      <th>1</th>\n",
       "      <td>One cannot and must not try to erase the past ...</td>\n",
       "      <td>Ludwig von Mises</td>\n",
       "      <td>Peace, War, Government</td>\n",
       "    </tr>\n",
       "    <tr>\n",
       "      <th>2</th>\n",
       "      <td>Patriotism means to stand by the country. It d...</td>\n",
       "      <td>Elizabeth Cady Stanton</td>\n",
       "      <td>Life, Strength, Courage</td>\n",
       "    </tr>\n",
       "    <tr>\n",
       "      <th>3</th>\n",
       "      <td>Death is something inevitable. When a man has ...</td>\n",
       "      <td>Benjamin Spock</td>\n",
       "      <td>Positive, Family, Trust</td>\n",
       "    </tr>\n",
       "    <tr>\n",
       "      <th>4</th>\n",
       "      <td>You have to love a nation that celebrates its ...</td>\n",
       "      <td>Michael Jordan</td>\n",
       "      <td>Inspirational, Life, Motivational</td>\n",
       "    </tr>\n",
       "    <tr>\n",
       "      <th>...</th>\n",
       "      <td>...</td>\n",
       "      <td>...</td>\n",
       "      <td>...</td>\n",
       "    </tr>\n",
       "    <tr>\n",
       "      <th>995</th>\n",
       "      <td>Regret for the things we did can be tempered b...</td>\n",
       "      <td>Sydney J. Harris</td>\n",
       "      <td>Love, Inspirational, Motivational</td>\n",
       "    </tr>\n",
       "    <tr>\n",
       "      <th>996</th>\n",
       "      <td>America... just a nation of two hundred millio...</td>\n",
       "      <td>Hunter S. Thompson</td>\n",
       "      <td>Gun, Two, Qualms About</td>\n",
       "    </tr>\n",
       "    <tr>\n",
       "      <th>997</th>\n",
       "      <td>For every disciplined effort there is a multip...</td>\n",
       "      <td>Jim Rohn</td>\n",
       "      <td>Inspirational, Greatness, Best Effort</td>\n",
       "    </tr>\n",
       "    <tr>\n",
       "      <th>998</th>\n",
       "      <td>The spiritual journey is individual, highly pe...</td>\n",
       "      <td>Ram Dass</td>\n",
       "      <td>Spiritual, Truth, Yoga</td>\n",
       "    </tr>\n",
       "    <tr>\n",
       "      <th>999</th>\n",
       "      <td>The mind is not a vessel to be filled but a fi...</td>\n",
       "      <td>Plutarch</td>\n",
       "      <td>Inspirational, Leadership, Education</td>\n",
       "    </tr>\n",
       "  </tbody>\n",
       "</table>\n",
       "<p>1000 rows × 3 columns</p>\n",
       "</div>"
      ],
      "text/plain": [
       "                                                Quotes  \\\n",
       "0    The essence of strategy is choosing what not t...   \n",
       "1    One cannot and must not try to erase the past ...   \n",
       "2    Patriotism means to stand by the country. It d...   \n",
       "3    Death is something inevitable. When a man has ...   \n",
       "4    You have to love a nation that celebrates its ...   \n",
       "..                                                 ...   \n",
       "995  Regret for the things we did can be tempered b...   \n",
       "996  America... just a nation of two hundred millio...   \n",
       "997  For every disciplined effort there is a multip...   \n",
       "998  The spiritual journey is individual, highly pe...   \n",
       "999  The mind is not a vessel to be filled but a fi...   \n",
       "\n",
       "                    Authors                          Type Of Quote  \n",
       "0            Amelia Earhart           Inspirational, Life, Success  \n",
       "1          Ludwig von Mises                 Peace, War, Government  \n",
       "2    Elizabeth Cady Stanton                Life, Strength, Courage  \n",
       "3            Benjamin Spock                Positive, Family, Trust  \n",
       "4            Michael Jordan      Inspirational, Life, Motivational  \n",
       "..                      ...                                    ...  \n",
       "995        Sydney J. Harris      Love, Inspirational, Motivational  \n",
       "996      Hunter S. Thompson                 Gun, Two, Qualms About  \n",
       "997                Jim Rohn  Inspirational, Greatness, Best Effort  \n",
       "998                Ram Dass                 Spiritual, Truth, Yoga  \n",
       "999                Plutarch   Inspirational, Leadership, Education  \n",
       "\n",
       "[1000 rows x 3 columns]"
      ]
     },
     "execution_count": 20,
     "metadata": {},
     "output_type": "execute_result"
    }
   ],
   "source": [
    "df"
   ]
  },
  {
   "cell_type": "code",
   "execution_count": null,
   "id": "3fbc0520",
   "metadata": {},
   "outputs": [],
   "source": []
  }
 ],
 "metadata": {
  "kernelspec": {
   "display_name": "Python 3 (ipykernel)",
   "language": "python",
   "name": "python3"
  },
  "language_info": {
   "codemirror_mode": {
    "name": "ipython",
    "version": 3
   },
   "file_extension": ".py",
   "mimetype": "text/x-python",
   "name": "python",
   "nbconvert_exporter": "python",
   "pygments_lexer": "ipython3",
   "version": "3.11.3"
  }
 },
 "nbformat": 4,
 "nbformat_minor": 5
}
