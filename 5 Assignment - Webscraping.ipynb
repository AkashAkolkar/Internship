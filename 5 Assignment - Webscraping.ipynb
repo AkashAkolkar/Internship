{
 "cells": [
  {
   "cell_type": "markdown",
   "id": "f5f95f66",
   "metadata": {},
   "source": [
    "# Assignment - Webscraping"
   ]
  },
  {
   "cell_type": "code",
   "execution_count": 1,
   "id": "f1be7159",
   "metadata": {},
   "outputs": [],
   "source": [
    "import selenium\n",
    "from selenium import webdriver\n",
    "import pandas as pd\n",
    "import time\n",
    "import re\n",
    "import requests\n",
    "\n",
    "from bs4 import BeautifulSoup\n",
    "\n",
    "from selenium.common.exceptions import NoSuchElementException, StaleElementReferenceException, ElementNotInteractableException\n",
    "\n",
    "from selenium.webdriver.support.ui import WebDriverWait\n",
    "from selenium.webdriver.support import expected_conditions as EC\n",
    "\n",
    "from selenium.webdriver.common.by import By"
   ]
  },
  {
   "cell_type": "code",
   "execution_count": null,
   "id": "c67d465e",
   "metadata": {},
   "outputs": [],
   "source": []
  },
  {
   "cell_type": "markdown",
   "id": "182a1bae",
   "metadata": {},
   "source": [
    "# 1"
   ]
  },
  {
   "cell_type": "code",
   "execution_count": 19,
   "id": "ac7665d3",
   "metadata": {},
   "outputs": [],
   "source": [
    "driver = webdriver.Chrome()\n",
    "driver.get('https://en.wikipedia.org/wiki/List_of_most-viewed_YouTube_videos')\n",
    "time.sleep(3)"
   ]
  },
  {
   "cell_type": "code",
   "execution_count": 43,
   "id": "77bf8854",
   "metadata": {},
   "outputs": [],
   "source": [
    "rank=[]\n",
    "name=[]\n",
    "arts=[]\n",
    "upload_dates=[]\n",
    "views=[]"
   ]
  },
  {
   "cell_type": "code",
   "execution_count": 44,
   "id": "bfced59e",
   "metadata": {},
   "outputs": [
    {
     "name": "stdout",
     "output_type": "stream",
     "text": [
      "30 ['1.', '2.', '3.', '4.', '5.', '6.', '7.', '8.', '9.', '10.', '11.', '12.', '13.', '14.', '15.', '16.', '17.', '18.', '19.', '20.', '21.', '22.', '23.', '24.', '25.', '26.', '27.', '28.', '29.', '30.']\n"
     ]
    }
   ],
   "source": [
    "ranks =driver.find_elements(By.XPATH,\"//*[@id='mw-content-text']/div[1]/table[1]/tbody/tr/td[1]\")\n",
    "for i in ranks:\n",
    "    if i.text:\n",
    "         rank.append(i.text)\n",
    "    else:\n",
    "        rank.append(\"-\")\n",
    "print(len(rank),rank)"
   ]
  },
  {
   "cell_type": "code",
   "execution_count": 47,
   "id": "ad68f11f",
   "metadata": {},
   "outputs": [
    {
     "name": "stdout",
     "output_type": "stream",
     "text": [
      "30 ['\"Baby Shark Dance\"[6]', '\"Despacito\"[9]', '\"Johny Johny Yes Papa\"[16]', '\"Bath Song\"[17]', '\"Shape of You\"[18]', '\"See You Again\"[21]', '\"Wheels on the Bus\"[26]', '\"Phonics Song with Two Words\"[27]', '\"Uptown Funk\"[28]', '\"Learning Colors – Colorful Eggs on a Farm\"[29]', '\"Gangnam Style\"[30]', '\"Masha and the Bear – Recipe for Disaster\"[35]', '\"Dame Tu Cosita\"[36]', '\"Axel F\"[37]', '\"Sugar\"[38]', '\"Roar\"[39]', '\"Counting Stars\"[40]', '\"Baa Baa Black Sheep\"[41]', '\"Sorry\"[42]', '\"Waka Waka (This Time for Africa)\"[43]', '\"Thinking Out Loud\"[44]', '\"Lakdi Ki Kathi\"[45]', '\"Dark Horse\"[46]', '\"Perfect\"[47]', '\"Faded\"[48]', '\"Let Her Go\"[49]', '\"Humpty the train on a fruits ride\"[50]', '\"Girls Like You\"[51]', '\"Bailando\"[52]', '\"Lean On\"[53]']\n"
     ]
    }
   ],
   "source": [
    "names =driver.find_elements(By.XPATH,\"//*[@id='mw-content-text']/div[1]/table[1]/tbody/tr/td[2]\")\n",
    "for i in names:\n",
    "    if i.text:\n",
    "        name.append(i.text) \n",
    "    else:\n",
    "        Name.append(\"-\")\n",
    "print(len(name),name)"
   ]
  },
  {
   "cell_type": "code",
   "execution_count": 49,
   "id": "84ab8716",
   "metadata": {},
   "outputs": [
    {
     "name": "stdout",
     "output_type": "stream",
     "text": [
      "30 [\"Pinkfong Baby Shark - children's songs\", 'Luis Fonsi', 'LooLoo Kids - nursery rhymes', 'Cocomelon - nursery rhymes', 'Ed Sheeran', 'Wiz Khalifa', 'Cocomelon - nursery rhymes', \"ChuChu TV - children's songs\", 'Mark Ronson', \"Miroshka TV - children's songs\", 'Psy', \"Get Movies - children's songs\", 'El Chombo', 'Crazy Frog', 'Maroon 5', 'Katy Perry', 'OneRepublic', 'Cocomelon - nursery rhymes', 'Justin Bieber', 'Shakira', 'Ed Sheeran', 'Jingle Toons', 'Katy Perry', 'Ed Sheeran', 'Alan Walker', 'Passenger', \"Kiddiestv Hindi - children's songs\", 'Maroon 5', 'Enrique Iglesias', 'Major Lazer']\n"
     ]
    }
   ],
   "source": [
    "artists = driver.find_elements(By.XPATH,'//div[@id=\"mw-content-text\"]/div[1]/table[1]/tbody/tr/td[3]')\n",
    "for i in artists:\n",
    "    if i.text:\n",
    "        arts.append(i.text)\n",
    "    else:\n",
    "        arts.append('-')\n",
    "print(len(arts),arts)"
   ]
  },
  {
   "cell_type": "code",
   "execution_count": 52,
   "id": "71aa5b9a",
   "metadata": {},
   "outputs": [
    {
     "name": "stdout",
     "output_type": "stream",
     "text": [
      "30 ['June 17, 2016', 'January 12, 2017', 'October 8, 2016', 'May 2, 2018', 'January 30, 2017', 'April 6, 2015', 'May 24, 2018', 'March 6, 2014', 'November 19, 2014', 'February 27, 2018', 'July 15, 2012', 'January 31, 2012', 'April 5, 2018', 'June 16, 2009', 'January 14, 2015', 'September 5, 2013', 'May 31, 2013', 'June 25, 2018', 'October 22, 2015', 'June 4, 2010', 'October 7, 2014', 'June 14, 2018', 'February 20, 2014', 'November 9, 2017', 'December 3, 2015', 'July 25, 2012', 'January 26, 2018', 'May 31, 2018', 'April 11, 2014', 'March 22, 2015']\n"
     ]
    }
   ],
   "source": [
    "ud = driver.find_elements(By.XPATH,'//div[@id=\"mw-content-text\"]/div[1]/table[1]/tbody/tr/td[5]')\n",
    "for i in ud:\n",
    "    if i.text:\n",
    "        upload_dates.append(i.text)\n",
    "    else:\n",
    "        upload_dates.append('-')\n",
    "print(len(upload_dates),upload_dates)"
   ]
  },
  {
   "cell_type": "code",
   "execution_count": 53,
   "id": "1baa8803",
   "metadata": {},
   "outputs": [
    {
     "name": "stdout",
     "output_type": "stream",
     "text": [
      "30 ['13.18', '8.23', '6.76', '6.33', '6.05', '5.98', '5.46', '5.42', '5.00', '4.94', '4.86', '4.55', '4.41', '4.00', '3.91', '3.84', '3.84', '3.73', '3.69', '3.68', '3.63', '3.63', '3.56', '3.51', '3.49', '3.48', '3.51', '3.45', '3.43', '3.43']\n"
     ]
    }
   ],
   "source": [
    "viewer  = driver.find_elements(By.XPATH,'//div[@id=\"mw-content-text\"]/div[1]/table[1]/tbody/tr/td[4]')\n",
    "for i in viewer:\n",
    "    if i.text:\n",
    "        views.append(i.text)\n",
    "    else:\n",
    "        views.append('-')\n",
    "print(len(views),views)"
   ]
  },
  {
   "cell_type": "code",
   "execution_count": null,
   "id": "c4524ef3",
   "metadata": {},
   "outputs": [],
   "source": [
    "driver.close()"
   ]
  },
  {
   "cell_type": "code",
   "execution_count": 55,
   "id": "13e6f9e3",
   "metadata": {},
   "outputs": [
    {
     "data": {
      "text/html": [
       "<div>\n",
       "<style scoped>\n",
       "    .dataframe tbody tr th:only-of-type {\n",
       "        vertical-align: middle;\n",
       "    }\n",
       "\n",
       "    .dataframe tbody tr th {\n",
       "        vertical-align: top;\n",
       "    }\n",
       "\n",
       "    .dataframe thead th {\n",
       "        text-align: right;\n",
       "    }\n",
       "</style>\n",
       "<table border=\"1\" class=\"dataframe\">\n",
       "  <thead>\n",
       "    <tr style=\"text-align: right;\">\n",
       "      <th></th>\n",
       "      <th>Ranks</th>\n",
       "      <th>Names</th>\n",
       "      <th>Artists</th>\n",
       "      <th>Uploaded Date</th>\n",
       "      <th>Views</th>\n",
       "    </tr>\n",
       "  </thead>\n",
       "  <tbody>\n",
       "    <tr>\n",
       "      <th>0</th>\n",
       "      <td>1.</td>\n",
       "      <td>\"Baby Shark Dance\"[6]</td>\n",
       "      <td>Pinkfong Baby Shark - children's songs</td>\n",
       "      <td>June 17, 2016</td>\n",
       "      <td>13.18</td>\n",
       "    </tr>\n",
       "    <tr>\n",
       "      <th>1</th>\n",
       "      <td>2.</td>\n",
       "      <td>\"Despacito\"[9]</td>\n",
       "      <td>Luis Fonsi</td>\n",
       "      <td>January 12, 2017</td>\n",
       "      <td>8.23</td>\n",
       "    </tr>\n",
       "    <tr>\n",
       "      <th>2</th>\n",
       "      <td>3.</td>\n",
       "      <td>\"Johny Johny Yes Papa\"[16]</td>\n",
       "      <td>LooLoo Kids - nursery rhymes</td>\n",
       "      <td>October 8, 2016</td>\n",
       "      <td>6.76</td>\n",
       "    </tr>\n",
       "    <tr>\n",
       "      <th>3</th>\n",
       "      <td>4.</td>\n",
       "      <td>\"Bath Song\"[17]</td>\n",
       "      <td>Cocomelon - nursery rhymes</td>\n",
       "      <td>May 2, 2018</td>\n",
       "      <td>6.33</td>\n",
       "    </tr>\n",
       "    <tr>\n",
       "      <th>4</th>\n",
       "      <td>5.</td>\n",
       "      <td>\"Shape of You\"[18]</td>\n",
       "      <td>Ed Sheeran</td>\n",
       "      <td>January 30, 2017</td>\n",
       "      <td>6.05</td>\n",
       "    </tr>\n",
       "    <tr>\n",
       "      <th>5</th>\n",
       "      <td>6.</td>\n",
       "      <td>\"See You Again\"[21]</td>\n",
       "      <td>Wiz Khalifa</td>\n",
       "      <td>April 6, 2015</td>\n",
       "      <td>5.98</td>\n",
       "    </tr>\n",
       "    <tr>\n",
       "      <th>6</th>\n",
       "      <td>7.</td>\n",
       "      <td>\"Wheels on the Bus\"[26]</td>\n",
       "      <td>Cocomelon - nursery rhymes</td>\n",
       "      <td>May 24, 2018</td>\n",
       "      <td>5.46</td>\n",
       "    </tr>\n",
       "    <tr>\n",
       "      <th>7</th>\n",
       "      <td>8.</td>\n",
       "      <td>\"Phonics Song with Two Words\"[27]</td>\n",
       "      <td>ChuChu TV - children's songs</td>\n",
       "      <td>March 6, 2014</td>\n",
       "      <td>5.42</td>\n",
       "    </tr>\n",
       "    <tr>\n",
       "      <th>8</th>\n",
       "      <td>9.</td>\n",
       "      <td>\"Uptown Funk\"[28]</td>\n",
       "      <td>Mark Ronson</td>\n",
       "      <td>November 19, 2014</td>\n",
       "      <td>5.00</td>\n",
       "    </tr>\n",
       "    <tr>\n",
       "      <th>9</th>\n",
       "      <td>10.</td>\n",
       "      <td>\"Learning Colors – Colorful Eggs on a Farm\"[29]</td>\n",
       "      <td>Miroshka TV - children's songs</td>\n",
       "      <td>February 27, 2018</td>\n",
       "      <td>4.94</td>\n",
       "    </tr>\n",
       "    <tr>\n",
       "      <th>10</th>\n",
       "      <td>11.</td>\n",
       "      <td>\"Gangnam Style\"[30]</td>\n",
       "      <td>Psy</td>\n",
       "      <td>July 15, 2012</td>\n",
       "      <td>4.86</td>\n",
       "    </tr>\n",
       "    <tr>\n",
       "      <th>11</th>\n",
       "      <td>12.</td>\n",
       "      <td>\"Masha and the Bear – Recipe for Disaster\"[35]</td>\n",
       "      <td>Get Movies - children's songs</td>\n",
       "      <td>January 31, 2012</td>\n",
       "      <td>4.55</td>\n",
       "    </tr>\n",
       "    <tr>\n",
       "      <th>12</th>\n",
       "      <td>13.</td>\n",
       "      <td>\"Dame Tu Cosita\"[36]</td>\n",
       "      <td>El Chombo</td>\n",
       "      <td>April 5, 2018</td>\n",
       "      <td>4.41</td>\n",
       "    </tr>\n",
       "    <tr>\n",
       "      <th>13</th>\n",
       "      <td>14.</td>\n",
       "      <td>\"Axel F\"[37]</td>\n",
       "      <td>Crazy Frog</td>\n",
       "      <td>June 16, 2009</td>\n",
       "      <td>4.00</td>\n",
       "    </tr>\n",
       "    <tr>\n",
       "      <th>14</th>\n",
       "      <td>15.</td>\n",
       "      <td>\"Sugar\"[38]</td>\n",
       "      <td>Maroon 5</td>\n",
       "      <td>January 14, 2015</td>\n",
       "      <td>3.91</td>\n",
       "    </tr>\n",
       "    <tr>\n",
       "      <th>15</th>\n",
       "      <td>16.</td>\n",
       "      <td>\"Roar\"[39]</td>\n",
       "      <td>Katy Perry</td>\n",
       "      <td>September 5, 2013</td>\n",
       "      <td>3.84</td>\n",
       "    </tr>\n",
       "    <tr>\n",
       "      <th>16</th>\n",
       "      <td>17.</td>\n",
       "      <td>\"Counting Stars\"[40]</td>\n",
       "      <td>OneRepublic</td>\n",
       "      <td>May 31, 2013</td>\n",
       "      <td>3.84</td>\n",
       "    </tr>\n",
       "    <tr>\n",
       "      <th>17</th>\n",
       "      <td>18.</td>\n",
       "      <td>\"Baa Baa Black Sheep\"[41]</td>\n",
       "      <td>Cocomelon - nursery rhymes</td>\n",
       "      <td>June 25, 2018</td>\n",
       "      <td>3.73</td>\n",
       "    </tr>\n",
       "    <tr>\n",
       "      <th>18</th>\n",
       "      <td>19.</td>\n",
       "      <td>\"Sorry\"[42]</td>\n",
       "      <td>Justin Bieber</td>\n",
       "      <td>October 22, 2015</td>\n",
       "      <td>3.69</td>\n",
       "    </tr>\n",
       "    <tr>\n",
       "      <th>19</th>\n",
       "      <td>20.</td>\n",
       "      <td>\"Waka Waka (This Time for Africa)\"[43]</td>\n",
       "      <td>Shakira</td>\n",
       "      <td>June 4, 2010</td>\n",
       "      <td>3.68</td>\n",
       "    </tr>\n",
       "    <tr>\n",
       "      <th>20</th>\n",
       "      <td>21.</td>\n",
       "      <td>\"Thinking Out Loud\"[44]</td>\n",
       "      <td>Ed Sheeran</td>\n",
       "      <td>October 7, 2014</td>\n",
       "      <td>3.63</td>\n",
       "    </tr>\n",
       "    <tr>\n",
       "      <th>21</th>\n",
       "      <td>22.</td>\n",
       "      <td>\"Lakdi Ki Kathi\"[45]</td>\n",
       "      <td>Jingle Toons</td>\n",
       "      <td>June 14, 2018</td>\n",
       "      <td>3.63</td>\n",
       "    </tr>\n",
       "    <tr>\n",
       "      <th>22</th>\n",
       "      <td>23.</td>\n",
       "      <td>\"Dark Horse\"[46]</td>\n",
       "      <td>Katy Perry</td>\n",
       "      <td>February 20, 2014</td>\n",
       "      <td>3.56</td>\n",
       "    </tr>\n",
       "    <tr>\n",
       "      <th>23</th>\n",
       "      <td>24.</td>\n",
       "      <td>\"Perfect\"[47]</td>\n",
       "      <td>Ed Sheeran</td>\n",
       "      <td>November 9, 2017</td>\n",
       "      <td>3.51</td>\n",
       "    </tr>\n",
       "    <tr>\n",
       "      <th>24</th>\n",
       "      <td>25.</td>\n",
       "      <td>\"Faded\"[48]</td>\n",
       "      <td>Alan Walker</td>\n",
       "      <td>December 3, 2015</td>\n",
       "      <td>3.49</td>\n",
       "    </tr>\n",
       "    <tr>\n",
       "      <th>25</th>\n",
       "      <td>26.</td>\n",
       "      <td>\"Let Her Go\"[49]</td>\n",
       "      <td>Passenger</td>\n",
       "      <td>July 25, 2012</td>\n",
       "      <td>3.48</td>\n",
       "    </tr>\n",
       "    <tr>\n",
       "      <th>26</th>\n",
       "      <td>27.</td>\n",
       "      <td>\"Humpty the train on a fruits ride\"[50]</td>\n",
       "      <td>Kiddiestv Hindi - children's songs</td>\n",
       "      <td>January 26, 2018</td>\n",
       "      <td>3.51</td>\n",
       "    </tr>\n",
       "    <tr>\n",
       "      <th>27</th>\n",
       "      <td>28.</td>\n",
       "      <td>\"Girls Like You\"[51]</td>\n",
       "      <td>Maroon 5</td>\n",
       "      <td>May 31, 2018</td>\n",
       "      <td>3.45</td>\n",
       "    </tr>\n",
       "    <tr>\n",
       "      <th>28</th>\n",
       "      <td>29.</td>\n",
       "      <td>\"Bailando\"[52]</td>\n",
       "      <td>Enrique Iglesias</td>\n",
       "      <td>April 11, 2014</td>\n",
       "      <td>3.43</td>\n",
       "    </tr>\n",
       "    <tr>\n",
       "      <th>29</th>\n",
       "      <td>30.</td>\n",
       "      <td>\"Lean On\"[53]</td>\n",
       "      <td>Major Lazer</td>\n",
       "      <td>March 22, 2015</td>\n",
       "      <td>3.43</td>\n",
       "    </tr>\n",
       "  </tbody>\n",
       "</table>\n",
       "</div>"
      ],
      "text/plain": [
       "   Ranks                                            Names  \\\n",
       "0     1.                            \"Baby Shark Dance\"[6]   \n",
       "1     2.                                   \"Despacito\"[9]   \n",
       "2     3.                       \"Johny Johny Yes Papa\"[16]   \n",
       "3     4.                                  \"Bath Song\"[17]   \n",
       "4     5.                               \"Shape of You\"[18]   \n",
       "5     6.                              \"See You Again\"[21]   \n",
       "6     7.                          \"Wheels on the Bus\"[26]   \n",
       "7     8.                \"Phonics Song with Two Words\"[27]   \n",
       "8     9.                                \"Uptown Funk\"[28]   \n",
       "9    10.  \"Learning Colors – Colorful Eggs on a Farm\"[29]   \n",
       "10   11.                              \"Gangnam Style\"[30]   \n",
       "11   12.   \"Masha and the Bear – Recipe for Disaster\"[35]   \n",
       "12   13.                             \"Dame Tu Cosita\"[36]   \n",
       "13   14.                                     \"Axel F\"[37]   \n",
       "14   15.                                      \"Sugar\"[38]   \n",
       "15   16.                                       \"Roar\"[39]   \n",
       "16   17.                             \"Counting Stars\"[40]   \n",
       "17   18.                        \"Baa Baa Black Sheep\"[41]   \n",
       "18   19.                                      \"Sorry\"[42]   \n",
       "19   20.           \"Waka Waka (This Time for Africa)\"[43]   \n",
       "20   21.                          \"Thinking Out Loud\"[44]   \n",
       "21   22.                             \"Lakdi Ki Kathi\"[45]   \n",
       "22   23.                                 \"Dark Horse\"[46]   \n",
       "23   24.                                    \"Perfect\"[47]   \n",
       "24   25.                                      \"Faded\"[48]   \n",
       "25   26.                                 \"Let Her Go\"[49]   \n",
       "26   27.          \"Humpty the train on a fruits ride\"[50]   \n",
       "27   28.                             \"Girls Like You\"[51]   \n",
       "28   29.                                   \"Bailando\"[52]   \n",
       "29   30.                                    \"Lean On\"[53]   \n",
       "\n",
       "                                   Artists      Uploaded Date  Views  \n",
       "0   Pinkfong Baby Shark - children's songs      June 17, 2016  13.18  \n",
       "1                               Luis Fonsi   January 12, 2017   8.23  \n",
       "2             LooLoo Kids - nursery rhymes    October 8, 2016   6.76  \n",
       "3               Cocomelon - nursery rhymes        May 2, 2018   6.33  \n",
       "4                               Ed Sheeran   January 30, 2017   6.05  \n",
       "5                              Wiz Khalifa      April 6, 2015   5.98  \n",
       "6               Cocomelon - nursery rhymes       May 24, 2018   5.46  \n",
       "7             ChuChu TV - children's songs      March 6, 2014   5.42  \n",
       "8                              Mark Ronson  November 19, 2014   5.00  \n",
       "9           Miroshka TV - children's songs  February 27, 2018   4.94  \n",
       "10                                     Psy      July 15, 2012   4.86  \n",
       "11           Get Movies - children's songs   January 31, 2012   4.55  \n",
       "12                               El Chombo      April 5, 2018   4.41  \n",
       "13                              Crazy Frog      June 16, 2009   4.00  \n",
       "14                                Maroon 5   January 14, 2015   3.91  \n",
       "15                              Katy Perry  September 5, 2013   3.84  \n",
       "16                             OneRepublic       May 31, 2013   3.84  \n",
       "17              Cocomelon - nursery rhymes      June 25, 2018   3.73  \n",
       "18                           Justin Bieber   October 22, 2015   3.69  \n",
       "19                                 Shakira       June 4, 2010   3.68  \n",
       "20                              Ed Sheeran    October 7, 2014   3.63  \n",
       "21                            Jingle Toons      June 14, 2018   3.63  \n",
       "22                              Katy Perry  February 20, 2014   3.56  \n",
       "23                              Ed Sheeran   November 9, 2017   3.51  \n",
       "24                             Alan Walker   December 3, 2015   3.49  \n",
       "25                               Passenger      July 25, 2012   3.48  \n",
       "26      Kiddiestv Hindi - children's songs   January 26, 2018   3.51  \n",
       "27                                Maroon 5       May 31, 2018   3.45  \n",
       "28                        Enrique Iglesias     April 11, 2014   3.43  \n",
       "29                             Major Lazer     March 22, 2015   3.43  "
      ]
     },
     "execution_count": 55,
     "metadata": {},
     "output_type": "execute_result"
    }
   ],
   "source": [
    "df = pd.DataFrame({'Ranks':rank,'Names':name,'Artists':arts,'Uploaded Date':upload_dates,'Views':views})\n",
    "df"
   ]
  },
  {
   "cell_type": "code",
   "execution_count": null,
   "id": "1f917152",
   "metadata": {},
   "outputs": [],
   "source": []
  },
  {
   "cell_type": "markdown",
   "id": "24d56061",
   "metadata": {},
   "source": [
    "# 2"
   ]
  },
  {
   "cell_type": "code",
   "execution_count": 56,
   "id": "9880a5b6",
   "metadata": {},
   "outputs": [],
   "source": [
    "driver = webdriver.Chrome()\n",
    "driver.get('https://www.bcci.tv/.')\n",
    "time.sleep(3)"
   ]
  },
  {
   "cell_type": "code",
   "execution_count": 57,
   "id": "3ce4c0dc",
   "metadata": {},
   "outputs": [],
   "source": [
    "international_fixtures = driver.find_element(By.CLASS_NAME,'nav-item')\n",
    "international_fixtures.click()"
   ]
  },
  {
   "cell_type": "code",
   "execution_count": 83,
   "id": "d27c121e",
   "metadata": {},
   "outputs": [],
   "source": [
    "titles = []\n",
    "series = []\n",
    "Place = []\n",
    "Dates = []\n",
    "Times = []"
   ]
  },
  {
   "cell_type": "code",
   "execution_count": null,
   "id": "0c9ae6fa",
   "metadata": {},
   "outputs": [],
   "source": []
  },
  {
   "cell_type": "code",
   "execution_count": 84,
   "id": "f80a459c",
   "metadata": {},
   "outputs": [
    {
     "name": "stdout",
     "output_type": "stream",
     "text": [
      "8 ['INDIA TOUR OF IRELAND 2023', 'INDIA TOUR OF IRELAND 2023', 'INDIA TOUR OF IRELAND 2023', 'ASIA CUP 2023', 'ASIA CUP 2023', 'AUSTRALIA TOUR OF INDIA 2023-24', 'AUSTRALIA TOUR OF INDIA 2023-24', 'AUSTRALIA TOUR OF INDIA 2023-24']\n"
     ]
    }
   ],
   "source": [
    "tit = driver.find_elements(By.XPATH,'//h5[@class=\"match-tournament-name ng-binding\"]')\n",
    "for i in tit:\n",
    "    if i.text:\n",
    "        titles.append(i.text)\n",
    "    else:\n",
    "        titles.append('-')\n",
    "print(len(titles),titles)"
   ]
  },
  {
   "cell_type": "code",
   "execution_count": 88,
   "id": "36523d7e",
   "metadata": {},
   "outputs": [
    {
     "name": "stdout",
     "output_type": "stream",
     "text": [
      "8 ['1st T20I -', '2nd T20I -', '3rd T20I -', '1st ODI -', '2nd ODI -', '1st ODI -', '2nd ODI -', '3rd ODI -']\n"
     ]
    }
   ],
   "source": [
    "ser = driver.find_elements(By.XPATH,'//span[@class=\"matchOrderText ng-binding ng-scope\"]')\n",
    "for i in ser:\n",
    "    if i.text:\n",
    "        series.append(i.text)\n",
    "    else:\n",
    "        series.append('-')\n",
    "print(len(series),series)"
   ]
  },
  {
   "cell_type": "code",
   "execution_count": 93,
   "id": "fc76700c",
   "metadata": {},
   "outputs": [
    {
     "name": "stdout",
     "output_type": "stream",
     "text": [
      "8 ['The Village,', 'The Village,', 'The Village,', 'Pallekele International Cricket Stadium,', 'Pallekele International Cricket Stadium,', 'Punjab Cricket Association IS Bindra Stadium,', 'Holkar Cricket Stadium,', 'Saurashtra Cricket Association Stadium,']\n"
     ]
    }
   ],
   "source": [
    "pla = driver.find_elements(By.XPATH,'//span[@class=\"ng-binding ng-scope\"]')\n",
    "for i in pla:\n",
    "    if i.text:\n",
    "        Place.append(i.text)\n",
    "    else:\n",
    "        Place.append('-')\n",
    "print(len(Place),Place)"
   ]
  },
  {
   "cell_type": "code",
   "execution_count": 94,
   "id": "b4fbe31b",
   "metadata": {},
   "outputs": [
    {
     "name": "stdout",
     "output_type": "stream",
     "text": [
      "8 ['18 AUG 2023', '20 AUG 2023', '23 AUG 2023', '2 SEP 2023', '4 SEP 2023', '22 SEP 2023', '24 SEP 2023', '27 SEP 2023']\n"
     ]
    }
   ],
   "source": [
    "date = driver.find_elements(By.XPATH,'//div[@class=\"match-dates ng-binding\"]')\n",
    "for i in date:\n",
    "    if i.text:\n",
    "        Dates.append(i.text)\n",
    "    else:\n",
    "        Dates.append('-')\n",
    "print(len(Dates),Dates)"
   ]
  },
  {
   "cell_type": "code",
   "execution_count": 95,
   "id": "c238892d",
   "metadata": {},
   "outputs": [
    {
     "name": "stdout",
     "output_type": "stream",
     "text": [
      "8 ['7:30 PM IST', '7:30 PM IST', '7:30 PM IST', '10:00 AM IST', '10:00 AM IST', '1:30 PM IST', '1:30 PM IST', '1:30 PM IST']\n"
     ]
    }
   ],
   "source": [
    "time = driver.find_elements(By.XPATH,'//div[@class=\"match-time no-margin ng-binding\"]')\n",
    "for i in time:\n",
    "    if i.text:\n",
    "        Times.append(i.text)\n",
    "    else:\n",
    "        Times.append('-')\n",
    "print(len(Times),Times)"
   ]
  },
  {
   "cell_type": "code",
   "execution_count": 98,
   "id": "f90efe7c",
   "metadata": {},
   "outputs": [],
   "source": [
    "driver.close()"
   ]
  },
  {
   "cell_type": "code",
   "execution_count": 97,
   "id": "4962e6a7",
   "metadata": {},
   "outputs": [
    {
     "data": {
      "text/html": [
       "<div>\n",
       "<style scoped>\n",
       "    .dataframe tbody tr th:only-of-type {\n",
       "        vertical-align: middle;\n",
       "    }\n",
       "\n",
       "    .dataframe tbody tr th {\n",
       "        vertical-align: top;\n",
       "    }\n",
       "\n",
       "    .dataframe thead th {\n",
       "        text-align: right;\n",
       "    }\n",
       "</style>\n",
       "<table border=\"1\" class=\"dataframe\">\n",
       "  <thead>\n",
       "    <tr style=\"text-align: right;\">\n",
       "      <th></th>\n",
       "      <th>Title</th>\n",
       "      <th>Series</th>\n",
       "      <th>Place</th>\n",
       "      <th>Date</th>\n",
       "      <th>Time</th>\n",
       "    </tr>\n",
       "  </thead>\n",
       "  <tbody>\n",
       "    <tr>\n",
       "      <th>0</th>\n",
       "      <td>INDIA TOUR OF IRELAND 2023</td>\n",
       "      <td>1st T20I -</td>\n",
       "      <td>The Village,</td>\n",
       "      <td>18 AUG 2023</td>\n",
       "      <td>7:30 PM IST</td>\n",
       "    </tr>\n",
       "    <tr>\n",
       "      <th>1</th>\n",
       "      <td>INDIA TOUR OF IRELAND 2023</td>\n",
       "      <td>2nd T20I -</td>\n",
       "      <td>The Village,</td>\n",
       "      <td>20 AUG 2023</td>\n",
       "      <td>7:30 PM IST</td>\n",
       "    </tr>\n",
       "    <tr>\n",
       "      <th>2</th>\n",
       "      <td>INDIA TOUR OF IRELAND 2023</td>\n",
       "      <td>3rd T20I -</td>\n",
       "      <td>The Village,</td>\n",
       "      <td>23 AUG 2023</td>\n",
       "      <td>7:30 PM IST</td>\n",
       "    </tr>\n",
       "    <tr>\n",
       "      <th>3</th>\n",
       "      <td>ASIA CUP 2023</td>\n",
       "      <td>1st ODI -</td>\n",
       "      <td>Pallekele International Cricket Stadium,</td>\n",
       "      <td>2 SEP 2023</td>\n",
       "      <td>10:00 AM IST</td>\n",
       "    </tr>\n",
       "    <tr>\n",
       "      <th>4</th>\n",
       "      <td>ASIA CUP 2023</td>\n",
       "      <td>2nd ODI -</td>\n",
       "      <td>Pallekele International Cricket Stadium,</td>\n",
       "      <td>4 SEP 2023</td>\n",
       "      <td>10:00 AM IST</td>\n",
       "    </tr>\n",
       "    <tr>\n",
       "      <th>5</th>\n",
       "      <td>AUSTRALIA TOUR OF INDIA 2023-24</td>\n",
       "      <td>1st ODI -</td>\n",
       "      <td>Punjab Cricket Association IS Bindra Stadium,</td>\n",
       "      <td>22 SEP 2023</td>\n",
       "      <td>1:30 PM IST</td>\n",
       "    </tr>\n",
       "    <tr>\n",
       "      <th>6</th>\n",
       "      <td>AUSTRALIA TOUR OF INDIA 2023-24</td>\n",
       "      <td>2nd ODI -</td>\n",
       "      <td>Holkar Cricket Stadium,</td>\n",
       "      <td>24 SEP 2023</td>\n",
       "      <td>1:30 PM IST</td>\n",
       "    </tr>\n",
       "    <tr>\n",
       "      <th>7</th>\n",
       "      <td>AUSTRALIA TOUR OF INDIA 2023-24</td>\n",
       "      <td>3rd ODI -</td>\n",
       "      <td>Saurashtra Cricket Association Stadium,</td>\n",
       "      <td>27 SEP 2023</td>\n",
       "      <td>1:30 PM IST</td>\n",
       "    </tr>\n",
       "  </tbody>\n",
       "</table>\n",
       "</div>"
      ],
      "text/plain": [
       "                             Title      Series  \\\n",
       "0       INDIA TOUR OF IRELAND 2023  1st T20I -   \n",
       "1       INDIA TOUR OF IRELAND 2023  2nd T20I -   \n",
       "2       INDIA TOUR OF IRELAND 2023  3rd T20I -   \n",
       "3                    ASIA CUP 2023   1st ODI -   \n",
       "4                    ASIA CUP 2023   2nd ODI -   \n",
       "5  AUSTRALIA TOUR OF INDIA 2023-24   1st ODI -   \n",
       "6  AUSTRALIA TOUR OF INDIA 2023-24   2nd ODI -   \n",
       "7  AUSTRALIA TOUR OF INDIA 2023-24   3rd ODI -   \n",
       "\n",
       "                                           Place         Date          Time  \n",
       "0                                   The Village,  18 AUG 2023   7:30 PM IST  \n",
       "1                                   The Village,  20 AUG 2023   7:30 PM IST  \n",
       "2                                   The Village,  23 AUG 2023   7:30 PM IST  \n",
       "3       Pallekele International Cricket Stadium,   2 SEP 2023  10:00 AM IST  \n",
       "4       Pallekele International Cricket Stadium,   4 SEP 2023  10:00 AM IST  \n",
       "5  Punjab Cricket Association IS Bindra Stadium,  22 SEP 2023   1:30 PM IST  \n",
       "6                        Holkar Cricket Stadium,  24 SEP 2023   1:30 PM IST  \n",
       "7        Saurashtra Cricket Association Stadium,  27 SEP 2023   1:30 PM IST  "
      ]
     },
     "execution_count": 97,
     "metadata": {},
     "output_type": "execute_result"
    }
   ],
   "source": [
    "df = pd.DataFrame({'Title':titles,'Series':series,'Place':Place,'Date':Dates,'Time':Times})\n",
    "df"
   ]
  },
  {
   "cell_type": "code",
   "execution_count": null,
   "id": "75b3b3a5",
   "metadata": {},
   "outputs": [],
   "source": []
  },
  {
   "cell_type": "markdown",
   "id": "4eb00125",
   "metadata": {},
   "source": [
    "# 3"
   ]
  },
  {
   "cell_type": "code",
   "execution_count": 36,
   "id": "c84118c5",
   "metadata": {},
   "outputs": [],
   "source": [
    "driver = webdriver.Chrome()\n",
    "driver.get('http://statisticstimes.com/')\n",
    "time.sleep(3)"
   ]
  },
  {
   "cell_type": "code",
   "execution_count": 106,
   "id": "78743aba",
   "metadata": {},
   "outputs": [],
   "source": [
    "economy = driver.find_element(By.CLASS_NAME,'dropbtn')\n",
    "economy.click()"
   ]
  },
  {
   "cell_type": "code",
   "execution_count": null,
   "id": "3b8d749a",
   "metadata": {},
   "outputs": [],
   "source": [
    "india = driver.find_element(By.XPATH,'/html/body/div[2]/div[1]/div[2]/div[2]/div/a[3]')\n",
    "india.click"
   ]
  },
  {
   "cell_type": "code",
   "execution_count": 111,
   "id": "a2c09465",
   "metadata": {},
   "outputs": [],
   "source": [
    "GDP_of_indian_states = driver.find_element(By.XPATH,'/html/body/div[2]/div[2]/div[2]/ul/li[1]/a')\n",
    "GDP_of_indian_states.click()"
   ]
  },
  {
   "cell_type": "code",
   "execution_count": 25,
   "id": "44de406b",
   "metadata": {},
   "outputs": [],
   "source": [
    "Ranks = []\n",
    "States = []\n",
    "G_pre = []\n",
    "G_cu= []\n",
    "Share = []\n",
    "GDP_in_billion = []"
   ]
  },
  {
   "cell_type": "code",
   "execution_count": 26,
   "id": "8a0c0aaf",
   "metadata": {},
   "outputs": [
    {
     "name": "stdout",
     "output_type": "stream",
     "text": [
      "33 ['1', '2', '3', '4', '5', '6', '7', '8', '9', '10', '11', '12', '13', '14', '15', '16', '17', '18', '19', '20', '21', '22', '23', '24', '25', '26', '27', '28', '29', '30', '31', '32', '33']\n"
     ]
    }
   ],
   "source": [
    "rank = driver.find_elements(By.XPATH,'//table[@id=\"table_id\"]/tbody/tr/td[1]')\n",
    "for i in rank:\n",
    "    if i.text:\n",
    "            Ranks.append(i.text) \n",
    "    else:\n",
    "        Ranks.append('-')\n",
    "print(len(Ranks),Ranks)"
   ]
  },
  {
   "cell_type": "code",
   "execution_count": 27,
   "id": "d72ec282",
   "metadata": {},
   "outputs": [
    {
     "name": "stdout",
     "output_type": "stream",
     "text": [
      "33 ['Maharashtra', 'Tamil Nadu', 'Uttar Pradesh', 'Gujarat', 'Karnataka', 'West Bengal', 'Rajasthan', 'Andhra Pradesh', 'Telangana', 'Madhya Pradesh', 'Kerala', 'Delhi', 'Haryana', 'Bihar', 'Punjab', 'Odisha', 'Assam', 'Chhattisgarh', 'Jharkhand', 'Uttarakhand', 'Jammu & Kashmir', 'Himachal Pradesh', 'Goa', 'Tripura', 'Chandigarh', 'Puducherry', 'Meghalaya', 'Sikkim', 'Manipur', 'Nagaland', 'Arunachal Pradesh', 'Mizoram', 'Andaman & Nicobar Islands']\n"
     ]
    }
   ],
   "source": [
    "sta = driver.find_elements(By.XPATH,'//table[@id=\"table_id\"]/tbody/tr/td[2]')\n",
    "for i in sta:\n",
    "    if i.text:\n",
    "        States.append(i.text)\n",
    "    else:\n",
    "        States.append('-')\n",
    "print(len(States),States)"
   ]
  },
  {
   "cell_type": "code",
   "execution_count": 28,
   "id": "c616a04c",
   "metadata": {},
   "outputs": [
    {
     "name": "stdout",
     "output_type": "stream",
     "text": [
      "33 ['2,632,792', '1,630,208', '1,584,764', '1,502,899', '1,493,127', '1,089,898', '942,586', '862,957', '861,031', '809,592', '781,653', '774,870', '734,163', '530,363', '526,376', '487,805', '315,881', '304,063', '297,204', '245,895', '155,956', '153,845', '73,170', '49,845', '42,114', '34,433', '33,481', '28,723', '27,870', '27,283', '24,603', '22,287', '-']\n"
     ]
    }
   ],
   "source": [
    "G_p = driver.find_elements(By.XPATH,'//table[@id=\"table_id\"]/tbody/tr/td[4]')\n",
    "for i in G_p:\n",
    "    if i.text:\n",
    "        G_pre.append(i.text)\n",
    "    else:\n",
    "        G_pre.append('-')\n",
    "print(len(G_pre),G_pre)"
   ]
  },
  {
   "cell_type": "code",
   "execution_count": 37,
   "id": "c793cdae",
   "metadata": {},
   "outputs": [
    {
     "name": "stdout",
     "output_type": "stream",
     "text": [
      "33 ['-', '1,845,853', '1,687,818', '-', '1,631,977', '1,253,832', '1,020,989', '972,782', '969,604', '906,672', '-', '856,112', '831,610', '611,804', '574,760', '521,275', '-', '329,180', '328,598', '-', '-', '165,472', '80,449', '55,984', '-', '38,253', '36,572', '32,496', '31,790', '-', '-', '26,503', '-']\n"
     ]
    }
   ],
   "source": [
    "G_c = driver.find_elements(By.XPATH,'//table[@id=\"table_id\"]/tbody/tr/td[3]')\n",
    "for i in G_c:\n",
    "    if i.text[:33]:\n",
    "        G_cu.append(i.text)\n",
    "    else:\n",
    "        G_cu.append('-')\n",
    "print(len(G_cu),G_cu)"
   ]
  },
  {
   "cell_type": "code",
   "execution_count": 29,
   "id": "93be2f25",
   "metadata": {},
   "outputs": [
    {
     "name": "stdout",
     "output_type": "stream",
     "text": [
      "33 ['13.94%', '8.63%', '8.39%', '7.96%', '7.91%', '5.77%', '4.99%', '4.57%', '4.56%', '4.29%', '4.14%', '4.10%', '3.89%', '2.81%', '2.79%', '2.58%', '1.67%', '1.61%', '1.57%', '1.30%', '0.83%', '0.81%', '0.39%', '0.26%', '0.22%', '0.18%', '0.18%', '0.15%', '0.15%', '0.14%', '0.13%', '0.12%', '-']\n"
     ]
    }
   ],
   "source": [
    "sha = driver.find_elements(By.XPATH,'//table[@id=\"table_id\"]/tbody/tr/td[5]')\n",
    "for i in sha:\n",
    "    if i.text:\n",
    "        Share.append(i.text)\n",
    "    else:\n",
    "        Share.append('-')\n",
    "print(len(Share),Share)"
   ]
  },
  {
   "cell_type": "code",
   "execution_count": 30,
   "id": "2b9ab065",
   "metadata": {},
   "outputs": [
    {
     "name": "stdout",
     "output_type": "stream",
     "text": [
      "33 ['399.921', '247.629', '240.726', '228.290', '226.806', '165.556', '143.179', '131.083', '130.791', '122.977', '118.733', '117.703', '111.519', '80.562', '79.957', '74.098', '47.982', '46.187', '45.145', '37.351', '23.690', '23.369', '11.115', '7.571', '6.397', '5.230', '5.086', '4.363', '4.233', '4.144', '3.737', '3.385', '-']\n"
     ]
    }
   ],
   "source": [
    "G_bill = driver.find_elements(By.XPATH,'//table[@id=\"table_id\"]/tbody/tr/td[6]')\n",
    "for i in G_bill:\n",
    "    if i.text:\n",
    "        GDP_in_billion.append(i.text)\n",
    "    else:\n",
    "        GDP_in_billion.append('-')\n",
    "print(len(GDP_in_billion),GDP_in_billion)"
   ]
  },
  {
   "cell_type": "code",
   "execution_count": 43,
   "id": "01bb5e72",
   "metadata": {},
   "outputs": [],
   "source": [
    "driver.close()"
   ]
  },
  {
   "cell_type": "code",
   "execution_count": 42,
   "id": "ae43548a",
   "metadata": {},
   "outputs": [
    {
     "data": {
      "text/html": [
       "<div>\n",
       "<style scoped>\n",
       "    .dataframe tbody tr th:only-of-type {\n",
       "        vertical-align: middle;\n",
       "    }\n",
       "\n",
       "    .dataframe tbody tr th {\n",
       "        vertical-align: top;\n",
       "    }\n",
       "\n",
       "    .dataframe thead th {\n",
       "        text-align: right;\n",
       "    }\n",
       "</style>\n",
       "<table border=\"1\" class=\"dataframe\">\n",
       "  <thead>\n",
       "    <tr style=\"text-align: right;\">\n",
       "      <th></th>\n",
       "      <th>Rank</th>\n",
       "      <th>State</th>\n",
       "      <th>GSDP(18-19)- at current prices</th>\n",
       "      <th>GSDP(19-20)- at current prices</th>\n",
       "      <th>Share(18-19)</th>\n",
       "      <th>GDP($ billion)</th>\n",
       "    </tr>\n",
       "  </thead>\n",
       "  <tbody>\n",
       "    <tr>\n",
       "      <th>0</th>\n",
       "      <td>1</td>\n",
       "      <td>Maharashtra</td>\n",
       "      <td>2,632,792</td>\n",
       "      <td>-</td>\n",
       "      <td>13.94%</td>\n",
       "      <td>399.921</td>\n",
       "    </tr>\n",
       "    <tr>\n",
       "      <th>1</th>\n",
       "      <td>2</td>\n",
       "      <td>Tamil Nadu</td>\n",
       "      <td>1,630,208</td>\n",
       "      <td>1,845,853</td>\n",
       "      <td>8.63%</td>\n",
       "      <td>247.629</td>\n",
       "    </tr>\n",
       "    <tr>\n",
       "      <th>2</th>\n",
       "      <td>3</td>\n",
       "      <td>Uttar Pradesh</td>\n",
       "      <td>1,584,764</td>\n",
       "      <td>1,687,818</td>\n",
       "      <td>8.39%</td>\n",
       "      <td>240.726</td>\n",
       "    </tr>\n",
       "    <tr>\n",
       "      <th>3</th>\n",
       "      <td>4</td>\n",
       "      <td>Gujarat</td>\n",
       "      <td>1,502,899</td>\n",
       "      <td>-</td>\n",
       "      <td>7.96%</td>\n",
       "      <td>228.290</td>\n",
       "    </tr>\n",
       "    <tr>\n",
       "      <th>4</th>\n",
       "      <td>5</td>\n",
       "      <td>Karnataka</td>\n",
       "      <td>1,493,127</td>\n",
       "      <td>1,631,977</td>\n",
       "      <td>7.91%</td>\n",
       "      <td>226.806</td>\n",
       "    </tr>\n",
       "    <tr>\n",
       "      <th>5</th>\n",
       "      <td>6</td>\n",
       "      <td>West Bengal</td>\n",
       "      <td>1,089,898</td>\n",
       "      <td>1,253,832</td>\n",
       "      <td>5.77%</td>\n",
       "      <td>165.556</td>\n",
       "    </tr>\n",
       "    <tr>\n",
       "      <th>6</th>\n",
       "      <td>7</td>\n",
       "      <td>Rajasthan</td>\n",
       "      <td>942,586</td>\n",
       "      <td>1,020,989</td>\n",
       "      <td>4.99%</td>\n",
       "      <td>143.179</td>\n",
       "    </tr>\n",
       "    <tr>\n",
       "      <th>7</th>\n",
       "      <td>8</td>\n",
       "      <td>Andhra Pradesh</td>\n",
       "      <td>862,957</td>\n",
       "      <td>972,782</td>\n",
       "      <td>4.57%</td>\n",
       "      <td>131.083</td>\n",
       "    </tr>\n",
       "    <tr>\n",
       "      <th>8</th>\n",
       "      <td>9</td>\n",
       "      <td>Telangana</td>\n",
       "      <td>861,031</td>\n",
       "      <td>969,604</td>\n",
       "      <td>4.56%</td>\n",
       "      <td>130.791</td>\n",
       "    </tr>\n",
       "    <tr>\n",
       "      <th>9</th>\n",
       "      <td>10</td>\n",
       "      <td>Madhya Pradesh</td>\n",
       "      <td>809,592</td>\n",
       "      <td>906,672</td>\n",
       "      <td>4.29%</td>\n",
       "      <td>122.977</td>\n",
       "    </tr>\n",
       "    <tr>\n",
       "      <th>10</th>\n",
       "      <td>11</td>\n",
       "      <td>Kerala</td>\n",
       "      <td>781,653</td>\n",
       "      <td>-</td>\n",
       "      <td>4.14%</td>\n",
       "      <td>118.733</td>\n",
       "    </tr>\n",
       "    <tr>\n",
       "      <th>11</th>\n",
       "      <td>12</td>\n",
       "      <td>Delhi</td>\n",
       "      <td>774,870</td>\n",
       "      <td>856,112</td>\n",
       "      <td>4.10%</td>\n",
       "      <td>117.703</td>\n",
       "    </tr>\n",
       "    <tr>\n",
       "      <th>12</th>\n",
       "      <td>13</td>\n",
       "      <td>Haryana</td>\n",
       "      <td>734,163</td>\n",
       "      <td>831,610</td>\n",
       "      <td>3.89%</td>\n",
       "      <td>111.519</td>\n",
       "    </tr>\n",
       "    <tr>\n",
       "      <th>13</th>\n",
       "      <td>14</td>\n",
       "      <td>Bihar</td>\n",
       "      <td>530,363</td>\n",
       "      <td>611,804</td>\n",
       "      <td>2.81%</td>\n",
       "      <td>80.562</td>\n",
       "    </tr>\n",
       "    <tr>\n",
       "      <th>14</th>\n",
       "      <td>15</td>\n",
       "      <td>Punjab</td>\n",
       "      <td>526,376</td>\n",
       "      <td>574,760</td>\n",
       "      <td>2.79%</td>\n",
       "      <td>79.957</td>\n",
       "    </tr>\n",
       "    <tr>\n",
       "      <th>15</th>\n",
       "      <td>16</td>\n",
       "      <td>Odisha</td>\n",
       "      <td>487,805</td>\n",
       "      <td>521,275</td>\n",
       "      <td>2.58%</td>\n",
       "      <td>74.098</td>\n",
       "    </tr>\n",
       "    <tr>\n",
       "      <th>16</th>\n",
       "      <td>17</td>\n",
       "      <td>Assam</td>\n",
       "      <td>315,881</td>\n",
       "      <td>-</td>\n",
       "      <td>1.67%</td>\n",
       "      <td>47.982</td>\n",
       "    </tr>\n",
       "    <tr>\n",
       "      <th>17</th>\n",
       "      <td>18</td>\n",
       "      <td>Chhattisgarh</td>\n",
       "      <td>304,063</td>\n",
       "      <td>329,180</td>\n",
       "      <td>1.61%</td>\n",
       "      <td>46.187</td>\n",
       "    </tr>\n",
       "    <tr>\n",
       "      <th>18</th>\n",
       "      <td>19</td>\n",
       "      <td>Jharkhand</td>\n",
       "      <td>297,204</td>\n",
       "      <td>328,598</td>\n",
       "      <td>1.57%</td>\n",
       "      <td>45.145</td>\n",
       "    </tr>\n",
       "    <tr>\n",
       "      <th>19</th>\n",
       "      <td>20</td>\n",
       "      <td>Uttarakhand</td>\n",
       "      <td>245,895</td>\n",
       "      <td>-</td>\n",
       "      <td>1.30%</td>\n",
       "      <td>37.351</td>\n",
       "    </tr>\n",
       "    <tr>\n",
       "      <th>20</th>\n",
       "      <td>21</td>\n",
       "      <td>Jammu &amp; Kashmir</td>\n",
       "      <td>155,956</td>\n",
       "      <td>-</td>\n",
       "      <td>0.83%</td>\n",
       "      <td>23.690</td>\n",
       "    </tr>\n",
       "    <tr>\n",
       "      <th>21</th>\n",
       "      <td>22</td>\n",
       "      <td>Himachal Pradesh</td>\n",
       "      <td>153,845</td>\n",
       "      <td>165,472</td>\n",
       "      <td>0.81%</td>\n",
       "      <td>23.369</td>\n",
       "    </tr>\n",
       "    <tr>\n",
       "      <th>22</th>\n",
       "      <td>23</td>\n",
       "      <td>Goa</td>\n",
       "      <td>73,170</td>\n",
       "      <td>80,449</td>\n",
       "      <td>0.39%</td>\n",
       "      <td>11.115</td>\n",
       "    </tr>\n",
       "    <tr>\n",
       "      <th>23</th>\n",
       "      <td>24</td>\n",
       "      <td>Tripura</td>\n",
       "      <td>49,845</td>\n",
       "      <td>55,984</td>\n",
       "      <td>0.26%</td>\n",
       "      <td>7.571</td>\n",
       "    </tr>\n",
       "    <tr>\n",
       "      <th>24</th>\n",
       "      <td>25</td>\n",
       "      <td>Chandigarh</td>\n",
       "      <td>42,114</td>\n",
       "      <td>-</td>\n",
       "      <td>0.22%</td>\n",
       "      <td>6.397</td>\n",
       "    </tr>\n",
       "    <tr>\n",
       "      <th>25</th>\n",
       "      <td>26</td>\n",
       "      <td>Puducherry</td>\n",
       "      <td>34,433</td>\n",
       "      <td>38,253</td>\n",
       "      <td>0.18%</td>\n",
       "      <td>5.230</td>\n",
       "    </tr>\n",
       "    <tr>\n",
       "      <th>26</th>\n",
       "      <td>27</td>\n",
       "      <td>Meghalaya</td>\n",
       "      <td>33,481</td>\n",
       "      <td>36,572</td>\n",
       "      <td>0.18%</td>\n",
       "      <td>5.086</td>\n",
       "    </tr>\n",
       "    <tr>\n",
       "      <th>27</th>\n",
       "      <td>28</td>\n",
       "      <td>Sikkim</td>\n",
       "      <td>28,723</td>\n",
       "      <td>32,496</td>\n",
       "      <td>0.15%</td>\n",
       "      <td>4.363</td>\n",
       "    </tr>\n",
       "    <tr>\n",
       "      <th>28</th>\n",
       "      <td>29</td>\n",
       "      <td>Manipur</td>\n",
       "      <td>27,870</td>\n",
       "      <td>31,790</td>\n",
       "      <td>0.15%</td>\n",
       "      <td>4.233</td>\n",
       "    </tr>\n",
       "    <tr>\n",
       "      <th>29</th>\n",
       "      <td>30</td>\n",
       "      <td>Nagaland</td>\n",
       "      <td>27,283</td>\n",
       "      <td>-</td>\n",
       "      <td>0.14%</td>\n",
       "      <td>4.144</td>\n",
       "    </tr>\n",
       "    <tr>\n",
       "      <th>30</th>\n",
       "      <td>31</td>\n",
       "      <td>Arunachal Pradesh</td>\n",
       "      <td>24,603</td>\n",
       "      <td>-</td>\n",
       "      <td>0.13%</td>\n",
       "      <td>3.737</td>\n",
       "    </tr>\n",
       "    <tr>\n",
       "      <th>31</th>\n",
       "      <td>32</td>\n",
       "      <td>Mizoram</td>\n",
       "      <td>22,287</td>\n",
       "      <td>26,503</td>\n",
       "      <td>0.12%</td>\n",
       "      <td>3.385</td>\n",
       "    </tr>\n",
       "    <tr>\n",
       "      <th>32</th>\n",
       "      <td>33</td>\n",
       "      <td>Andaman &amp; Nicobar Islands</td>\n",
       "      <td>-</td>\n",
       "      <td>-</td>\n",
       "      <td>-</td>\n",
       "      <td>-</td>\n",
       "    </tr>\n",
       "  </tbody>\n",
       "</table>\n",
       "</div>"
      ],
      "text/plain": [
       "   Rank                      State GSDP(18-19)- at current prices   \\\n",
       "0     1                Maharashtra                       2,632,792   \n",
       "1     2                 Tamil Nadu                       1,630,208   \n",
       "2     3              Uttar Pradesh                       1,584,764   \n",
       "3     4                    Gujarat                       1,502,899   \n",
       "4     5                  Karnataka                       1,493,127   \n",
       "5     6                West Bengal                       1,089,898   \n",
       "6     7                  Rajasthan                         942,586   \n",
       "7     8             Andhra Pradesh                         862,957   \n",
       "8     9                  Telangana                         861,031   \n",
       "9    10             Madhya Pradesh                         809,592   \n",
       "10   11                     Kerala                         781,653   \n",
       "11   12                      Delhi                         774,870   \n",
       "12   13                    Haryana                         734,163   \n",
       "13   14                      Bihar                         530,363   \n",
       "14   15                     Punjab                         526,376   \n",
       "15   16                     Odisha                         487,805   \n",
       "16   17                      Assam                         315,881   \n",
       "17   18               Chhattisgarh                         304,063   \n",
       "18   19                  Jharkhand                         297,204   \n",
       "19   20                Uttarakhand                         245,895   \n",
       "20   21            Jammu & Kashmir                         155,956   \n",
       "21   22           Himachal Pradesh                         153,845   \n",
       "22   23                        Goa                          73,170   \n",
       "23   24                    Tripura                          49,845   \n",
       "24   25                 Chandigarh                          42,114   \n",
       "25   26                 Puducherry                          34,433   \n",
       "26   27                  Meghalaya                          33,481   \n",
       "27   28                     Sikkim                          28,723   \n",
       "28   29                    Manipur                          27,870   \n",
       "29   30                   Nagaland                          27,283   \n",
       "30   31          Arunachal Pradesh                          24,603   \n",
       "31   32                    Mizoram                          22,287   \n",
       "32   33  Andaman & Nicobar Islands                               -   \n",
       "\n",
       "   GSDP(19-20)- at current prices Share(18-19) GDP($ billion)  \n",
       "0                               -       13.94%        399.921  \n",
       "1                       1,845,853        8.63%        247.629  \n",
       "2                       1,687,818        8.39%        240.726  \n",
       "3                               -        7.96%        228.290  \n",
       "4                       1,631,977        7.91%        226.806  \n",
       "5                       1,253,832        5.77%        165.556  \n",
       "6                       1,020,989        4.99%        143.179  \n",
       "7                         972,782        4.57%        131.083  \n",
       "8                         969,604        4.56%        130.791  \n",
       "9                         906,672        4.29%        122.977  \n",
       "10                              -        4.14%        118.733  \n",
       "11                        856,112        4.10%        117.703  \n",
       "12                        831,610        3.89%        111.519  \n",
       "13                        611,804        2.81%         80.562  \n",
       "14                        574,760        2.79%         79.957  \n",
       "15                        521,275        2.58%         74.098  \n",
       "16                              -        1.67%         47.982  \n",
       "17                        329,180        1.61%         46.187  \n",
       "18                        328,598        1.57%         45.145  \n",
       "19                              -        1.30%         37.351  \n",
       "20                              -        0.83%         23.690  \n",
       "21                        165,472        0.81%         23.369  \n",
       "22                         80,449        0.39%         11.115  \n",
       "23                         55,984        0.26%          7.571  \n",
       "24                              -        0.22%          6.397  \n",
       "25                         38,253        0.18%          5.230  \n",
       "26                         36,572        0.18%          5.086  \n",
       "27                         32,496        0.15%          4.363  \n",
       "28                         31,790        0.15%          4.233  \n",
       "29                              -        0.14%          4.144  \n",
       "30                              -        0.13%          3.737  \n",
       "31                         26,503        0.12%          3.385  \n",
       "32                              -            -              -  "
      ]
     },
     "execution_count": 42,
     "metadata": {},
     "output_type": "execute_result"
    }
   ],
   "source": [
    "df = pd.DataFrame({'Rank':Ranks,'State':States,'GSDP(18-19)- at current prices ':G_pre,\n",
    "                   'GSDP(19-20)- at current prices':G_cu,'Share(18-19)':Share,'GDP($ billion)':GDP_in_billion})\n",
    "\n",
    "df"
   ]
  },
  {
   "cell_type": "code",
   "execution_count": null,
   "id": "a26c6407",
   "metadata": {},
   "outputs": [],
   "source": []
  },
  {
   "cell_type": "markdown",
   "id": "5cabf22b",
   "metadata": {},
   "source": [
    "# 4"
   ]
  },
  {
   "cell_type": "code",
   "execution_count": 44,
   "id": "b47ee2bd",
   "metadata": {},
   "outputs": [],
   "source": [
    "driver = webdriver.Chrome()\n",
    "driver.get('https://github.com/')\n",
    "time.sleep(3)"
   ]
  },
  {
   "cell_type": "code",
   "execution_count": 45,
   "id": "cf293119",
   "metadata": {},
   "outputs": [],
   "source": [
    "source = driver.find_element(By.XPATH,'/html/body/div[1]/div[1]/header/div/div[2]/div/nav/ul/li[3]/button')\n",
    "source.click()"
   ]
  },
  {
   "cell_type": "code",
   "execution_count": null,
   "id": "162669dd",
   "metadata": {},
   "outputs": [],
   "source": [
    "trending = driver.find_element(By.XPATH,'/html/body/div[1]/div[1]/header/div/div[2]/div/nav/ul/li[3]/div/div[3]/ul/li[2]/a')\n",
    "trending.click()"
   ]
  },
  {
   "cell_type": "code",
   "execution_count": 94,
   "id": "3b6e7f47",
   "metadata": {},
   "outputs": [],
   "source": [
    "titl = []\n",
    "descriptions = []\n",
    "count = []\n",
    "Language = []"
   ]
  },
  {
   "cell_type": "code",
   "execution_count": 103,
   "id": "60611f7d",
   "metadata": {},
   "outputs": [
    {
     "name": "stdout",
     "output_type": "stream",
     "text": [
      "25 [['a16z-infra ', ' ai-town'], ['opentffoundation ', ' manifesto'], ['lllyasviel ', ' Fooocus'], ['varunshenoy ', ' opendream'], ['modelscope ', ' facechain'], ['Azure-Samples ', ' azure-search-openai-demo'], ['chatchat-space ', ' Langchain-Chatchat'], ['morph-labs ', ' rift'], ['NVlabs ', ' neuralangelo'], ['ProfSynapse ', ' Synapse_CoR'], ['steven2358 ', ' awesome-generative-ai'], ['ibaiw ', ' 2023Hvv'], ['iam-veeramalla ', ' aws-devops-zero-to-hero'], ['AntonOsika ', ' gpt-engineer'], ['bigskysoftware ', ' htmx'], ['angular ', ' angular'], ['XingangPan ', ' DragGAN'], ['google ', ' googletest'], ['Yidadaa ', ' ChatGPT-Next-Web'], ['awesome-selfhosted ', ' awesome-selfhosted'], ['vercel ', ' next.js'], ['1Panel-dev ', ' 1Panel'], ['assafelovic ', ' gpt-researcher'], ['dotnet ', ' maui'], ['plbrault ', ' youre-the-os']]\n"
     ]
    }
   ],
   "source": [
    "tit = driver.find_elements(By.XPATH,'//a[@class=\"Link\"]')\n",
    "for i in tit:\n",
    "    if i.text:\n",
    "        titl.append(i.text.split('/')[0:])\n",
    "    else:\n",
    "        titl.append('-')\n",
    "print(len(titl),titl)"
   ]
  },
  {
   "cell_type": "code",
   "execution_count": 109,
   "id": "894168b6",
   "metadata": {},
   "outputs": [
    {
     "name": "stdout",
     "output_type": "stream",
     "text": [
      "24 ['A MIT-licensed, deployable starter kit for building and customizing your own version of AI town - a virtual town where AI characters live, chat and socialize.', \"The OpenTF Manifesto expresses concern over HashiCorp's switch of the Terraform license from open-source to the Business Source License (BSL) and calls for the tool's return to a truly open-source license.\", 'Focus on prompting and generating', 'An extensible, easy-to-use, and portable diffusion web UI 👨\\u200d🎨', 'FaceChain is a deep-learning toolchain for generating your Digital-Twin.', 'A sample app for the Retrieval-Augmented Generation pattern running in Azure, using Azure Cognitive Search for retrieval and Azure OpenAI large language models to power ChatGPT-style and Q&A experiences.', 'Langchain-Chatchat (formerly langchain-ChatGLM), local knowledge based LLM (like ChatGLM) QA app with langchain ｜ 基于 Langchain 与 ChatGLM 等语言模型的本地知识库问答', 'Rift: an AI-native language server for your personal AI software engineer', 'Official implementation of \"Neuralangelo: High-Fidelity Neural Surface Reconstruction\" (CVPR 2023)', 'A curated list of modern Generative Artificial Intelligence projects and services', '2023 HVV情报速递~', 'AWS zero to hero repo for devops engineers to learn AWS in 30 Days. This repo includes projects, presentations, interview questions and real time examples.', 'Specify what you want it to build, the AI asks for clarification, and then builds it.', '</> htmx - high power tools for HTML', 'The modern web developer’s platform', 'Official Code for DragGAN (SIGGRAPH 2023)', 'GoogleTest - Google Testing and Mocking Framework', 'A well-designed cross-platform ChatGPT UI (Web / PWA / Linux / Win / MacOS). 一键拥有你自己的跨平台 ChatGPT 应用。', 'A list of Free Software network services and web applications which can be hosted on your own servers', 'The React Framework', '🔥 🔥 🔥 现代化、开源的 Linux 服务器运维管理面板。', 'GPT based autonomous agent that does online comprehensive research on any given topic', '.NET MAUI is the .NET Multi-platform App UI, a framework for building native device applications spanning mobile, tablet, and desktop.', \"A game where you are a computer's OS and you have to manage processes, memory and I/O events.\"]\n"
     ]
    }
   ],
   "source": [
    "desc = driver.find_elements(By.XPATH,'//p[@class=\"col-9 color-fg-muted my-1 pr-4\"]')\n",
    "for i in desc:\n",
    "    if i.text:\n",
    "        descriptions.append(i.text)\n",
    "    else:\n",
    "        descriptions.append('-')\n",
    "    \n",
    "print(len(descriptions),descriptions)"
   ]
  },
  {
   "cell_type": "code",
   "execution_count": 98,
   "id": "f8503cfb",
   "metadata": {},
   "outputs": [
    {
     "name": "stdout",
     "output_type": "stream",
     "text": [
      "100 ['DicsyDel', 'brikis98', 'coryodaniel', 'SebastianStadil', 'ZIJ', 'orbitz', 'flavius-dinu', 'josh-padnick', 'marcinwyszynski', 'maheshrjl', 'nikolay', 'surfingdoggo', 'ondrejsika', 'omry-hay', 'arwalton', 'Bharathkumarraju', 'dcantos1', 'rogerdipasquale', 'evanstucker-hates-2fa', 'shubhindia', 'madpipeline', 'ptzool', 'rawkode', 'OleksandrUA', 'shahadarsh', 'KelvinVenancio', 'ohad1282', 'spacefuntus', 'AymenSegni', 'hestio-serviceadmin', 'bschaatsbergen', 'Cyclenerd', 'olivierlambert', 'eniolastyle', 'hilyas', 'fatihtokus', 'ipolyzos', 'dvaumoron', 'suryaoruganti', 'samuel-phan', 'antgel', 'jwalsh2me', 'nkotov', 'tigpt', 'ismail44', 'simonramosb', 'viktorix', 'knh1', 'ronnylt', 'yoaquim', 'ttahir86', 'eran-infralight', 'mstrzele', 'coingraham', 'jimjag', 'tamalsaha', 'DanielRis', 'ddouglas', 'tksrc', 'ctvanzandt42', 'edwardofclt', 'theknickerbocker', 'patrick-andrew-jain-taylor', 'gen0cide', 'jwenz723', 'arcaven', 'phaedrus-jaf', 'pst', 'cesar-rodriguez', 'sandrom', 'dave-dotnet-overall', 'RoseSecurity', 'cdsre', 'zachreborn', 'jeroenhabets', 'schrodervictor', 'mik3h0', 'lazzurs', 'bazaah', 'bcantrill', 'MarianoRD', 'kunovsky', 'thschue', 'tparvu', 'anmolnagpal', 'tarahmarie', 'leg100', 'jcanizalez', 'sms-astanley', 'mcalhoun', 'xneyder', 'evoxmusic', 'rtfee', 'jlarfors', 'joshpollara', 'NathanFlurry', 'Piccirello', 'wasinsandiego', 'soerenmartius', 'emocharnik']\n"
     ]
    }
   ],
   "source": [
    "contr = driver.find_element(By.XPATH,'//a[@class=\"Link Link--muted d-inline-block mr-3\"]')\n",
    "contr.click()\n",
    "time.sleep(2)\n",
    "\n",
    "by = driver.find_element(By.XPATH,'/html/body/div[1]/div[4]/div/main/turbo-frame/div/div/div/div[1]/nav/a[2]')\n",
    "by.click()\n",
    "time.sleep(2)\n",
    "\n",
    "contributors = driver.find_elements(By.XPATH,'//a[@class=\"text-normal\"]')\n",
    "for i in contributors:\n",
    "    if i.text:\n",
    "        count.append(i.text)\n",
    "    else:\n",
    "        count.append('-')\n",
    "print(len(count),count)"
   ]
  },
  {
   "cell_type": "code",
   "execution_count": 99,
   "id": "d0f47f0a",
   "metadata": {},
   "outputs": [
    {
     "name": "stdout",
     "output_type": "stream",
     "text": [
      "22 ['TypeScript', 'HTML', 'Python', 'JavaScript', 'Python', 'Python', 'Python', 'Python', 'Python', 'Python', 'Python', 'JavaScript', 'TypeScript', 'Python', 'C++', 'TypeScript', 'Makefile', 'JavaScript', 'Go', 'Python', 'C#', 'Python']\n"
     ]
    }
   ],
   "source": [
    "lang = driver.find_elements(By.XPATH,'//span[@class=\"d-inline-block ml-0 mr-3\"]')\n",
    "for i in lang:\n",
    "    if i.text:\n",
    "        Language.append(i.text)\n",
    "    else:\n",
    "        Language.append('-')\n",
    "print(len(Language),Language)"
   ]
  },
  {
   "cell_type": "code",
   "execution_count": 111,
   "id": "0a9012ee",
   "metadata": {},
   "outputs": [],
   "source": [
    "driver.close()"
   ]
  },
  {
   "cell_type": "code",
   "execution_count": 110,
   "id": "89df3b10",
   "metadata": {},
   "outputs": [
    {
     "data": {
      "text/html": [
       "<div>\n",
       "<style scoped>\n",
       "    .dataframe tbody tr th:only-of-type {\n",
       "        vertical-align: middle;\n",
       "    }\n",
       "\n",
       "    .dataframe tbody tr th {\n",
       "        vertical-align: top;\n",
       "    }\n",
       "\n",
       "    .dataframe thead th {\n",
       "        text-align: right;\n",
       "    }\n",
       "</style>\n",
       "<table border=\"1\" class=\"dataframe\">\n",
       "  <thead>\n",
       "    <tr style=\"text-align: right;\">\n",
       "      <th></th>\n",
       "      <th>Repository title</th>\n",
       "      <th>Repository description</th>\n",
       "      <th>Contributors count</th>\n",
       "      <th>Programing Language used</th>\n",
       "    </tr>\n",
       "  </thead>\n",
       "  <tbody>\n",
       "    <tr>\n",
       "      <th>0</th>\n",
       "      <td>[a16z-infra ,  ai-town]</td>\n",
       "      <td>A MIT-licensed, deployable starter kit for bui...</td>\n",
       "      <td>DicsyDel</td>\n",
       "      <td>TypeScript</td>\n",
       "    </tr>\n",
       "    <tr>\n",
       "      <th>1</th>\n",
       "      <td>[opentffoundation ,  manifesto]</td>\n",
       "      <td>The OpenTF Manifesto expresses concern over Ha...</td>\n",
       "      <td>brikis98</td>\n",
       "      <td>HTML</td>\n",
       "    </tr>\n",
       "    <tr>\n",
       "      <th>2</th>\n",
       "      <td>[lllyasviel ,  Fooocus]</td>\n",
       "      <td>Focus on prompting and generating</td>\n",
       "      <td>coryodaniel</td>\n",
       "      <td>Python</td>\n",
       "    </tr>\n",
       "    <tr>\n",
       "      <th>3</th>\n",
       "      <td>[varunshenoy ,  opendream]</td>\n",
       "      <td>An extensible, easy-to-use, and portable diffu...</td>\n",
       "      <td>SebastianStadil</td>\n",
       "      <td>JavaScript</td>\n",
       "    </tr>\n",
       "    <tr>\n",
       "      <th>4</th>\n",
       "      <td>[modelscope ,  facechain]</td>\n",
       "      <td>FaceChain is a deep-learning toolchain for gen...</td>\n",
       "      <td>ZIJ</td>\n",
       "      <td>Python</td>\n",
       "    </tr>\n",
       "    <tr>\n",
       "      <th>5</th>\n",
       "      <td>[Azure-Samples ,  azure-search-openai-demo]</td>\n",
       "      <td>A sample app for the Retrieval-Augmented Gener...</td>\n",
       "      <td>orbitz</td>\n",
       "      <td>Python</td>\n",
       "    </tr>\n",
       "    <tr>\n",
       "      <th>6</th>\n",
       "      <td>[chatchat-space ,  Langchain-Chatchat]</td>\n",
       "      <td>Langchain-Chatchat (formerly langchain-ChatGLM...</td>\n",
       "      <td>flavius-dinu</td>\n",
       "      <td>Python</td>\n",
       "    </tr>\n",
       "    <tr>\n",
       "      <th>7</th>\n",
       "      <td>[morph-labs ,  rift]</td>\n",
       "      <td>Rift: an AI-native language server for your pe...</td>\n",
       "      <td>josh-padnick</td>\n",
       "      <td>Python</td>\n",
       "    </tr>\n",
       "    <tr>\n",
       "      <th>8</th>\n",
       "      <td>[NVlabs ,  neuralangelo]</td>\n",
       "      <td>Official implementation of \"Neuralangelo: High...</td>\n",
       "      <td>marcinwyszynski</td>\n",
       "      <td>Python</td>\n",
       "    </tr>\n",
       "    <tr>\n",
       "      <th>9</th>\n",
       "      <td>[ProfSynapse ,  Synapse_CoR]</td>\n",
       "      <td>A curated list of modern Generative Artificial...</td>\n",
       "      <td>maheshrjl</td>\n",
       "      <td>Python</td>\n",
       "    </tr>\n",
       "    <tr>\n",
       "      <th>10</th>\n",
       "      <td>[steven2358 ,  awesome-generative-ai]</td>\n",
       "      <td>2023 HVV情报速递~</td>\n",
       "      <td>nikolay</td>\n",
       "      <td>Python</td>\n",
       "    </tr>\n",
       "    <tr>\n",
       "      <th>11</th>\n",
       "      <td>[ibaiw ,  2023Hvv]</td>\n",
       "      <td>AWS zero to hero repo for devops engineers to ...</td>\n",
       "      <td>surfingdoggo</td>\n",
       "      <td>JavaScript</td>\n",
       "    </tr>\n",
       "    <tr>\n",
       "      <th>12</th>\n",
       "      <td>[iam-veeramalla ,  aws-devops-zero-to-hero]</td>\n",
       "      <td>Specify what you want it to build, the AI asks...</td>\n",
       "      <td>ondrejsika</td>\n",
       "      <td>TypeScript</td>\n",
       "    </tr>\n",
       "    <tr>\n",
       "      <th>13</th>\n",
       "      <td>[AntonOsika ,  gpt-engineer]</td>\n",
       "      <td>&lt;/&gt; htmx - high power tools for HTML</td>\n",
       "      <td>omry-hay</td>\n",
       "      <td>Python</td>\n",
       "    </tr>\n",
       "    <tr>\n",
       "      <th>14</th>\n",
       "      <td>[bigskysoftware ,  htmx]</td>\n",
       "      <td>The modern web developer’s platform</td>\n",
       "      <td>arwalton</td>\n",
       "      <td>C++</td>\n",
       "    </tr>\n",
       "    <tr>\n",
       "      <th>15</th>\n",
       "      <td>[angular ,  angular]</td>\n",
       "      <td>Official Code for DragGAN (SIGGRAPH 2023)</td>\n",
       "      <td>Bharathkumarraju</td>\n",
       "      <td>TypeScript</td>\n",
       "    </tr>\n",
       "    <tr>\n",
       "      <th>16</th>\n",
       "      <td>[XingangPan ,  DragGAN]</td>\n",
       "      <td>GoogleTest - Google Testing and Mocking Framework</td>\n",
       "      <td>dcantos1</td>\n",
       "      <td>Makefile</td>\n",
       "    </tr>\n",
       "    <tr>\n",
       "      <th>17</th>\n",
       "      <td>[google ,  googletest]</td>\n",
       "      <td>A well-designed cross-platform ChatGPT UI (Web...</td>\n",
       "      <td>rogerdipasquale</td>\n",
       "      <td>JavaScript</td>\n",
       "    </tr>\n",
       "    <tr>\n",
       "      <th>18</th>\n",
       "      <td>[Yidadaa ,  ChatGPT-Next-Web]</td>\n",
       "      <td>A list of Free Software network services and w...</td>\n",
       "      <td>evanstucker-hates-2fa</td>\n",
       "      <td>Go</td>\n",
       "    </tr>\n",
       "    <tr>\n",
       "      <th>19</th>\n",
       "      <td>[awesome-selfhosted ,  awesome-selfhosted]</td>\n",
       "      <td>The React Framework</td>\n",
       "      <td>shubhindia</td>\n",
       "      <td>Python</td>\n",
       "    </tr>\n",
       "    <tr>\n",
       "      <th>20</th>\n",
       "      <td>[vercel ,  next.js]</td>\n",
       "      <td>🔥 🔥 🔥 现代化、开源的 Linux 服务器运维管理面板。</td>\n",
       "      <td>madpipeline</td>\n",
       "      <td>C#</td>\n",
       "    </tr>\n",
       "    <tr>\n",
       "      <th>21</th>\n",
       "      <td>[1Panel-dev ,  1Panel]</td>\n",
       "      <td>GPT based autonomous agent that does online co...</td>\n",
       "      <td>ptzool</td>\n",
       "      <td>Python</td>\n",
       "    </tr>\n",
       "  </tbody>\n",
       "</table>\n",
       "</div>"
      ],
      "text/plain": [
       "                               Repository title  \\\n",
       "0                       [a16z-infra ,  ai-town]   \n",
       "1               [opentffoundation ,  manifesto]   \n",
       "2                       [lllyasviel ,  Fooocus]   \n",
       "3                    [varunshenoy ,  opendream]   \n",
       "4                     [modelscope ,  facechain]   \n",
       "5   [Azure-Samples ,  azure-search-openai-demo]   \n",
       "6        [chatchat-space ,  Langchain-Chatchat]   \n",
       "7                          [morph-labs ,  rift]   \n",
       "8                      [NVlabs ,  neuralangelo]   \n",
       "9                  [ProfSynapse ,  Synapse_CoR]   \n",
       "10        [steven2358 ,  awesome-generative-ai]   \n",
       "11                           [ibaiw ,  2023Hvv]   \n",
       "12  [iam-veeramalla ,  aws-devops-zero-to-hero]   \n",
       "13                 [AntonOsika ,  gpt-engineer]   \n",
       "14                     [bigskysoftware ,  htmx]   \n",
       "15                         [angular ,  angular]   \n",
       "16                      [XingangPan ,  DragGAN]   \n",
       "17                       [google ,  googletest]   \n",
       "18                [Yidadaa ,  ChatGPT-Next-Web]   \n",
       "19   [awesome-selfhosted ,  awesome-selfhosted]   \n",
       "20                          [vercel ,  next.js]   \n",
       "21                       [1Panel-dev ,  1Panel]   \n",
       "\n",
       "                               Repository description     Contributors count  \\\n",
       "0   A MIT-licensed, deployable starter kit for bui...               DicsyDel   \n",
       "1   The OpenTF Manifesto expresses concern over Ha...               brikis98   \n",
       "2                   Focus on prompting and generating            coryodaniel   \n",
       "3   An extensible, easy-to-use, and portable diffu...        SebastianStadil   \n",
       "4   FaceChain is a deep-learning toolchain for gen...                    ZIJ   \n",
       "5   A sample app for the Retrieval-Augmented Gener...                 orbitz   \n",
       "6   Langchain-Chatchat (formerly langchain-ChatGLM...           flavius-dinu   \n",
       "7   Rift: an AI-native language server for your pe...           josh-padnick   \n",
       "8   Official implementation of \"Neuralangelo: High...        marcinwyszynski   \n",
       "9   A curated list of modern Generative Artificial...              maheshrjl   \n",
       "10                                      2023 HVV情报速递~                nikolay   \n",
       "11  AWS zero to hero repo for devops engineers to ...           surfingdoggo   \n",
       "12  Specify what you want it to build, the AI asks...             ondrejsika   \n",
       "13               </> htmx - high power tools for HTML               omry-hay   \n",
       "14                The modern web developer’s platform               arwalton   \n",
       "15          Official Code for DragGAN (SIGGRAPH 2023)       Bharathkumarraju   \n",
       "16  GoogleTest - Google Testing and Mocking Framework               dcantos1   \n",
       "17  A well-designed cross-platform ChatGPT UI (Web...        rogerdipasquale   \n",
       "18  A list of Free Software network services and w...  evanstucker-hates-2fa   \n",
       "19                                The React Framework             shubhindia   \n",
       "20                     🔥 🔥 🔥 现代化、开源的 Linux 服务器运维管理面板。            madpipeline   \n",
       "21  GPT based autonomous agent that does online co...                 ptzool   \n",
       "\n",
       "   Programing Language used  \n",
       "0                TypeScript  \n",
       "1                      HTML  \n",
       "2                    Python  \n",
       "3                JavaScript  \n",
       "4                    Python  \n",
       "5                    Python  \n",
       "6                    Python  \n",
       "7                    Python  \n",
       "8                    Python  \n",
       "9                    Python  \n",
       "10                   Python  \n",
       "11               JavaScript  \n",
       "12               TypeScript  \n",
       "13                   Python  \n",
       "14                      C++  \n",
       "15               TypeScript  \n",
       "16                 Makefile  \n",
       "17               JavaScript  \n",
       "18                       Go  \n",
       "19                   Python  \n",
       "20                       C#  \n",
       "21                   Python  "
      ]
     },
     "execution_count": 110,
     "metadata": {},
     "output_type": "execute_result"
    }
   ],
   "source": [
    "df = pd.DataFrame({'Repository title':titl[:22],'Repository description':descriptions[:22],\n",
    "                   'Contributors count':count[:22],'Programing Language used':Language[:22]})\n",
    "df"
   ]
  },
  {
   "cell_type": "code",
   "execution_count": null,
   "id": "7393eda1",
   "metadata": {},
   "outputs": [],
   "source": []
  },
  {
   "cell_type": "markdown",
   "id": "47dedf54",
   "metadata": {},
   "source": [
    "# 5"
   ]
  },
  {
   "cell_type": "code",
   "execution_count": null,
   "id": "e1e0251c",
   "metadata": {},
   "outputs": [],
   "source": [
    "5. Scrape the details of top 100 songs on billiboard.com. Url = https:/www.billboard.com/\n",
    "You have to find the following details:\n",
    "A) Song name\n",
    "B) Artist name\n",
    "C) Last week rank\n",
    "D) Peak rank\n",
    "E) Weeks on board\n",
    "Note: - From the home page you have to click on the charts option then hot 100-page link through code. "
   ]
  },
  {
   "cell_type": "code",
   "execution_count": 2,
   "id": "8e264328",
   "metadata": {},
   "outputs": [],
   "source": [
    "driver = webdriver.Chrome()\n",
    "driver.get('https:/www.billboard.com/')\n",
    "time.sleep(2)"
   ]
  },
  {
   "cell_type": "code",
   "execution_count": 3,
   "id": "45407569",
   "metadata": {},
   "outputs": [],
   "source": [
    "charts = driver.find_element(By.XPATH,'/html/body/div[3]/header/div/div[2]/div/div/div[2]/div[2]/div/div/nav/ul/li[1]/a')\n",
    "charts.click()"
   ]
  },
  {
   "cell_type": "code",
   "execution_count": 4,
   "id": "bd4f275c",
   "metadata": {},
   "outputs": [],
   "source": [
    "billboard = driver.find_element(By.XPATH,'//a[@class=\"c-label__link lrv-u-color-brand-primary u-color-black@mobile-max a-font-primary-bold lrv-u-font-size-32 u-whitespace-nowrap@tablet\"]')\n",
    "billboard.click()"
   ]
  },
  {
   "cell_type": "code",
   "execution_count": 29,
   "id": "a5e9c105",
   "metadata": {},
   "outputs": [],
   "source": [
    "song = []\n",
    "artists = []\n",
    "weaks_ranks = []"
   ]
  },
  {
   "cell_type": "code",
   "execution_count": 30,
   "id": "64657811",
   "metadata": {},
   "outputs": [
    {
     "name": "stdout",
     "output_type": "stream",
     "text": [
      "100 ['Last Night', 'Fast Car', 'Cruel Summer', 'Calm Down', 'Fukumean', 'Vampire', 'Dance The Night', 'Barbie World', 'Flowers', 'Snooze', 'All My Life', 'Meltdown', 'Karma', 'What Was I Made For?', 'Paint The Town Red', 'Need A Favor', 'Religiously', 'Anti-Hero', 'Kill Bill', \"Creepin'\", 'Try That In A Small Town', 'I Know ?', \"Thinkin' Bout Me\", 'FE!N', 'Cupid', 'Favorite Song', 'K-POP', 'Seven', 'Telekinesis', 'Dial Drunk', 'Ella Baila Sola', 'Next Thing You Know', 'Love You Anyway', 'Thought You Should Know', 'Chemical', 'Bury Me In Georgia', 'You, Me, & Whiskey', 'La Bebe', 'Watermelon Moonshine', 'Search & Rescue', 'Put It On Da Floor Again', 'Un x100to', 'LaLa', 'My Eyes', 'Daylight', 'Topia Twins', 'Lady Gaga', \"Baby Don't Hurt Me\", 'Blank Space', 'What It Is (Block Boy)', 'Deli', 'Where She Goes', 'Princess Diana', 'Peaches & Eggplants', 'In Your Love', 'Mourning', 'Area Codes', 'Your Heart Or Mine', 'White Horse', 'Sabor Fresa', 'Truck Bed', 'Eyes Closed', \"I Can See You (Taylor's Version) (From The Vault)\", 'Thank God', 'Tulum', 'Super Shy', 'Popular', 'Good Good', 'Everything I Love', 'Hyaena', 'Modern Jam', 'Shake Sumn', 'Jaded', 'Stand By Me', 'Speed Drive', 'Fragil', 'TQM', \"Angels Don't Always Have Wings\", 'Johnny Dang', 'Memory Lane', 'Heartbroken', 'El Amor de Su Vida', 'Jealousy', 'Oh U Went', 'Til Further Notice', 'Oklahoma Smoke Show', 'Sirens', 'Save Me', \"God's Country\", \"I'm Just Ken\", 'ICU', 'Skitzo', 'Delresto (Echoes)', 'See You Again', 'Pound Town 2', 'Lagunas', 'Overdrive', 'Bzrp Music Sessions, Vol. 55', 'Dawns', 'Rubicon']\n"
     ]
    }
   ],
   "source": [
    "sng = driver.find_elements(By.XPATH,'//li[@class=\"lrv-u-width-100p\"]/ul/li/h3')\n",
    "for i in sng:\n",
    "    try:\n",
    "        song.append(i.text)\n",
    "    except:\n",
    "        song.append('-')\n",
    "print(len(song),song)"
   ]
  },
  {
   "cell_type": "code",
   "execution_count": 31,
   "id": "8a4acfca",
   "metadata": {},
   "outputs": [
    {
     "name": "stdout",
     "output_type": "stream",
     "text": [
      "100 ['Morgan Wallen', 'Luke Combs', 'Taylor Swift', 'Rema & Selena Gomez', 'Gunna', 'Olivia Rodrigo', 'Dua Lipa', 'Nicki Minaj & Ice Spice With Aqua', 'Miley Cyrus', 'SZA', 'Lil Durk Featuring J. Cole', 'Travis Scott Featuring Drake', 'Taylor Swift Featuring Ice Spice', 'Billie Eilish', 'Doja Cat', 'Jelly Roll', 'Bailey Zimmerman', 'Taylor Swift', 'SZA', 'Metro Boomin, The Weeknd & 21 Savage', 'Jason Aldean', 'Travis Scott', 'Morgan Wallen', 'Travis Scott Featuring Playboi Carti', 'Fifty Fifty', 'Toosii', 'Travis Scott, Bad Bunny & The Weeknd', 'Jung Kook Featuring Latto', 'Travis Scott Featuring SZA & Future', 'Noah Kahan With Post Malone', 'Eslabon Armado X Peso Pluma', 'Jordan Davis', 'Luke Combs', 'Morgan Wallen', 'Post Malone', 'Kane Brown', 'Justin Moore & Priscilla Block', 'Yng Lvcas x Peso Pluma', 'Lainey Wilson', 'Drake', 'Latto Featuring Cardi B', 'Grupo Frontera X Bad Bunny', 'Myke Towers', 'Travis Scott', 'David Kushner', 'Travis Scott Featuring Rob49 & 21 Savage', 'Peso Pluma, Gabito Ballesteros & Junior H', 'David Guetta, Anne-Marie & Coi Leray', 'Taylor Swift', 'Doechii Featuring Kodak Black', 'Ice Spice', 'Bad Bunny', 'Ice Spice & Nicki Minaj', 'Young Nudy Featuring 21 Savage', 'Tyler Childers', 'Post Malone', 'Kaliii', 'Jon Pardi', 'Chris Stapleton', 'Fuerza Regida', 'HARDY', 'Ed Sheeran', 'Taylor Swift', 'Travis Scott', 'Peso Pluma & Grupo Frontera', 'NewJeans', 'The Weeknd, Playboi Carti & Madonna', 'Usher, Summer Walker & 21 Savage', 'Morgan Wallen', 'Travis Scott', 'Travis Scott Featuring Teezo Touchdown', 'DaBaby', 'Miley Cyrus', 'Lil Durk Featuring Morgan Wallen', 'Charli XCX', 'Yahritza y Su Esencia x Grupo Frontera', 'Fuerza Regida', 'Thomas Rhett', 'That Mexican OT, Paul Wall & DRODi', 'Old Dominion', 'Diplo, Jessie Murph & Polo G', 'Grupo Frontera & Grupo Firme', 'Offset & Cardi B', 'Young Thug Featuring Drake', 'Travis Scott Featuring James Blake & 21 Savage', 'Zach Bryan', 'Travis Scott', 'Jelly Roll With Lainey Wilson', 'Travis Scott', 'Ryan Gosling', 'Coco Jones', 'Travis Scott Featuring Young Thug', 'Travis Scott & Beyonce', 'Tyler, The Creator Featuring Kali Uchis', 'Sexyy Red & Tay Keith & Nicki Minaj', 'Peso Pluma & Jasiel Nunez', 'Post Malone', 'Bizarrap & Peso Pluma', 'Zach Bryan Featuring Maggie Rogers', 'Peso Pluma']\n"
     ]
    }
   ],
   "source": [
    "art = driver.find_elements(By.XPATH,'//li[@class=\"lrv-u-width-100p\"]/ul/li[1]/span')\n",
    "for i in art:\n",
    "    try:\n",
    "        artists.append(i.text)\n",
    "    except:\n",
    "        artists.append('-')\n",
    "print(len(artists),artists)"
   ]
  },
  {
   "cell_type": "code",
   "execution_count": 32,
   "id": "45bad891",
   "metadata": {},
   "outputs": [
    {
     "name": "stdout",
     "output_type": "stream",
     "text": [
      "100 ['1', '2', '3', '5', '6', '7', '8', '9', '10', '11', '12', '13', '14', '15', '', 'NEW', '16', '17', '18', '19', '20', '21', '22', '23', '24', '25', '26', '27', '28', '29', '30', '31', '32', '33', '34', '35', '36', '37', '38', '39', '40', '41', '42', '43', '44', '45', '46', '47', '48', '49', '', 'RE- ENTRY', '50', '51', '52', '53', '54', '55', '56', '57', '58', '59', '60', '61', '62', '63', '64', '65', '66', '67', '68', '', 'NEW', '69', '70', '71', '72', '73', '74', '75', '76', '77', '78', '', 'RE- ENTRY', '79', '80', '81', '82', '', 'NEW', '83', '84', '85', '86', '', 'RE- ENTRY', '87', '88', '']\n"
     ]
    }
   ],
   "source": [
    "w_rank = driver.find_elements(By.XPATH,'//div[@class=\"o-chart-results-list-row-container\"]/ul/li/span')\n",
    "for i in w_rank[0:100]:\n",
    "    try:\n",
    "        weaks_ranks.append(i.text)\n",
    "    except:\n",
    "        weaks_ranks.append('-')\n",
    "print(len(weaks_ranks),weaks_ranks)"
   ]
  },
  {
   "cell_type": "code",
   "execution_count": 37,
   "id": "db249057",
   "metadata": {},
   "outputs": [],
   "source": [
    "driver.close()"
   ]
  },
  {
   "cell_type": "code",
   "execution_count": 36,
   "id": "cde33b8e",
   "metadata": {},
   "outputs": [
    {
     "data": {
      "text/html": [
       "<div>\n",
       "<style scoped>\n",
       "    .dataframe tbody tr th:only-of-type {\n",
       "        vertical-align: middle;\n",
       "    }\n",
       "\n",
       "    .dataframe tbody tr th {\n",
       "        vertical-align: top;\n",
       "    }\n",
       "\n",
       "    .dataframe thead th {\n",
       "        text-align: right;\n",
       "    }\n",
       "</style>\n",
       "<table border=\"1\" class=\"dataframe\">\n",
       "  <thead>\n",
       "    <tr style=\"text-align: right;\">\n",
       "      <th></th>\n",
       "      <th>Song Name</th>\n",
       "      <th>Artists</th>\n",
       "      <th>Weak Rank</th>\n",
       "    </tr>\n",
       "  </thead>\n",
       "  <tbody>\n",
       "    <tr>\n",
       "      <th>0</th>\n",
       "      <td>Last Night</td>\n",
       "      <td>Morgan Wallen</td>\n",
       "      <td>1</td>\n",
       "    </tr>\n",
       "    <tr>\n",
       "      <th>1</th>\n",
       "      <td>Fast Car</td>\n",
       "      <td>Luke Combs</td>\n",
       "      <td>2</td>\n",
       "    </tr>\n",
       "    <tr>\n",
       "      <th>2</th>\n",
       "      <td>Cruel Summer</td>\n",
       "      <td>Taylor Swift</td>\n",
       "      <td>3</td>\n",
       "    </tr>\n",
       "    <tr>\n",
       "      <th>3</th>\n",
       "      <td>Calm Down</td>\n",
       "      <td>Rema &amp; Selena Gomez</td>\n",
       "      <td>5</td>\n",
       "    </tr>\n",
       "    <tr>\n",
       "      <th>4</th>\n",
       "      <td>Fukumean</td>\n",
       "      <td>Gunna</td>\n",
       "      <td>6</td>\n",
       "    </tr>\n",
       "    <tr>\n",
       "      <th>...</th>\n",
       "      <td>...</td>\n",
       "      <td>...</td>\n",
       "      <td>...</td>\n",
       "    </tr>\n",
       "    <tr>\n",
       "      <th>95</th>\n",
       "      <td>Lagunas</td>\n",
       "      <td>Peso Pluma &amp; Jasiel Nunez</td>\n",
       "      <td></td>\n",
       "    </tr>\n",
       "    <tr>\n",
       "      <th>96</th>\n",
       "      <td>Overdrive</td>\n",
       "      <td>Post Malone</td>\n",
       "      <td>RE- ENTRY</td>\n",
       "    </tr>\n",
       "    <tr>\n",
       "      <th>97</th>\n",
       "      <td>Bzrp Music Sessions, Vol. 55</td>\n",
       "      <td>Bizarrap &amp; Peso Pluma</td>\n",
       "      <td>87</td>\n",
       "    </tr>\n",
       "    <tr>\n",
       "      <th>98</th>\n",
       "      <td>Dawns</td>\n",
       "      <td>Zach Bryan Featuring Maggie Rogers</td>\n",
       "      <td>88</td>\n",
       "    </tr>\n",
       "    <tr>\n",
       "      <th>99</th>\n",
       "      <td>Rubicon</td>\n",
       "      <td>Peso Pluma</td>\n",
       "      <td></td>\n",
       "    </tr>\n",
       "  </tbody>\n",
       "</table>\n",
       "<p>100 rows × 3 columns</p>\n",
       "</div>"
      ],
      "text/plain": [
       "                       Song Name                             Artists  \\\n",
       "0                     Last Night                       Morgan Wallen   \n",
       "1                       Fast Car                          Luke Combs   \n",
       "2                   Cruel Summer                        Taylor Swift   \n",
       "3                      Calm Down                 Rema & Selena Gomez   \n",
       "4                       Fukumean                               Gunna   \n",
       "..                           ...                                 ...   \n",
       "95                       Lagunas           Peso Pluma & Jasiel Nunez   \n",
       "96                     Overdrive                         Post Malone   \n",
       "97  Bzrp Music Sessions, Vol. 55               Bizarrap & Peso Pluma   \n",
       "98                         Dawns  Zach Bryan Featuring Maggie Rogers   \n",
       "99                       Rubicon                          Peso Pluma   \n",
       "\n",
       "    Weak Rank  \n",
       "0           1  \n",
       "1           2  \n",
       "2           3  \n",
       "3           5  \n",
       "4           6  \n",
       "..        ...  \n",
       "95             \n",
       "96  RE- ENTRY  \n",
       "97         87  \n",
       "98         88  \n",
       "99             \n",
       "\n",
       "[100 rows x 3 columns]"
      ]
     },
     "execution_count": 36,
     "metadata": {},
     "output_type": "execute_result"
    }
   ],
   "source": [
    "df = pd.DataFrame({'Song Name':song,'Artists':artists,'Weak Rank':weaks_ranks})\n",
    "df"
   ]
  },
  {
   "cell_type": "code",
   "execution_count": null,
   "id": "4ba6ef48",
   "metadata": {},
   "outputs": [],
   "source": []
  },
  {
   "cell_type": "markdown",
   "id": "09f41d08",
   "metadata": {},
   "source": [
    "# 6"
   ]
  },
  {
   "cell_type": "code",
   "execution_count": 3,
   "id": "c685d1d3",
   "metadata": {},
   "outputs": [],
   "source": [
    "driver = webdriver.Chrome()\n",
    "Url = \"https://www.theguardian.com/news/datablog/2012/aug/09/best-selling-books-all-time-fifty-shades-grey-compare\"\n",
    "driver.get(Url)\n",
    "time.sleep(2)"
   ]
  },
  {
   "cell_type": "code",
   "execution_count": 4,
   "id": "5776edf5",
   "metadata": {},
   "outputs": [],
   "source": [
    "book_name = []\n",
    "author = []\n",
    "sold = []\n",
    "publisher = []\n",
    "genre = []"
   ]
  },
  {
   "cell_type": "code",
   "execution_count": 5,
   "id": "8edee8bb",
   "metadata": {},
   "outputs": [
    {
     "name": "stdout",
     "output_type": "stream",
     "text": [
      "100 ['Da Vinci Code,The', 'Harry Potter and the Deathly Hallows', \"Harry Potter and the Philosopher's Stone\", 'Harry Potter and the Order of the Phoenix', 'Fifty Shades of Grey', 'Harry Potter and the Goblet of Fire', 'Harry Potter and the Chamber of Secrets', 'Harry Potter and the Prisoner of Azkaban', 'Angels and Demons', \"Harry Potter and the Half-blood Prince:Children's Edition\", 'Fifty Shades Darker', 'Twilight', 'Girl with the Dragon Tattoo,The:Millennium Trilogy', 'Fifty Shades Freed', 'Lost Symbol,The', 'New Moon', 'Deception Point', 'Eclipse', 'Lovely Bones,The', 'Curious Incident of the Dog in the Night-time,The', 'Digital Fortress', 'Short History of Nearly Everything,A', 'Girl Who Played with Fire,The:Millennium Trilogy', 'Breaking Dawn', 'Very Hungry Caterpillar,The:The Very Hungry Caterpillar', 'Gruffalo,The', \"Jamie's 30-Minute Meals\", 'Kite Runner,The', 'One Day', 'Thousand Splendid Suns,A', \"Girl Who Kicked the Hornets' Nest,The:Millennium Trilogy\", \"Time Traveler's Wife,The\", 'Atonement', \"Bridget Jones's Diary:A Novel\", 'World According to Clarkson,The', \"Captain Corelli's Mandolin\", 'Sound of Laughter,The', 'Life of Pi', 'Billy Connolly', 'Child Called It,A', \"Gruffalo's Child,The\", \"Angela's Ashes:A Memoir of a Childhood\", 'Birdsong', 'Northern Lights:His Dark Materials S.', 'Labyrinth', 'Harry Potter and the Half-blood Prince', 'Help,The', 'Man and Boy', 'Memoirs of a Geisha', \"No.1 Ladies' Detective Agency,The:No.1 Ladies' Detective Agency S.\", 'Island,The', 'PS, I Love You', 'You are What You Eat:The Plan That Will Change Your Life', 'Shadow of the Wind,The', 'Tales of Beedle the Bard,The', 'Broker,The', \"Dr. Atkins' New Diet Revolution:The No-hunger, Luxurious Weight Loss P\", 'Subtle Knife,The:His Dark Materials S.', 'Eats, Shoots and Leaves:The Zero Tolerance Approach to Punctuation', \"Delia's How to Cook:(Bk.1)\", 'Chocolat', 'Boy in the Striped Pyjamas,The', \"My Sister's Keeper\", 'Amber Spyglass,The:His Dark Materials S.', 'To Kill a Mockingbird', 'Men are from Mars, Women are from Venus:A Practical Guide for Improvin', 'Dear Fatty', 'Short History of Tractors in Ukrainian,A', 'Hannibal', 'Lord of the Rings,The', 'Stupid White Men:...and Other Sorry Excuses for the State of the Natio', 'Interpretation of Murder,The', 'Sharon Osbourne Extreme:My Autobiography', 'Alchemist,The:A Fable About Following Your Dream', \"At My Mother's Knee ...:and Other Low Joints\", 'Notes from a Small Island', 'Return of the Naked Chef,The', 'Bridget Jones: The Edge of Reason', \"Jamie's Italy\", 'I Can Make You Thin', 'Down Under', 'Summons,The', 'Small Island', 'Nigella Express', 'Brick Lane', \"Memory Keeper's Daughter,The\", 'Room on the Broom', 'About a Boy', 'My Booky Wook', 'God Delusion,The', '\"Beano\" Annual,The', 'White Teeth', 'House at Riverton,The', 'Book Thief,The', 'Nights of Rain and Stars', 'Ghost,The', 'Happy Days with the Naked Chef', 'Hunger Games,The:Hunger Games Trilogy', \"Lost Boy,The:A Foster Child's Search for the Love of a Family\", \"Jamie's Ministry of Food:Anyone Can Learn to Cook in 24 Hours\"]\n"
     ]
    }
   ],
   "source": [
    "book = driver.find_elements(By.XPATH,'//div[@class=\"embed block\"]/table/tbody/tr/td[2]')\n",
    "for i in book:\n",
    "    try:\n",
    "        book_name.append(i.text)\n",
    "    except:\n",
    "        book_name.append('-')\n",
    "print(len(book_name),book_name)"
   ]
  },
  {
   "cell_type": "code",
   "execution_count": 6,
   "id": "2cadbed2",
   "metadata": {},
   "outputs": [
    {
     "name": "stdout",
     "output_type": "stream",
     "text": [
      "100 ['Brown, Dan', 'Rowling, J.K.', 'Rowling, J.K.', 'Rowling, J.K.', 'James, E. L.', 'Rowling, J.K.', 'Rowling, J.K.', 'Rowling, J.K.', 'Brown, Dan', 'Rowling, J.K.', 'James, E. L.', 'Meyer, Stephenie', 'Larsson, Stieg', 'James, E. L.', 'Brown, Dan', 'Meyer, Stephenie', 'Brown, Dan', 'Meyer, Stephenie', 'Sebold, Alice', 'Haddon, Mark', 'Brown, Dan', 'Bryson, Bill', 'Larsson, Stieg', 'Meyer, Stephenie', 'Carle, Eric', 'Donaldson, Julia', 'Oliver, Jamie', 'Hosseini, Khaled', 'Nicholls, David', 'Hosseini, Khaled', 'Larsson, Stieg', 'Niffenegger, Audrey', 'McEwan, Ian', 'Fielding, Helen', 'Clarkson, Jeremy', 'Bernieres, Louis de', 'Kay, Peter', 'Martel, Yann', 'Stephenson, Pamela', 'Pelzer, Dave', 'Donaldson, Julia', 'McCourt, Frank', 'Faulks, Sebastian', 'Pullman, Philip', 'Mosse, Kate', 'Rowling, J.K.', 'Stockett, Kathryn', 'Parsons, Tony', 'Golden, Arthur', 'McCall Smith, Alexander', 'Hislop, Victoria', 'Ahern, Cecelia', 'McKeith, Gillian', 'Zafon, Carlos Ruiz', 'Rowling, J.K.', 'Grisham, John', 'Atkins, Robert C.', 'Pullman, Philip', 'Truss, Lynne', 'Smith, Delia', 'Harris, Joanne', 'Boyne, John', 'Picoult, Jodi', 'Pullman, Philip', 'Lee, Harper', 'Gray, John', 'French, Dawn', 'Lewycka, Marina', 'Harris, Thomas', 'Tolkien, J. R. R.', 'Moore, Michael', 'Rubenfeld, Jed', 'Osbourne, Sharon', 'Coelho, Paulo', \"O'Grady, Paul\", 'Bryson, Bill', 'Oliver, Jamie', 'Fielding, Helen', 'Oliver, Jamie', 'McKenna, Paul', 'Bryson, Bill', 'Grisham, John', 'Levy, Andrea', 'Lawson, Nigella', 'Ali, Monica', 'Edwards, Kim', 'Donaldson, Julia', 'Hornby, Nick', 'Brand, Russell', 'Dawkins, Richard', '0', 'Smith, Zadie', 'Morton, Kate', 'Zusak, Markus', 'Binchy, Maeve', 'Harris, Robert', 'Oliver, Jamie', 'Collins, Suzanne', 'Pelzer, Dave', 'Oliver, Jamie']\n"
     ]
    }
   ],
   "source": [
    "auth = driver.find_elements(By.XPATH,'//div[@class=\"embed block\"]/table/tbody/tr/td[3]')\n",
    "for i in auth:\n",
    "    try:\n",
    "        author.append(i.text)\n",
    "    except:\n",
    "        author.append('-')\n",
    "print(len(author),author)"
   ]
  },
  {
   "cell_type": "code",
   "execution_count": 7,
   "id": "5db9f742",
   "metadata": {},
   "outputs": [
    {
     "name": "stdout",
     "output_type": "stream",
     "text": [
      "100 ['5,094,805', '4,475,152', '4,200,654', '4,179,479', '3,758,936', '3,583,215', '3,484,047', '3,377,906', '3,193,946', '2,950,264', '2,479,784', '2,315,405', '2,233,570', '2,193,928', '2,183,031', '2,152,737', '2,062,145', '2,052,876', '2,005,598', '1,979,552', '1,928,900', '1,852,919', '1,814,784', '1,787,118', '1,783,535', '1,781,269', '1,743,266', '1,629,119', '1,616,068', '1,583,992', '1,555,135', '1,546,886', '1,539,428', '1,508,205', '1,489,403', '1,352,318', '1,310,207', '1,310,176', '1,231,957', '1,217,712', '1,208,711', '1,204,058', '1,184,967', '1,181,503', '1,181,093', '1,153,181', '1,132,336', '1,130,802', '1,126,337', '1,115,549', '1,108,328', '1,107,379', '1,104,403', '1,092,349', '1,090,847', '1,087,262', '1,054,196', '1,037,160', '1,023,688', '1,015,956', '1,009,873', '1,004,414', '1,003,780', '1,002,314', '998,213', '992,846', '986,753', '986,115', '970,509', '967,466', '963,353', '962,515', '959,496', '956,114', '945,640', '931,312', '925,425', '924,695', '906,968', '905,086', '890,847', '869,671', '869,659', '862,602', '856,540', '845,858', '842,535', '828,215', '820,563', '816,907', '816,585', '815,586', '814,370', '809,641', '808,900', '807,311', '794,201', '792,187', '791,507', '791,095']\n"
     ]
    }
   ],
   "source": [
    "sales = driver.find_elements(By.XPATH,'//div[@class=\"embed block\"]/table/tbody/tr/td[4]')\n",
    "for i in sales:\n",
    "    try:\n",
    "        sold.append(i.text)\n",
    "    except:\n",
    "        sold.append('-')\n",
    "print(len(sold),sold)"
   ]
  },
  {
   "cell_type": "code",
   "execution_count": 8,
   "id": "5b254d7d",
   "metadata": {},
   "outputs": [
    {
     "name": "stdout",
     "output_type": "stream",
     "text": [
      "100 ['Transworld', 'Bloomsbury', 'Bloomsbury', 'Bloomsbury', 'Random House', 'Bloomsbury', 'Bloomsbury', 'Bloomsbury', 'Transworld', 'Bloomsbury', 'Random House', 'Little, Brown Book', 'Quercus', 'Random House', 'Transworld', 'Little, Brown Book', 'Transworld', 'Little, Brown Book', 'Pan Macmillan', 'Random House', 'Transworld', 'Transworld', 'Quercus', 'Little, Brown Book', 'Penguin', 'Pan Macmillan', 'Penguin', 'Bloomsbury', 'Hodder & Stoughton', 'Bloomsbury', 'Quercus', 'Random House', 'Random House', 'Pan Macmillan', 'Penguin', 'Random House', 'Random House', 'Canongate', 'HarperCollins', 'Orion', 'Pan Macmillan', 'HarperCollins', 'Random House', 'Scholastic Ltd.', 'Orion', 'Bloomsbury', 'Penguin', 'HarperCollins', 'Random House', 'Little, Brown Book', 'Headline', 'HarperCollins', 'Penguin', 'Orion', 'Bloomsbury', 'Random House', 'Random House', 'Scholastic Ltd.', 'Profile Books Group', 'Random House', 'Transworld', 'Random House Childrens Books G', 'Hodder & Stoughton', 'Scholastic Ltd.', 'Random House', 'HarperCollins', 'Random House', 'Penguin', 'Random House', 'HarperCollins', 'Penguin', 'Headline', 'Little, Brown Book', 'HarperCollins', 'Transworld', 'Transworld', 'Penguin', 'Pan Macmillan', 'Penguin', 'Transworld', 'Transworld', 'Random House', 'Headline', 'Random House', 'Transworld', 'Penguin', 'Pan Macmillan', 'Penguin', 'Hodder & Stoughton', 'Transworld', 'D.C. Thomson', 'Penguin', 'Pan Macmillan', 'Transworld', 'Orion', 'Random House', 'Penguin', 'Scholastic Ltd.', 'Orion', 'Penguin']\n"
     ]
    }
   ],
   "source": [
    "pub = driver.find_elements(By.XPATH,'//div[@class=\"embed block\"]/table/tbody/tr/td[5]')\n",
    "for i in pub:\n",
    "    try:\n",
    "        publisher.append(i.text)\n",
    "    except:\n",
    "        publisher.append('-')\n",
    "print(len(publisher),publisher)"
   ]
  },
  {
   "cell_type": "code",
   "execution_count": 9,
   "id": "3999bdd1",
   "metadata": {},
   "outputs": [
    {
     "name": "stdout",
     "output_type": "stream",
     "text": [
      "100 ['Crime, Thriller & Adventure', \"Children's Fiction\", \"Children's Fiction\", \"Children's Fiction\", 'Romance & Sagas', \"Children's Fiction\", \"Children's Fiction\", \"Children's Fiction\", 'Crime, Thriller & Adventure', \"Children's Fiction\", 'Romance & Sagas', 'Young Adult Fiction', 'Crime, Thriller & Adventure', 'Romance & Sagas', 'Crime, Thriller & Adventure', 'Young Adult Fiction', 'Crime, Thriller & Adventure', 'Young Adult Fiction', 'General & Literary Fiction', 'General & Literary Fiction', 'Crime, Thriller & Adventure', 'Popular Science', 'Crime, Thriller & Adventure', 'Young Adult Fiction', 'Picture Books', 'Picture Books', 'Food & Drink: General', 'General & Literary Fiction', 'General & Literary Fiction', 'General & Literary Fiction', 'Crime, Thriller & Adventure', 'General & Literary Fiction', 'General & Literary Fiction', 'General & Literary Fiction', 'Humour: Collections & General', 'General & Literary Fiction', 'Autobiography: General', 'General & Literary Fiction', 'Biography: The Arts', 'Autobiography: General', 'Picture Books', 'Autobiography: General', 'General & Literary Fiction', 'Young Adult Fiction', 'General & Literary Fiction', 'Science Fiction & Fantasy', 'General & Literary Fiction', 'General & Literary Fiction', 'General & Literary Fiction', 'Crime, Thriller & Adventure', 'General & Literary Fiction', 'General & Literary Fiction', 'Fitness & Diet', 'General & Literary Fiction', \"Children's Fiction\", 'Crime, Thriller & Adventure', 'Fitness & Diet', 'Young Adult Fiction', 'Usage & Writing Guides', 'Food & Drink: General', 'General & Literary Fiction', 'Young Adult Fiction', 'General & Literary Fiction', 'Young Adult Fiction', 'General & Literary Fiction', 'Popular Culture & Media: General Interest', 'Autobiography: The Arts', 'General & Literary Fiction', 'Crime, Thriller & Adventure', 'Science Fiction & Fantasy', 'Current Affairs & Issues', 'Crime, Thriller & Adventure', 'Autobiography: The Arts', 'General & Literary Fiction', 'Autobiography: The Arts', 'Travel Writing', 'Food & Drink: General', 'General & Literary Fiction', 'National & Regional Cuisine', 'Fitness & Diet', 'Travel Writing', 'Crime, Thriller & Adventure', 'General & Literary Fiction', 'Food & Drink: General', 'General & Literary Fiction', 'General & Literary Fiction', 'Picture Books', 'General & Literary Fiction', 'Autobiography: The Arts', 'Popular Science', \"Children's Annuals\", 'General & Literary Fiction', 'General & Literary Fiction', 'General & Literary Fiction', 'General & Literary Fiction', 'General & Literary Fiction', 'Food & Drink: General', 'Young Adult Fiction', 'Biography: General', 'Food & Drink: General']\n"
     ]
    }
   ],
   "source": [
    "gen = driver.find_elements(By.XPATH,'//div[@class=\"embed block\"]/table/tbody/tr/td[6]')\n",
    "for i in gen:\n",
    "    try:\n",
    "        genre.append(i.text)\n",
    "    except:\n",
    "        genre.append('-')\n",
    "print(len(genre),genre)"
   ]
  },
  {
   "cell_type": "code",
   "execution_count": 11,
   "id": "ae030bc0",
   "metadata": {},
   "outputs": [],
   "source": [
    "driver.close()"
   ]
  },
  {
   "cell_type": "code",
   "execution_count": 10,
   "id": "b4562b14",
   "metadata": {},
   "outputs": [
    {
     "data": {
      "text/html": [
       "<div>\n",
       "<style scoped>\n",
       "    .dataframe tbody tr th:only-of-type {\n",
       "        vertical-align: middle;\n",
       "    }\n",
       "\n",
       "    .dataframe tbody tr th {\n",
       "        vertical-align: top;\n",
       "    }\n",
       "\n",
       "    .dataframe thead th {\n",
       "        text-align: right;\n",
       "    }\n",
       "</style>\n",
       "<table border=\"1\" class=\"dataframe\">\n",
       "  <thead>\n",
       "    <tr style=\"text-align: right;\">\n",
       "      <th></th>\n",
       "      <th>Book Name</th>\n",
       "      <th>Authors</th>\n",
       "      <th>Volumes sold</th>\n",
       "      <th>Publisher</th>\n",
       "      <th>genre</th>\n",
       "    </tr>\n",
       "  </thead>\n",
       "  <tbody>\n",
       "    <tr>\n",
       "      <th>0</th>\n",
       "      <td>Da Vinci Code,The</td>\n",
       "      <td>Brown, Dan</td>\n",
       "      <td>5,094,805</td>\n",
       "      <td>Transworld</td>\n",
       "      <td>Crime, Thriller &amp; Adventure</td>\n",
       "    </tr>\n",
       "    <tr>\n",
       "      <th>1</th>\n",
       "      <td>Harry Potter and the Deathly Hallows</td>\n",
       "      <td>Rowling, J.K.</td>\n",
       "      <td>4,475,152</td>\n",
       "      <td>Bloomsbury</td>\n",
       "      <td>Children's Fiction</td>\n",
       "    </tr>\n",
       "    <tr>\n",
       "      <th>2</th>\n",
       "      <td>Harry Potter and the Philosopher's Stone</td>\n",
       "      <td>Rowling, J.K.</td>\n",
       "      <td>4,200,654</td>\n",
       "      <td>Bloomsbury</td>\n",
       "      <td>Children's Fiction</td>\n",
       "    </tr>\n",
       "    <tr>\n",
       "      <th>3</th>\n",
       "      <td>Harry Potter and the Order of the Phoenix</td>\n",
       "      <td>Rowling, J.K.</td>\n",
       "      <td>4,179,479</td>\n",
       "      <td>Bloomsbury</td>\n",
       "      <td>Children's Fiction</td>\n",
       "    </tr>\n",
       "    <tr>\n",
       "      <th>4</th>\n",
       "      <td>Fifty Shades of Grey</td>\n",
       "      <td>James, E. L.</td>\n",
       "      <td>3,758,936</td>\n",
       "      <td>Random House</td>\n",
       "      <td>Romance &amp; Sagas</td>\n",
       "    </tr>\n",
       "    <tr>\n",
       "      <th>...</th>\n",
       "      <td>...</td>\n",
       "      <td>...</td>\n",
       "      <td>...</td>\n",
       "      <td>...</td>\n",
       "      <td>...</td>\n",
       "    </tr>\n",
       "    <tr>\n",
       "      <th>95</th>\n",
       "      <td>Ghost,The</td>\n",
       "      <td>Harris, Robert</td>\n",
       "      <td>807,311</td>\n",
       "      <td>Random House</td>\n",
       "      <td>General &amp; Literary Fiction</td>\n",
       "    </tr>\n",
       "    <tr>\n",
       "      <th>96</th>\n",
       "      <td>Happy Days with the Naked Chef</td>\n",
       "      <td>Oliver, Jamie</td>\n",
       "      <td>794,201</td>\n",
       "      <td>Penguin</td>\n",
       "      <td>Food &amp; Drink: General</td>\n",
       "    </tr>\n",
       "    <tr>\n",
       "      <th>97</th>\n",
       "      <td>Hunger Games,The:Hunger Games Trilogy</td>\n",
       "      <td>Collins, Suzanne</td>\n",
       "      <td>792,187</td>\n",
       "      <td>Scholastic Ltd.</td>\n",
       "      <td>Young Adult Fiction</td>\n",
       "    </tr>\n",
       "    <tr>\n",
       "      <th>98</th>\n",
       "      <td>Lost Boy,The:A Foster Child's Search for the L...</td>\n",
       "      <td>Pelzer, Dave</td>\n",
       "      <td>791,507</td>\n",
       "      <td>Orion</td>\n",
       "      <td>Biography: General</td>\n",
       "    </tr>\n",
       "    <tr>\n",
       "      <th>99</th>\n",
       "      <td>Jamie's Ministry of Food:Anyone Can Learn to C...</td>\n",
       "      <td>Oliver, Jamie</td>\n",
       "      <td>791,095</td>\n",
       "      <td>Penguin</td>\n",
       "      <td>Food &amp; Drink: General</td>\n",
       "    </tr>\n",
       "  </tbody>\n",
       "</table>\n",
       "<p>100 rows × 5 columns</p>\n",
       "</div>"
      ],
      "text/plain": [
       "                                            Book Name           Authors  \\\n",
       "0                                   Da Vinci Code,The        Brown, Dan   \n",
       "1                Harry Potter and the Deathly Hallows     Rowling, J.K.   \n",
       "2            Harry Potter and the Philosopher's Stone     Rowling, J.K.   \n",
       "3           Harry Potter and the Order of the Phoenix     Rowling, J.K.   \n",
       "4                                Fifty Shades of Grey      James, E. L.   \n",
       "..                                                ...               ...   \n",
       "95                                          Ghost,The    Harris, Robert   \n",
       "96                     Happy Days with the Naked Chef     Oliver, Jamie   \n",
       "97              Hunger Games,The:Hunger Games Trilogy  Collins, Suzanne   \n",
       "98  Lost Boy,The:A Foster Child's Search for the L...      Pelzer, Dave   \n",
       "99  Jamie's Ministry of Food:Anyone Can Learn to C...     Oliver, Jamie   \n",
       "\n",
       "   Volumes sold        Publisher                        genre  \n",
       "0     5,094,805       Transworld  Crime, Thriller & Adventure  \n",
       "1     4,475,152       Bloomsbury           Children's Fiction  \n",
       "2     4,200,654       Bloomsbury           Children's Fiction  \n",
       "3     4,179,479       Bloomsbury           Children's Fiction  \n",
       "4     3,758,936     Random House              Romance & Sagas  \n",
       "..          ...              ...                          ...  \n",
       "95      807,311     Random House   General & Literary Fiction  \n",
       "96      794,201          Penguin        Food & Drink: General  \n",
       "97      792,187  Scholastic Ltd.          Young Adult Fiction  \n",
       "98      791,507            Orion           Biography: General  \n",
       "99      791,095          Penguin        Food & Drink: General  \n",
       "\n",
       "[100 rows x 5 columns]"
      ]
     },
     "execution_count": 10,
     "metadata": {},
     "output_type": "execute_result"
    }
   ],
   "source": [
    "df = pd.DataFrame({'Book Name':book_name,'Authors':author,'Volumes sold':sold,'Publisher':publisher,'genre':genre})\n",
    "df"
   ]
  },
  {
   "cell_type": "code",
   "execution_count": null,
   "id": "b3e7c5da",
   "metadata": {},
   "outputs": [],
   "source": []
  },
  {
   "cell_type": "markdown",
   "id": "837b7bd2",
   "metadata": {},
   "source": [
    "# 7"
   ]
  },
  {
   "cell_type": "code",
   "execution_count": 58,
   "id": "4a4d5cb6",
   "metadata": {},
   "outputs": [],
   "source": [
    "driver = webdriver.Chrome()\n",
    "driver.get('https://www.imdb.com/list/ls095964455/')\n",
    "time.sleep(2)"
   ]
  },
  {
   "cell_type": "code",
   "execution_count": 59,
   "id": "cfb700b7",
   "metadata": {},
   "outputs": [],
   "source": [
    "name = []\n",
    "spans = []\n",
    "genre = []\n",
    "run = []\n",
    "ratings = []\n",
    "Votes = []"
   ]
  },
  {
   "cell_type": "code",
   "execution_count": 60,
   "id": "229e3135",
   "metadata": {},
   "outputs": [
    {
     "name": "stdout",
     "output_type": "stream",
     "text": [
      "100 ['Game of Thrones', 'Stranger Things', 'The Walking Dead', '13 Reasons Why', 'The 100', 'Orange Is the New Black', 'Riverdale', \"Grey's Anatomy\", 'The Flash', 'Arrow', 'Money Heist', 'The Big Bang Theory', 'Black Mirror', 'Sherlock', 'Vikings', 'Pretty Little Liars', 'The Vampire Diaries', 'American Horror Story', 'Breaking Bad', 'Lucifer', 'Supernatural', 'Prison Break', 'How to Get Away with Murder', 'Teen Wolf', 'The Simpsons', 'Once Upon a Time', 'Narcos', 'Daredevil', 'Friends', 'How I Met Your Mother', 'Suits', 'Mr. Robot', 'The Originals', 'Supergirl', 'Gossip Girl', 'Sense8', 'Gotham', 'Westworld', 'Jessica Jones', 'Modern Family', 'Rick and Morty', 'Shadowhunters', 'The End of the F***ing World', 'House of Cards', 'Dark', 'Elite', 'Sex Education', 'Shameless', 'New Girl', 'Agents of S.H.I.E.L.D.', 'You', 'Dexter', 'Fear the Walking Dead', 'Family Guy', 'The Blacklist', 'Lost', 'Peaky Blinders', 'House', 'Quantico', 'Orphan Black', 'Homeland', 'Blindspot', \"DC's Legends of Tomorrow\", \"The Handmaid's Tale\", 'Chilling Adventures of Sabrina', 'The Good Doctor', 'Jane the Virgin', 'Glee', 'South Park', 'Brooklyn Nine-Nine', 'Under the Dome', 'The Umbrella Academy', 'True Detective', 'The OA', 'Desperate Housewives', 'Better Call Saul', 'Bates Motel', 'The Punisher', 'Atypical', 'Dynasty', 'This Is Us', 'The Good Place', 'Iron Fist', 'The Rain', 'Mindhunter', 'Revenge', 'Luke Cage', 'Scandal', 'The Defenders', 'Big Little Lies', 'Insatiable', 'The Mentalist', 'The Crown', 'Chernobyl', 'iZombie', 'Reign', 'A Series of Unfortunate Events', 'Criminal Minds', 'Scream: The TV Series', 'The Haunting of Hill House']\n"
     ]
    }
   ],
   "source": [
    "sng = driver.find_elements(By.XPATH,'//div[@class=\"lister-item-content\"]/h3/a')\n",
    "for i in sng:\n",
    "    if i.text:\n",
    "        name.append(i.text)\n",
    "    else:\n",
    "        name.append('-')\n",
    "print(len(name),name)"
   ]
  },
  {
   "cell_type": "code",
   "execution_count": 61,
   "id": "9ca9b78c",
   "metadata": {},
   "outputs": [
    {
     "name": "stdout",
     "output_type": "stream",
     "text": [
      "100 ['(2011–2019)', '(2016–2024)', '(2010–2022)', '(2017–2020)', '(2014–2020)', '(2013–2019)', '(2017–2023)', '(2005– )', '(2014–2023)', '(2012–2020)', '(2017–2021)', '(2007–2019)', '(2011– )', '(2010–2017)', '(2013–2020)', '(2010–2017)', '(2009–2017)', '(2011– )', '(2008–2013)', '(2016–2021)', '(2005–2020)', '(2005–2017)', '(2014–2020)', '(2011–2017)', '(1989– )', '(2011–2018)', '(I) (2015–2017)', '(2015–2018)', '(1994–2004)', '(2005–2014)', '(2011–2019)', '(2015–2019)', '(2013–2018)', '(2015–2021)', '(2007–2012)', '(2015–2018)', '(2014–2019)', '(2016–2022)', '(2015–2019)', '(2009–2020)', '(2013– )', '(2016–2019)', '(2017–2019)', '(2013–2018)', '(2017–2020)', '(2018– )', '(2019–2023)', '(2011–2021)', '(2011–2018)', '(2013–2020)', '(2018–2024)', '(2006–2013)', '(2015–2023)', '(1999– )', '(2013–2023)', '(2004–2010)', '(2013–2022)', '(2004–2012)', '(2015–2018)', '(2013–2017)', '(2011–2020)', '(2015–2020)', '(2016–2022)', '(2017– )', '(2018–2020)', '(2017– )', '(2014–2019)', '(2009–2015)', '(1997– )', '(2013–2021)', '(2013–2015)', '(2019–2023)', '(2014– )', '(2016–2019)', '(2004–2012)', '(2015–2022)', '(2013–2017)', '(2017–2019)', '(2017–2021)', '(2017–2022)', '(2016–2022)', '(2016–2020)', '(2017–2018)', '(2018–2020)', '(2017–2019)', '(2011–2015)', '(2016–2018)', '(2012–2018)', '(2017)', '(2017–2019)', '(2018–2019)', '(2008–2015)', '(2016–2023)', '(2019)', '(2015–2019)', '(2013–2017)', '(2017–2019)', '(2005– )', '(2015–2019)', '(2018)']\n"
     ]
    }
   ],
   "source": [
    "spn = driver.find_elements(By.XPATH,'//span[@class=\"lister-item-year text-muted unbold\"]')\n",
    "for i in spn:\n",
    "    try:\n",
    "        spans.append(i.text)\n",
    "    except:\n",
    "        spans.append('-')\n",
    "print(len(spans),spans)"
   ]
  },
  {
   "cell_type": "code",
   "execution_count": 62,
   "id": "f80efb1f",
   "metadata": {},
   "outputs": [
    {
     "name": "stdout",
     "output_type": "stream",
     "text": [
      "100 ['Action, Adventure, Drama', 'Drama, Fantasy, Horror', 'Drama, Horror, Thriller', 'Drama, Mystery, Thriller', 'Drama, Mystery, Sci-Fi', 'Comedy, Crime, Drama', 'Crime, Drama, Mystery', 'Drama, Romance', 'Action, Adventure, Drama', 'Action, Adventure, Crime', 'Action, Crime, Drama', 'Comedy, Romance', 'Drama, Mystery, Sci-Fi', 'Crime, Drama, Mystery', 'Action, Adventure, Drama', 'Drama, Mystery, Romance', 'Drama, Fantasy, Horror', 'Drama, Horror, Sci-Fi', 'Crime, Drama, Thriller', 'Crime, Drama, Fantasy', 'Drama, Fantasy, Horror', 'Action, Crime, Drama', 'Crime, Drama, Mystery', 'Action, Drama, Fantasy', 'Animation, Comedy', 'Adventure, Fantasy, Romance', 'Biography, Crime, Drama', 'Action, Crime, Drama', 'Comedy, Romance', 'Comedy, Drama, Romance', 'Comedy, Drama', 'Crime, Drama, Thriller', 'Drama, Fantasy, Horror', 'Action, Adventure, Drama', 'Drama, Romance', 'Drama, Mystery, Sci-Fi', 'Action, Crime, Drama', 'Drama, Mystery, Sci-Fi', 'Action, Crime, Drama', 'Comedy, Drama, Romance', 'Animation, Adventure, Comedy', 'Action, Drama, Fantasy', 'Adventure, Comedy, Crime', 'Drama', 'Crime, Drama, Mystery', 'Crime, Drama, Thriller', 'Comedy, Drama', 'Comedy, Drama', 'Comedy, Romance', 'Action, Adventure, Drama', 'Crime, Drama, Romance', 'Crime, Drama, Mystery', 'Drama, Horror, Sci-Fi', 'Animation, Comedy', 'Crime, Drama, Mystery', 'Adventure, Drama, Fantasy', 'Crime, Drama', 'Drama, Mystery', 'Crime, Drama, Mystery', 'Drama, Sci-Fi, Thriller', 'Crime, Drama, Mystery', 'Action, Crime, Drama', 'Action, Adventure, Drama', 'Drama, Sci-Fi, Thriller', 'Drama, Fantasy, Horror', 'Drama', 'Comedy', 'Comedy, Drama, Music', 'Animation, Comedy', 'Comedy, Crime', 'Drama, Mystery, Sci-Fi', 'Action, Adventure, Comedy', 'Crime, Drama, Mystery', 'Drama, Fantasy, Mystery', 'Comedy, Drama, Mystery', 'Crime, Drama', 'Drama, Horror, Mystery', 'Action, Crime, Drama', 'Comedy, Drama', 'Drama', 'Comedy, Drama, Romance', 'Comedy, Drama, Fantasy', 'Action, Adventure, Crime', 'Drama, Sci-Fi, Thriller', 'Crime, Drama, Mystery', 'Drama, Mystery, Thriller', 'Action, Crime, Drama', 'Drama, Thriller', 'Action, Adventure, Crime', 'Crime, Drama, Mystery', 'Comedy, Drama, Thriller', 'Crime, Drama, Mystery', 'Biography, Drama, History', 'Drama, History, Thriller', 'Comedy, Crime, Drama', 'Drama', 'Adventure, Comedy, Drama', 'Crime, Drama, Mystery', 'Comedy, Crime, Drama', 'Drama, Horror, Mystery']\n"
     ]
    }
   ],
   "source": [
    "gen = driver.find_elements(By.XPATH,'//span[@class=\"genre\"]')\n",
    "for i in gen:\n",
    "    try:\n",
    "        genre.append(i.text)\n",
    "    except:\n",
    "        genre.append('-')\n",
    "print(len(genre),genre)"
   ]
  },
  {
   "cell_type": "code",
   "execution_count": 63,
   "id": "0668c17a",
   "metadata": {},
   "outputs": [
    {
     "name": "stdout",
     "output_type": "stream",
     "text": [
      "100 ['57 min', '51 min', '44 min', '60 min', '43 min', '59 min', '45 min', '41 min', '43 min', '42 min', '70 min', '22 min', '60 min', '88 min', '44 min', '44 min', '43 min', '60 min', '49 min', '42 min', '44 min', '44 min', '43 min', '41 min', '22 min', '60 min', '49 min', '54 min', '22 min', '22 min', '44 min', '49 min', '45 min', '43 min', '42 min', '60 min', '42 min', '62 min', '56 min', '22 min', '23 min', '42 min', '25 min', '51 min', '60 min', '60 min', '45 min', '46 min', '22 min', '45 min', '45 min', '53 min', '44 min', '22 min', '43 min', '44 min', '60 min', '44 min', '42 min', '44 min', '55 min', '42 min', '42 min', '60 min', '60 min', '41 min', '60 min', '44 min', '22 min', '22 min', '43 min', '60 min', '55 min', '60 min', '45 min', '46 min', '45 min', '53 min', '30 min', '42 min', '45 min', '22 min', '55 min', '45 min', '60 min', '44 min', '55 min', '43 min', '50 min', '60 min', '45 min', '43 min', '58 min', '330 min', '42 min', '42 min', '50 min', '42 min', '45 min', '572 min']\n"
     ]
    }
   ],
   "source": [
    "run_time = driver.find_elements(By.XPATH,'//span[@class=\"runtime\"]')\n",
    "for i in run_time:\n",
    "    try:\n",
    "        run.append(i.text)\n",
    "    except:\n",
    "        run.append('-')\n",
    "print(len(run),run)"
   ]
  },
  {
   "cell_type": "code",
   "execution_count": 64,
   "id": "049d91be",
   "metadata": {},
   "outputs": [
    {
     "name": "stdout",
     "output_type": "stream",
     "text": [
      "100 ['9', '8', '8', '7', '7', '8', '6', '7', '7', '7', '8', '8', '8', '9', '8', '7', '7', '8', '9', '8', '8', '8', '8', '7', '8', '7', '8', '8', '8', '8', '8', '8', '8', '6', '7', '8', '7', '8', '7', '8', '9', '6', '8', '8', '8', '7', '8', '8', '7', '7', '7', '8', '6', '8', '8', '8', '8', '8', '6', '8', '8', '7', '6', '8', '7', '8', '7', '6', '8', '8', '6', '7', '8', '7', '7', '9', '8', '8', '8', '7', '8', '8', '6', '6', '8', '7', '7', '7', '7', '8', '6', '8', '8', '9', '7', '7', '7', '8', '7', '8']\n"
     ]
    }
   ],
   "source": [
    "rate = driver.find_elements(By.XPATH,'//div[@class=\"ipl-rating-star small\"]/span[2]')\n",
    "for i in rate:\n",
    "    try:\n",
    "        ratings.append(i.text[0])\n",
    "    except:\n",
    "        ratings.append('-')\n",
    "print(len(ratings),ratings)"
   ]
  },
  {
   "cell_type": "code",
   "execution_count": 65,
   "id": "022b3e22",
   "metadata": {},
   "outputs": [
    {
     "name": "stdout",
     "output_type": "stream",
     "text": [
      "100 ['2,193,876', '1,267,542', '1,041,333', '306,061', '265,134', '312,755', '150,635', '326,834', '362,132', '440,293', '504,947', '837,834', '606,558', '962,776', '559,009', '173,774', '336,286', '330,209', '2,022,476', '341,245', '464,816', '559,512', '159,860', '157,996', '422,525', '231,358', '449,616', '458,952', '1,040,749', '708,266', '442,227', '403,952', '142,632', '127,512', '184,296', '159,202', '236,529', '519,535', '221,271', '458,795', '563,681', '67,636', '207,758', '518,977', '417,795', '86,056', '309,105', '262,071', '236,856', '222,280', '283,186', '744,827', '137,397', '354,026', '269,436', '575,110', '599,593', '487,156', '62,702', '114,307', '352,433', '77,040', '108,160', '249,254', '102,782', '106,411', '55,731', '152,713', '393,159', '340,000', '109,972', '262,030', '605,122', '110,066', '134,658', '597,613', '113,132', '252,409', '98,103', '24,061', '151,612', '176,825', '136,064', '39,900', '312,774', '122,814', '136,141', '77,500', '112,957', '213,844', '31,112', '193,350', '233,179', '815,121', '71,773', '52,458', '64,478', '210,163', '43,697', '263,790']\n"
     ]
    }
   ],
   "source": [
    "vote = driver.find_elements(By.XPATH,\"//div[@class='lister-item-content']/p[4]/span[2]\")\n",
    "for i in vote:\n",
    "    try:\n",
    "        Votes.append(i.text)\n",
    "    except:\n",
    "        Votes.append('-')\n",
    "print(len(Votes),Votes)"
   ]
  },
  {
   "cell_type": "code",
   "execution_count": 66,
   "id": "f38c2622",
   "metadata": {},
   "outputs": [],
   "source": [
    "driver.close()"
   ]
  },
  {
   "cell_type": "code",
   "execution_count": 68,
   "id": "1a7544b4",
   "metadata": {},
   "outputs": [
    {
     "data": {
      "text/html": [
       "<div>\n",
       "<style scoped>\n",
       "    .dataframe tbody tr th:only-of-type {\n",
       "        vertical-align: middle;\n",
       "    }\n",
       "\n",
       "    .dataframe tbody tr th {\n",
       "        vertical-align: top;\n",
       "    }\n",
       "\n",
       "    .dataframe thead th {\n",
       "        text-align: right;\n",
       "    }\n",
       "</style>\n",
       "<table border=\"1\" class=\"dataframe\">\n",
       "  <thead>\n",
       "    <tr style=\"text-align: right;\">\n",
       "      <th></th>\n",
       "      <th>Name</th>\n",
       "      <th>Year span</th>\n",
       "      <th>Genre</th>\n",
       "      <th>Run time</th>\n",
       "      <th>Ratings</th>\n",
       "      <th>Votes</th>\n",
       "    </tr>\n",
       "  </thead>\n",
       "  <tbody>\n",
       "    <tr>\n",
       "      <th>0</th>\n",
       "      <td>Game of Thrones</td>\n",
       "      <td>(2011–2019)</td>\n",
       "      <td>Action, Adventure, Drama</td>\n",
       "      <td>57 min</td>\n",
       "      <td>9</td>\n",
       "      <td>2,193,876</td>\n",
       "    </tr>\n",
       "    <tr>\n",
       "      <th>1</th>\n",
       "      <td>Stranger Things</td>\n",
       "      <td>(2016–2024)</td>\n",
       "      <td>Drama, Fantasy, Horror</td>\n",
       "      <td>51 min</td>\n",
       "      <td>8</td>\n",
       "      <td>1,267,542</td>\n",
       "    </tr>\n",
       "    <tr>\n",
       "      <th>2</th>\n",
       "      <td>The Walking Dead</td>\n",
       "      <td>(2010–2022)</td>\n",
       "      <td>Drama, Horror, Thriller</td>\n",
       "      <td>44 min</td>\n",
       "      <td>8</td>\n",
       "      <td>1,041,333</td>\n",
       "    </tr>\n",
       "    <tr>\n",
       "      <th>3</th>\n",
       "      <td>13 Reasons Why</td>\n",
       "      <td>(2017–2020)</td>\n",
       "      <td>Drama, Mystery, Thriller</td>\n",
       "      <td>60 min</td>\n",
       "      <td>7</td>\n",
       "      <td>306,061</td>\n",
       "    </tr>\n",
       "    <tr>\n",
       "      <th>4</th>\n",
       "      <td>The 100</td>\n",
       "      <td>(2014–2020)</td>\n",
       "      <td>Drama, Mystery, Sci-Fi</td>\n",
       "      <td>43 min</td>\n",
       "      <td>7</td>\n",
       "      <td>265,134</td>\n",
       "    </tr>\n",
       "    <tr>\n",
       "      <th>...</th>\n",
       "      <td>...</td>\n",
       "      <td>...</td>\n",
       "      <td>...</td>\n",
       "      <td>...</td>\n",
       "      <td>...</td>\n",
       "      <td>...</td>\n",
       "    </tr>\n",
       "    <tr>\n",
       "      <th>95</th>\n",
       "      <td>Reign</td>\n",
       "      <td>(2013–2017)</td>\n",
       "      <td>Drama</td>\n",
       "      <td>42 min</td>\n",
       "      <td>7</td>\n",
       "      <td>52,458</td>\n",
       "    </tr>\n",
       "    <tr>\n",
       "      <th>96</th>\n",
       "      <td>A Series of Unfortunate Events</td>\n",
       "      <td>(2017–2019)</td>\n",
       "      <td>Adventure, Comedy, Drama</td>\n",
       "      <td>50 min</td>\n",
       "      <td>7</td>\n",
       "      <td>64,478</td>\n",
       "    </tr>\n",
       "    <tr>\n",
       "      <th>97</th>\n",
       "      <td>Criminal Minds</td>\n",
       "      <td>(2005– )</td>\n",
       "      <td>Crime, Drama, Mystery</td>\n",
       "      <td>42 min</td>\n",
       "      <td>8</td>\n",
       "      <td>210,163</td>\n",
       "    </tr>\n",
       "    <tr>\n",
       "      <th>98</th>\n",
       "      <td>Scream: The TV Series</td>\n",
       "      <td>(2015–2019)</td>\n",
       "      <td>Comedy, Crime, Drama</td>\n",
       "      <td>45 min</td>\n",
       "      <td>7</td>\n",
       "      <td>43,697</td>\n",
       "    </tr>\n",
       "    <tr>\n",
       "      <th>99</th>\n",
       "      <td>The Haunting of Hill House</td>\n",
       "      <td>(2018)</td>\n",
       "      <td>Drama, Horror, Mystery</td>\n",
       "      <td>572 min</td>\n",
       "      <td>8</td>\n",
       "      <td>263,790</td>\n",
       "    </tr>\n",
       "  </tbody>\n",
       "</table>\n",
       "<p>100 rows × 6 columns</p>\n",
       "</div>"
      ],
      "text/plain": [
       "                              Name    Year span                     Genre  \\\n",
       "0                  Game of Thrones  (2011–2019)  Action, Adventure, Drama   \n",
       "1                  Stranger Things  (2016–2024)    Drama, Fantasy, Horror   \n",
       "2                 The Walking Dead  (2010–2022)   Drama, Horror, Thriller   \n",
       "3                   13 Reasons Why  (2017–2020)  Drama, Mystery, Thriller   \n",
       "4                          The 100  (2014–2020)    Drama, Mystery, Sci-Fi   \n",
       "..                             ...          ...                       ...   \n",
       "95                           Reign  (2013–2017)                     Drama   \n",
       "96  A Series of Unfortunate Events  (2017–2019)  Adventure, Comedy, Drama   \n",
       "97                  Criminal Minds     (2005– )     Crime, Drama, Mystery   \n",
       "98           Scream: The TV Series  (2015–2019)      Comedy, Crime, Drama   \n",
       "99      The Haunting of Hill House       (2018)    Drama, Horror, Mystery   \n",
       "\n",
       "   Run time Ratings      Votes  \n",
       "0    57 min       9  2,193,876  \n",
       "1    51 min       8  1,267,542  \n",
       "2    44 min       8  1,041,333  \n",
       "3    60 min       7    306,061  \n",
       "4    43 min       7    265,134  \n",
       "..      ...     ...        ...  \n",
       "95   42 min       7     52,458  \n",
       "96   50 min       7     64,478  \n",
       "97   42 min       8    210,163  \n",
       "98   45 min       7     43,697  \n",
       "99  572 min       8    263,790  \n",
       "\n",
       "[100 rows x 6 columns]"
      ]
     },
     "execution_count": 68,
     "metadata": {},
     "output_type": "execute_result"
    }
   ],
   "source": [
    "df = pd.DataFrame({'Name':name,'Year span':spans,'Genre':genre,'Run time':run,'Ratings':ratings,'Votes':Votes})\n",
    "df"
   ]
  },
  {
   "cell_type": "code",
   "execution_count": null,
   "id": "addd1034",
   "metadata": {},
   "outputs": [],
   "source": [
    "8"
   ]
  }
 ],
 "metadata": {
  "kernelspec": {
   "display_name": "Python 3 (ipykernel)",
   "language": "python",
   "name": "python3"
  },
  "language_info": {
   "codemirror_mode": {
    "name": "ipython",
    "version": 3
   },
   "file_extension": ".py",
   "mimetype": "text/x-python",
   "name": "python",
   "nbconvert_exporter": "python",
   "pygments_lexer": "ipython3",
   "version": "3.11.3"
  }
 },
 "nbformat": 4,
 "nbformat_minor": 5
}
